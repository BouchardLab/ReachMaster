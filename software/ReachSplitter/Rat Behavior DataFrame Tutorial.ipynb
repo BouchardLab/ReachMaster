{
 "cells": [
  {
   "cell_type": "markdown",
   "metadata": {},
   "source": [
    "# Rat Behavior DataFrame Docs\n",
    "###### Author: Brett Nelson NSDS lab\n",
    "#### The NSDS lab's rat reaching project collects a large variety of data pre and post data cleaning. This document is intended to highlight necessary datatypes, usage, and tips. More official documentation can be found at https://reachmaster.readthedocs.io/en/latest/ along with docstrings. Please note: Analysis_Utils.py must be in the same folder to currently work\n",
    "### Data is saved in a .h5 file format and imported using pandas. Data is imported using code found here https://reachmaster.readthedocs.io/en/latest/software/extraction/extraction.html"
   ]
  },
  {
   "cell_type": "code",
   "execution_count": 1,
   "metadata": {},
   "outputs": [],
   "source": [
    "import numpy as np\n",
    "import seaborn as sns\n",
    "import pandas as pd\n",
    "import pdb\n",
    "import matplotlib.pyplot as plt\n",
    "#import seaborn as sns\n",
    "from Analysis_Utils import preprocessing_df as preprocessing\n",
    "from Analysis_Utils import query_df\n",
    "import mpl_toolkits.mplot3d.axes3d as p3\n",
    "import matplotlib.animation as animation\n",
    "def import_robot_data(df_path):\n",
    "    df = pd.read_pickle(df_path)\n",
    "    df = preprocessing(df)\n",
    "    return df\n",
    "import ast\n",
    "df = import_robot_data('default_save_new_rightsample.pickle')\n",
    "\n",
    "\n"
   ]
  },
  {
   "cell_type": "code",
   "execution_count": null,
   "metadata": {},
   "outputs": [],
   "source": [
    "\n",
    "df['Date'][0]"
   ]
  },
  {
   "cell_type": "markdown",
   "metadata": {},
   "source": [
    "#### This is an example of one of the experimental variables (Date).  There are currently 23 variables, each composes a column inside the array."
   ]
  },
  {
   "cell_type": "code",
   "execution_count": null,
   "metadata": {},
   "outputs": [],
   "source": [
    "df.columns"
   ]
  },
  {
   "cell_type": "markdown",
   "metadata": {},
   "source": [
    "##### The dataframe is indexed by experiment number and within each block, an exposure index, which is arbitrary. The kinematic and experimental data are a 1:1 index match. Trials can be cut by using the r_start and r_stop values. \n",
    "\n"
   ]
  },
  {
   "cell_type": "code",
   "execution_count": null,
   "metadata": {},
   "outputs": [],
   "source": []
  },
  {
   "cell_type": "code",
   "execution_count": 2,
   "metadata": {},
   "outputs": [
    {
     "data": {
      "text/plain": [
       "array([array([ 1,  2,  3,  4,  6,  7,  8, 10, 17, 18, 19, 20, 21, 22, 23, 24, 25,\n",
       "       26, 27, 28, 30, 31, 32, 33, 34, 35, 37, 38, 39, 40, 43, 44, 45, 46,\n",
       "       47, 48], dtype=int64)], dtype=object)"
      ]
     },
     "execution_count": 2,
     "metadata": {},
     "output_type": "execute_result"
    }
   ],
   "source": [
    "def get_single_trial(df,date,session,rat):\n",
    "    rr = df.loc[df['Date'] == date]\n",
    "    rr = rr.loc[rr['S'] == session]\n",
    "    new_df = rr.loc[rr['rat'] == rat]\n",
    "    return new_df\n",
    "ddv1=get_single_trial(df,'20','S1','RM14')\n",
    "\n",
    "ddv2=get_single_trial(df,'20','S2','RM14')\n",
    "\n",
    "ddv3=get_single_trial(df,'20','S3','RM16')\n",
    "ddv3['SF'].values"
   ]
  },
  {
   "cell_type": "code",
   "execution_count": 25,
   "metadata": {},
   "outputs": [
    {
     "data": {
      "text/plain": [
       "90647"
      ]
     },
     "execution_count": 25,
     "metadata": {},
     "output_type": "execute_result"
    }
   ],
   "source": [
    "ddv3['r_start'].to_list()[0][46] # total # trials"
   ]
  },
  {
   "cell_type": "code",
   "execution_count": 22,
   "metadata": {},
   "outputs": [
    {
     "data": {
      "text/plain": [
       "array([list([2442, 3792, 4758, 6728, 8703, 10247, 15116, 16060, 17122, 18898, 20058, 21368, 22498, 23854, 27652, 28578, 29725, 31685, 32556, 34477, 36682, 39385, 43744, 44766, 45760, 46854, 49390, 50276, 51204, 54368, 58262, 59206, 60172, 67469, 68432, 69394, 70502, 74891, 76585, 80346, 81264, 82748, 84486, 91868, 93225, 94903])],\n",
       "      dtype=object)"
      ]
     },
     "execution_count": 22,
     "metadata": {},
     "output_type": "execute_result"
    }
   ],
   "source": [
    "arshad_df=get_single_trial(df,'17','S4','RM16')\n",
    "arshad_df['r_start'].values"
   ]
  },
  {
   "cell_type": "code",
   "execution_count": 23,
   "metadata": {},
   "outputs": [
    {
     "data": {
      "text/plain": [
       "array([list([2937, 4241, 5213, 7288, 9279, 10692, 15578, 16603, 17658, 19371, 20596, 21952, 22986, 24290, 28127, 29092, 30174, 32125, 33075, 34948, 37188, 39836, 44228, 45234, 46238, 47306, 49845, 50742, 51728, 54858, 58766, 59718, 60678, 67958, 68919, 69867, 70966, 75419, 77316, 80820, 81839, 83239, 84956, 92373, 93686, 95395])],\n",
       "      dtype=object)"
      ]
     },
     "execution_count": 23,
     "metadata": {},
     "output_type": "execute_result"
    }
   ],
   "source": [
    "arshad_df['r_stop'].values"
   ]
  },
  {
   "cell_type": "code",
   "execution_count": 18,
   "metadata": {},
   "outputs": [],
   "source": [
    "brett_emily_df = get_single_trial(df,'19','S3','RM16')"
   ]
  },
  {
   "cell_type": "code",
   "execution_count": 20,
   "metadata": {},
   "outputs": [
    {
     "data": {
      "text/plain": [
       "array([list([1723, 5593, 7866, 8873, 10101, 12962, 14760, 15802, 17400, 18923, 20044, 24406, 26962, 27980, 29034, 30106, 38998, 40033, 45355, 46845, 50359, 58229, 59596, 60903, 62233, 66026, 67473, 68689, 70046, 71050, 72914, 74777, 81538, 82534, 83546, 85563, 86564, 87574, 89012, 90738, 91818])],\n",
       "      dtype=object)"
      ]
     },
     "execution_count": 20,
     "metadata": {},
     "output_type": "execute_result"
    }
   ],
   "source": [
    "brett_emily_df['r_start'].values"
   ]
  },
  {
   "cell_type": "code",
   "execution_count": 21,
   "metadata": {},
   "outputs": [
    {
     "data": {
      "text/plain": [
       "array([list([2284, 6156, 8441, 9426, 10665, 13524, 15351, 16431, 17964, 19485, 20604, 24969, 27521, 28536, 29596, 30665, 39591, 40594, 45914, 47405, 50949, 58793, 60427, 61466, 62790, 66600, 68046, 69260, 70617, 71622, 73501, 75368, 82106, 83114, 84118, 86134, 87134, 88173, 89584, 91390, 92387])],\n",
       "      dtype=object)"
      ]
     },
     "execution_count": 21,
     "metadata": {},
     "output_type": "execute_result"
    }
   ],
   "source": [
    "brett_emily_df['r_stop'].values"
   ]
  },
  {
   "cell_type": "code",
   "execution_count": null,
   "metadata": {},
   "outputs": [],
   "source": [
    "print(unique_pos,unique_pos1,unique_pos2)"
   ]
  },
  {
   "cell_type": "code",
   "execution_count": null,
   "metadata": {},
   "outputs": [],
   "source": [
    "# plot experimental positions\n",
    "from mpl_toolkits.mplot3d import Axes3D\n",
    "sns.set_style(\"whitegrid\", {'axes.grid' : False})\n",
    "\n",
    "fig = plt.figure(figsize=(6,6))\n",
    "\n",
    "ax = Axes3D(fig)\n",
    "ax.scatter(unique_pos[:,0],unique_pos[:,1],unique_pos[:,2], c='r',\n",
    "               marker='o')\n",
    "ax.scatter(unique_pos1[:,0],unique_pos1[:,1],unique_pos1[:,2], c='g',\n",
    "               marker='x')\n",
    "ax.scatter(unique_pos2[:,0],unique_pos2[:,1],unique_pos2[:,2], c='b',marker='v')\n",
    "\n",
    "ax.set_xlabel('X CM')\n",
    "ax.set_ylabel('Y CM')\n",
    "ax.set_zlabel('Z CM')\n",
    "plt.title('Handle locations in potentiometer space, S1, 9/25, RM14')"
   ]
  },
  {
   "cell_type": "code",
   "execution_count": null,
   "metadata": {},
   "outputs": [],
   "source": []
  },
  {
   "cell_type": "markdown",
   "metadata": {},
   "source": [
    "## Above, we have the data from a single experimental session (the third session of 9/25 using Rat 16). This is the building block from where building our analysis should stem (single experimental blocks). Variables from within a column can be called throug the 0 element of the values function. This returns a matrix (usually) of some length T.\n"
   ]
  },
  {
   "cell_type": "code",
   "execution_count": null,
   "metadata": {},
   "outputs": [],
   "source": [
    "ddv1['SF'].values[0]"
   ]
  },
  {
   "cell_type": "markdown",
   "metadata": {},
   "source": []
  },
  {
   "cell_type": "code",
   "execution_count": null,
   "metadata": {},
   "outputs": [],
   "source": []
  },
  {
   "cell_type": "code",
   "execution_count": null,
   "metadata": {},
   "outputs": [],
   "source": []
  },
  {
   "cell_type": "markdown",
   "metadata": {},
   "source": [
    "### Each variable is unique to the experiment, but some variables are catagorical that should be used for indexing. \n",
    "## rat\tS\tDate\tdim\ttime\tm_start\tm_stop\tSF\tt_m\tlick\tx_p\ty_p\tz_p\tx0\ty0\tz0\tmoving\tRW\tr_start\tr_stop\n",
    "\n",
    "#### rat - starts with 'RMXX' , should be able to index and sort by date\n",
    "#### Date - starts with '1X', '2X', should be able to index and sort by date\n",
    "#### dim - 0, 3, should be able to index, sort by dim\n",
    "#### SF - this is a vector of the indices of correct trials (super confusing I know) it looks like [2, 5, 12], where 2, 5 and 12 are (you guessed it) successful trials in the experiment. \n",
    "#### lick - vector of times rat licks [23.24, 24.32..] from potentiometer data\n",
    "#### x_p, y_p, z_p - vectors of potentiometer readings\n",
    "#### r_start, r_stop - These are vectors containing the indices of Trial start/stop frames (these are the indices used to slice kinematic data) \n",
    "#### We will use use r_start and r_start, in combination with the SF indices and lick data, to obtain kinematic data from all behavioral epochs in our experiment. \n"
   ]
  },
  {
   "cell_type": "markdown",
   "metadata": {},
   "source": [
    "## Kinematic Data: to 3-D and Beyond!\n",
    "### Our reaching data is in 3-D!! To read more about how this data is collected, check here at https://reachmaster.readthedocs.io/en/latest/software/preprocessing/preprocessing.html#module-video_data.DLC.AV\n",
    "\n",
    "\n",
    "\n",
    "## Below is an example dataframe from RM11, S1, 9/18 (18 Date)"
   ]
  },
  {
   "cell_type": "code",
   "execution_count": null,
   "metadata": {},
   "outputs": [],
   "source": [
    "kinematic_df=pd.read_hdf('RM16_kinematics.h5')\n",
    "kinematic_df.head()"
   ]
  },
  {
   "cell_type": "markdown",
   "metadata": {},
   "source": [
    "## DeepLabCut outputs x,y predictions for each camera video feed for an entire experimental block,regardless of the rat being present or not. This data is then transformed into 3-D coordinates using a field calibration DLT methodology, which we have documented extensivel. As the rat is not present in the reaching area much of the video, a good deal of the kinematic data will be just noise.\n",
    "\n",
    "## There are 8 columns, 4 of which matter. X,Y,Z are the 3-D reconstructed predicted positions of the NAME column bodypart (eg Shoulder 1, Palm 2..) and the probability interval (prob_x,prob_y,prob_z) from each camera. The RMSE of reconstruction error is also included and a median of probabilities, but these features are redundant and should be ignored.\n",
    "\n",
    "## Trials can be cut from this kinematic data by using the r_start and r_stop indices from the robot data. Each row index of these columns corresponds to the start and stop index of a trial in the kinematic data. Success or Fail can be access through the robot dataframe variable 'SF' as well.\n",
    "\n",
    "\n",
    "## I recommend examining blocks and trials in-depth using the trial visualization tool https://github.com/BouchardLab/ReachMaster/blob/development/software/HDF%20File%20Scripts/Trial%20Visualization.ipynb"
   ]
  },
  {
   "cell_type": "code",
   "execution_count": null,
   "metadata": {},
   "outputs": [],
   "source": []
  }
 ],
 "metadata": {
  "kernelspec": {
   "display_name": "Python 3",
   "language": "python",
   "name": "python3"
  },
  "language_info": {
   "codemirror_mode": {
    "name": "ipython",
    "version": 3
   },
   "file_extension": ".py",
   "mimetype": "text/x-python",
   "name": "python",
   "nbconvert_exporter": "python",
   "pygments_lexer": "ipython3",
   "version": "3.7.9"
  }
 },
 "nbformat": 4,
 "nbformat_minor": 2
}
