{
 "cells": [
  {
   "cell_type": "markdown",
   "metadata": {},
   "source": [
    "# ReachMaster Block Analysis\n",
    "## Intended to use repeatedly on single trial blocks of video, kinematic, and experiment data.\n",
    "\n",
    "## Items required to run: Experimental dataframe, Kinematic dataframe, block video of known date/session/rat\n",
    "\n",
    "## The following code : imports and utilize experimental data to coarsely segment trial video blocks into fine trials. Additional blocks save the images and video for each trial into a folder the user generated name information for. The final blocks import the kinematic data for a given rat (the rat you are examining in the video ex RM16) and visualize data across blocks and for a given trial. "
   ]
  },
  {
   "cell_type": "code",
   "execution_count": 1,
   "metadata": {},
   "outputs": [
    {
     "name": "stderr",
     "output_type": "stream",
     "text": [
      "No artists with labels found to put in legend.  Note that artists whose label start with an underscore are ignored when legend() is called with no argument.\n"
     ]
    },
    {
     "name": "stdout",
     "output_type": "stream",
     "text": [
      "Hooked block positions for date  0190920     and session  S1\n",
      "Number of Trials: 50\n",
      "Split Trial1 Video\n",
      "Finished Plotting!   1\n",
      "Right Palm Reach\n",
      "R\n",
      "1 264 1\n"
     ]
    },
    {
     "name": "stderr",
     "output_type": "stream",
     "text": [
      "IMAGEIO FFMPEG_WRITER WARNING: input image is not divisible by macro_block_size=16, resizing from (638, 810) to (640, 816) to ensure video compatibility with most codecs and players. To prevent resizing, make your input image divisible by the macro_block_size or set the macro_block_size to 1 (risking incompatibility).\n"
     ]
    },
    {
     "name": "stdout",
     "output_type": "stream",
     "text": [
      "Reaching GIF made for reach 0in trial 1\n",
      "Split Trial2 Video\n",
      "Finished Plotting!   2\n",
      "Right Palm Reach\n",
      "R\n",
      "[] 168 2\n",
      "No Reach Detected.\n"
     ]
    },
    {
     "name": "stderr",
     "output_type": "stream",
     "text": [
      "IMAGEIO FFMPEG_WRITER WARNING: input image is not divisible by macro_block_size=16, resizing from (638, 810) to (640, 816) to ensure video compatibility with most codecs and players. To prevent resizing, make your input image divisible by the macro_block_size or set the macro_block_size to 1 (risking incompatibility).\n"
     ]
    },
    {
     "name": "stdout",
     "output_type": "stream",
     "text": [
      "Reaching GIF made for reach 0in trial 2\n",
      "Split Trial3 Video\n",
      "Finished Plotting!   3\n",
      "Left Palm Reach\n",
      "L\n",
      "1 119 1\n"
     ]
    },
    {
     "name": "stderr",
     "output_type": "stream",
     "text": [
      "IMAGEIO FFMPEG_WRITER WARNING: input image is not divisible by macro_block_size=16, resizing from (638, 810) to (640, 816) to ensure video compatibility with most codecs and players. To prevent resizing, make your input image divisible by the macro_block_size or set the macro_block_size to 1 (risking incompatibility).\n"
     ]
    },
    {
     "name": "stdout",
     "output_type": "stream",
     "text": [
      "Reaching GIF made for reach 0in trial 3\n",
      "Split Trial4 Video\n",
      "Finished Plotting!   4\n",
      "Left Palm Reach\n",
      "L\n",
      "1 106 1\n"
     ]
    },
    {
     "name": "stderr",
     "output_type": "stream",
     "text": [
      "IMAGEIO FFMPEG_WRITER WARNING: input image is not divisible by macro_block_size=16, resizing from (638, 810) to (640, 816) to ensure video compatibility with most codecs and players. To prevent resizing, make your input image divisible by the macro_block_size or set the macro_block_size to 1 (risking incompatibility).\n"
     ]
    },
    {
     "name": "stdout",
     "output_type": "stream",
     "text": [
      "Reaching GIF made for reach 0in trial 4\n",
      "Split Trial5 Video\n",
      "Finished Plotting!   5\n",
      "Left Palm Reach\n",
      "L\n",
      "1 138 1\n"
     ]
    },
    {
     "name": "stderr",
     "output_type": "stream",
     "text": [
      "IMAGEIO FFMPEG_WRITER WARNING: input image is not divisible by macro_block_size=16, resizing from (638, 810) to (640, 816) to ensure video compatibility with most codecs and players. To prevent resizing, make your input image divisible by the macro_block_size or set the macro_block_size to 1 (risking incompatibility).\n"
     ]
    },
    {
     "name": "stdout",
     "output_type": "stream",
     "text": [
      "Reaching GIF made for reach 0in trial 5\n",
      "Split Trial6 Video\n",
      "Finished Plotting!   6\n",
      "Left Palm Reach\n",
      "Right Palm Reach\n",
      "LR\n",
      "126 452 9\n"
     ]
    },
    {
     "name": "stderr",
     "output_type": "stream",
     "text": [
      "IMAGEIO FFMPEG_WRITER WARNING: input image is not divisible by macro_block_size=16, resizing from (638, 810) to (640, 816) to ensure video compatibility with most codecs and players. To prevent resizing, make your input image divisible by the macro_block_size or set the macro_block_size to 1 (risking incompatibility).\n"
     ]
    },
    {
     "name": "stdout",
     "output_type": "stream",
     "text": [
      "Reaching GIF made for reach 0in trial 6\n",
      "Split Trial7 Video\n",
      "Finished Plotting!   7\n",
      "No LR\n",
      "0 200 0\n",
      "No Reach Detected.\n"
     ]
    },
    {
     "name": "stderr",
     "output_type": "stream",
     "text": [
      "IMAGEIO FFMPEG_WRITER WARNING: input image is not divisible by macro_block_size=16, resizing from (638, 810) to (640, 816) to ensure video compatibility with most codecs and players. To prevent resizing, make your input image divisible by the macro_block_size or set the macro_block_size to 1 (risking incompatibility).\n"
     ]
    },
    {
     "name": "stdout",
     "output_type": "stream",
     "text": [
      "Reaching GIF made for reach 0in trial 7\n",
      "Split Trial8 Video\n",
      "Finished Plotting!   8\n",
      "Left Palm Reach\n",
      "Right Palm Reach\n",
      "LR\n",
      "17 229 6\n"
     ]
    },
    {
     "name": "stderr",
     "output_type": "stream",
     "text": [
      "IMAGEIO FFMPEG_WRITER WARNING: input image is not divisible by macro_block_size=16, resizing from (638, 810) to (640, 816) to ensure video compatibility with most codecs and players. To prevent resizing, make your input image divisible by the macro_block_size or set the macro_block_size to 1 (risking incompatibility).\n"
     ]
    },
    {
     "name": "stdout",
     "output_type": "stream",
     "text": [
      "Reaching GIF made for reach 0in trial 8\n",
      "Split Trial9 Video\n",
      "Finished Plotting!   9\n",
      "No LR\n",
      "0 200 0\n",
      "No Reach Detected.\n"
     ]
    },
    {
     "name": "stderr",
     "output_type": "stream",
     "text": [
      "IMAGEIO FFMPEG_WRITER WARNING: input image is not divisible by macro_block_size=16, resizing from (638, 810) to (640, 816) to ensure video compatibility with most codecs and players. To prevent resizing, make your input image divisible by the macro_block_size or set the macro_block_size to 1 (risking incompatibility).\n"
     ]
    },
    {
     "name": "stdout",
     "output_type": "stream",
     "text": [
      "Reaching GIF made for reach 0in trial 9\n",
      "Split Trial10 Video\n",
      "Finished Plotting!   10\n",
      "Left Palm Reach\n",
      "L\n",
      "1 195 2\n"
     ]
    },
    {
     "name": "stderr",
     "output_type": "stream",
     "text": [
      "IMAGEIO FFMPEG_WRITER WARNING: input image is not divisible by macro_block_size=16, resizing from (638, 810) to (640, 816) to ensure video compatibility with most codecs and players. To prevent resizing, make your input image divisible by the macro_block_size or set the macro_block_size to 1 (risking incompatibility).\n"
     ]
    },
    {
     "name": "stdout",
     "output_type": "stream",
     "text": [
      "Reaching GIF made for reach 0in trial 10\n",
      "Split Trial11 Video\n",
      "Finished Plotting!   11\n",
      "Left Palm Reach\n",
      "Right Palm Reach\n",
      "LR\n",
      "292 625 12\n"
     ]
    },
    {
     "name": "stderr",
     "output_type": "stream",
     "text": [
      "IMAGEIO FFMPEG_WRITER WARNING: input image is not divisible by macro_block_size=16, resizing from (638, 810) to (640, 816) to ensure video compatibility with most codecs and players. To prevent resizing, make your input image divisible by the macro_block_size or set the macro_block_size to 1 (risking incompatibility).\n"
     ]
    },
    {
     "name": "stdout",
     "output_type": "stream",
     "text": [
      "Reaching GIF made for reach 0in trial 11\n",
      "Split Trial12 Video\n",
      "Finished Plotting!   12\n",
      "Left Palm Reach\n",
      "Right Palm Reach\n",
      "LR\n",
      "11 261 6\n"
     ]
    },
    {
     "name": "stderr",
     "output_type": "stream",
     "text": [
      "IMAGEIO FFMPEG_WRITER WARNING: input image is not divisible by macro_block_size=16, resizing from (638, 810) to (640, 816) to ensure video compatibility with most codecs and players. To prevent resizing, make your input image divisible by the macro_block_size or set the macro_block_size to 1 (risking incompatibility).\n"
     ]
    },
    {
     "name": "stdout",
     "output_type": "stream",
     "text": [
      "Reaching GIF made for reach 0in trial 12\n",
      "Split Trial13 Video\n",
      "Finished Plotting!   13\n",
      "Left Palm Reach\n",
      "Right Palm Reach\n",
      "LR\n",
      "1 542 8\n"
     ]
    },
    {
     "name": "stderr",
     "output_type": "stream",
     "text": [
      "IMAGEIO FFMPEG_WRITER WARNING: input image is not divisible by macro_block_size=16, resizing from (638, 810) to (640, 816) to ensure video compatibility with most codecs and players. To prevent resizing, make your input image divisible by the macro_block_size or set the macro_block_size to 1 (risking incompatibility).\n"
     ]
    },
    {
     "name": "stdout",
     "output_type": "stream",
     "text": [
      "Reaching GIF made for reach 0in trial 13\n",
      "Split Trial14 Video\n",
      "Finished Plotting!   14\n",
      "Left Palm Reach\n",
      "L\n",
      "8 218 2\n"
     ]
    },
    {
     "name": "stderr",
     "output_type": "stream",
     "text": [
      "IMAGEIO FFMPEG_WRITER WARNING: input image is not divisible by macro_block_size=16, resizing from (638, 810) to (640, 816) to ensure video compatibility with most codecs and players. To prevent resizing, make your input image divisible by the macro_block_size or set the macro_block_size to 1 (risking incompatibility).\n"
     ]
    },
    {
     "name": "stdout",
     "output_type": "stream",
     "text": [
      "Reaching GIF made for reach 0in trial 14\n",
      "Split Trial15 Video\n",
      "Finished Plotting!   15\n",
      "No LR\n",
      "0 200 0\n",
      "No Reach Detected.\n"
     ]
    },
    {
     "name": "stderr",
     "output_type": "stream",
     "text": [
      "IMAGEIO FFMPEG_WRITER WARNING: input image is not divisible by macro_block_size=16, resizing from (638, 810) to (640, 816) to ensure video compatibility with most codecs and players. To prevent resizing, make your input image divisible by the macro_block_size or set the macro_block_size to 1 (risking incompatibility).\n"
     ]
    },
    {
     "name": "stdout",
     "output_type": "stream",
     "text": [
      "Reaching GIF made for reach 0in trial 15\n",
      "Split Trial16 Video\n",
      "Finished Plotting!   16\n",
      "Left Palm Reach\n",
      "L\n",
      "1 183 1\n"
     ]
    },
    {
     "name": "stderr",
     "output_type": "stream",
     "text": [
      "IMAGEIO FFMPEG_WRITER WARNING: input image is not divisible by macro_block_size=16, resizing from (638, 810) to (640, 816) to ensure video compatibility with most codecs and players. To prevent resizing, make your input image divisible by the macro_block_size or set the macro_block_size to 1 (risking incompatibility).\n"
     ]
    },
    {
     "name": "stdout",
     "output_type": "stream",
     "text": [
      "Reaching GIF made for reach 0in trial 16\n",
      "Split Trial17 Video\n",
      "Finished Plotting!   17\n",
      "Left Palm Reach\n",
      "L\n",
      "278 476 2\n"
     ]
    },
    {
     "name": "stderr",
     "output_type": "stream",
     "text": [
      "IMAGEIO FFMPEG_WRITER WARNING: input image is not divisible by macro_block_size=16, resizing from (638, 810) to (640, 816) to ensure video compatibility with most codecs and players. To prevent resizing, make your input image divisible by the macro_block_size or set the macro_block_size to 1 (risking incompatibility).\n"
     ]
    },
    {
     "name": "stdout",
     "output_type": "stream",
     "text": [
      "Reaching GIF made for reach 0in trial 17\n",
      "Split Trial18 Video\n",
      "Finished Plotting!   18\n",
      "Left Palm Reach\n",
      "L\n",
      "35 305 2\n"
     ]
    },
    {
     "name": "stderr",
     "output_type": "stream",
     "text": [
      "IMAGEIO FFMPEG_WRITER WARNING: input image is not divisible by macro_block_size=16, resizing from (638, 810) to (640, 816) to ensure video compatibility with most codecs and players. To prevent resizing, make your input image divisible by the macro_block_size or set the macro_block_size to 1 (risking incompatibility).\n"
     ]
    },
    {
     "name": "stdout",
     "output_type": "stream",
     "text": [
      "Reaching GIF made for reach 0in trial 18\n",
      "Split Trial19 Video\n",
      "Finished Plotting!   19\n",
      "Left Palm Reach\n",
      "L\n",
      "460 658 8\n"
     ]
    },
    {
     "name": "stderr",
     "output_type": "stream",
     "text": [
      "IMAGEIO FFMPEG_WRITER WARNING: input image is not divisible by macro_block_size=16, resizing from (638, 810) to (640, 816) to ensure video compatibility with most codecs and players. To prevent resizing, make your input image divisible by the macro_block_size or set the macro_block_size to 1 (risking incompatibility).\n"
     ]
    },
    {
     "name": "stdout",
     "output_type": "stream",
     "text": [
      "Reaching GIF made for reach 0in trial 19\n",
      "Split Trial20 Video\n",
      "Finished Plotting!   20\n",
      "Left Palm Reach\n",
      "Right Palm Reach\n",
      "LR\n",
      "1 120 3\n"
     ]
    },
    {
     "name": "stderr",
     "output_type": "stream",
     "text": [
      "IMAGEIO FFMPEG_WRITER WARNING: input image is not divisible by macro_block_size=16, resizing from (638, 810) to (640, 816) to ensure video compatibility with most codecs and players. To prevent resizing, make your input image divisible by the macro_block_size or set the macro_block_size to 1 (risking incompatibility).\n"
     ]
    },
    {
     "name": "stdout",
     "output_type": "stream",
     "text": [
      "Reaching GIF made for reach 0in trial 20\n",
      "Split Trial21 Video\n",
      "Finished Plotting!   21\n",
      "Left Palm Reach\n",
      "Right Palm Reach\n",
      "LR\n",
      "71 265 5\n"
     ]
    },
    {
     "name": "stderr",
     "output_type": "stream",
     "text": [
      "IMAGEIO FFMPEG_WRITER WARNING: input image is not divisible by macro_block_size=16, resizing from (638, 810) to (640, 816) to ensure video compatibility with most codecs and players. To prevent resizing, make your input image divisible by the macro_block_size or set the macro_block_size to 1 (risking incompatibility).\n"
     ]
    },
    {
     "name": "stdout",
     "output_type": "stream",
     "text": [
      "Reaching GIF made for reach 0in trial 21\n",
      "Split Trial22 Video\n",
      "Finished Plotting!   22\n",
      "Left Palm Reach\n",
      "Right Palm Reach\n",
      "LR\n",
      "0 268 8\n",
      "No Reach Detected.\n"
     ]
    },
    {
     "name": "stderr",
     "output_type": "stream",
     "text": [
      "IMAGEIO FFMPEG_WRITER WARNING: input image is not divisible by macro_block_size=16, resizing from (638, 810) to (640, 816) to ensure video compatibility with most codecs and players. To prevent resizing, make your input image divisible by the macro_block_size or set the macro_block_size to 1 (risking incompatibility).\n"
     ]
    },
    {
     "name": "stdout",
     "output_type": "stream",
     "text": [
      "Reaching GIF made for reach 0in trial 22\n",
      "Split Trial23 Video\n",
      "Finished Plotting!   23\n",
      "No LR\n",
      "0 200 0\n",
      "No Reach Detected.\n"
     ]
    },
    {
     "name": "stderr",
     "output_type": "stream",
     "text": [
      "IMAGEIO FFMPEG_WRITER WARNING: input image is not divisible by macro_block_size=16, resizing from (638, 810) to (640, 816) to ensure video compatibility with most codecs and players. To prevent resizing, make your input image divisible by the macro_block_size or set the macro_block_size to 1 (risking incompatibility).\n"
     ]
    },
    {
     "name": "stdout",
     "output_type": "stream",
     "text": [
      "Reaching GIF made for reach 0in trial 23\n",
      "Split Trial24 Video\n",
      "Finished Plotting!   24\n",
      "Left Palm Reach\n",
      "L\n",
      "1 168 3\n"
     ]
    },
    {
     "name": "stderr",
     "output_type": "stream",
     "text": [
      "IMAGEIO FFMPEG_WRITER WARNING: input image is not divisible by macro_block_size=16, resizing from (638, 810) to (640, 816) to ensure video compatibility with most codecs and players. To prevent resizing, make your input image divisible by the macro_block_size or set the macro_block_size to 1 (risking incompatibility).\n"
     ]
    },
    {
     "name": "stdout",
     "output_type": "stream",
     "text": [
      "Reaching GIF made for reach 0in trial 24\n",
      "Split Trial25 Video\n",
      "Finished Plotting!   25\n",
      "Left Palm Reach\n",
      "L\n",
      "1 234 2\n"
     ]
    },
    {
     "name": "stderr",
     "output_type": "stream",
     "text": [
      "IMAGEIO FFMPEG_WRITER WARNING: input image is not divisible by macro_block_size=16, resizing from (638, 810) to (640, 816) to ensure video compatibility with most codecs and players. To prevent resizing, make your input image divisible by the macro_block_size or set the macro_block_size to 1 (risking incompatibility).\n"
     ]
    },
    {
     "name": "stdout",
     "output_type": "stream",
     "text": [
      "Reaching GIF made for reach 0in trial 25\n",
      "Split Trial26 Video\n",
      "Finished Plotting!   26\n",
      "Left Palm Reach\n",
      "L\n",
      "1 174 2\n"
     ]
    },
    {
     "name": "stderr",
     "output_type": "stream",
     "text": [
      "IMAGEIO FFMPEG_WRITER WARNING: input image is not divisible by macro_block_size=16, resizing from (638, 810) to (640, 816) to ensure video compatibility with most codecs and players. To prevent resizing, make your input image divisible by the macro_block_size or set the macro_block_size to 1 (risking incompatibility).\n"
     ]
    },
    {
     "name": "stdout",
     "output_type": "stream",
     "text": [
      "Reaching GIF made for reach 0in trial 26\n",
      "Split Trial27 Video\n",
      "Finished Plotting!   27\n",
      "No LR\n",
      "0 200 0\n",
      "No Reach Detected.\n"
     ]
    },
    {
     "name": "stderr",
     "output_type": "stream",
     "text": [
      "IMAGEIO FFMPEG_WRITER WARNING: input image is not divisible by macro_block_size=16, resizing from (638, 810) to (640, 816) to ensure video compatibility with most codecs and players. To prevent resizing, make your input image divisible by the macro_block_size or set the macro_block_size to 1 (risking incompatibility).\n"
     ]
    },
    {
     "name": "stdout",
     "output_type": "stream",
     "text": [
      "Reaching GIF made for reach 0in trial 27\n",
      "Split Trial28 Video\n",
      "Finished Plotting!   28\n",
      "Left Palm Reach\n",
      "Right Palm Reach\n"
     ]
    },
    {
     "ename": "ValueError",
     "evalue": "The truth value of an array with more than one element is ambiguous. Use a.any() or a.all()",
     "output_type": "error",
     "traceback": [
      "\u001b[1;31m---------------------------------------------------------------------------\u001b[0m",
      "\u001b[1;31mValueError\u001b[0m                                Traceback (most recent call last)",
      "\u001b[1;32m<ipython-input-1-86fd25423039>\u001b[0m in \u001b[0;36m<module>\u001b[1;34m\u001b[0m\n\u001b[0;32m      9\u001b[0m \u001b[0mrat\u001b[0m \u001b[1;33m=\u001b[0m \u001b[1;34m'RM14'\u001b[0m\u001b[1;33m\u001b[0m\u001b[1;33m\u001b[0m\u001b[0m\n\u001b[0;32m     10\u001b[0m \u001b[0mR\u001b[0m \u001b[1;33m=\u001b[0m \u001b[0mReachViz\u001b[0m\u001b[1;33m(\u001b[0m\u001b[0mdate\u001b[0m\u001b[1;33m,\u001b[0m\u001b[0msession\u001b[0m\u001b[1;33m,\u001b[0m\u001b[0mexp_datafile\u001b[0m\u001b[1;33m,\u001b[0m \u001b[0mblock_video_file\u001b[0m\u001b[1;33m,\u001b[0m\u001b[0mkin_file\u001b[0m\u001b[1;33m,\u001b[0m \u001b[0mrat\u001b[0m\u001b[1;33m)\u001b[0m\u001b[1;33m\u001b[0m\u001b[1;33m\u001b[0m\u001b[0m\n\u001b[1;32m---> 11\u001b[1;33m \u001b[0mreach_array\u001b[0m \u001b[1;33m=\u001b[0m \u001b[0mR\u001b[0m\u001b[1;33m.\u001b[0m\u001b[0mvid_splitter_and_grapher\u001b[0m\u001b[1;33m(\u001b[0m\u001b[0mplot\u001b[0m\u001b[1;33m=\u001b[0m\u001b[1;32mFalse\u001b[0m\u001b[1;33m,\u001b[0m\u001b[0mtimeseries_plot\u001b[0m \u001b[1;33m=\u001b[0m \u001b[1;32mFalse\u001b[0m\u001b[1;33m,\u001b[0m \u001b[0mplot_reach\u001b[0m\u001b[1;33m=\u001b[0m\u001b[1;32mTrue\u001b[0m\u001b[1;33m)\u001b[0m\u001b[1;33m\u001b[0m\u001b[1;33m\u001b[0m\u001b[0m\n\u001b[0m\u001b[0;32m     12\u001b[0m \u001b[1;31m#df = R.get_reach_dataframe_from_block()\u001b[0m\u001b[1;33m\u001b[0m\u001b[1;33m\u001b[0m\u001b[1;33m\u001b[0m\u001b[0m\n\u001b[0;32m     13\u001b[0m \u001b[1;32mdef\u001b[0m \u001b[0mloop_over_rats_and_extract_reaches\u001b[0m\u001b[1;33m(\u001b[0m\u001b[0mprediction_dataframe\u001b[0m\u001b[1;33m,\u001b[0m \u001b[0me_dataframe\u001b[0m\u001b[1;33m,\u001b[0m \u001b[0mdummy_video_path\u001b[0m\u001b[1;33m,\u001b[0m \u001b[0mrat\u001b[0m\u001b[1;33m)\u001b[0m\u001b[1;33m:\u001b[0m\u001b[1;33m\u001b[0m\u001b[1;33m\u001b[0m\u001b[0m\n",
      "\u001b[1;32m~\\PycharmProjects\\ReachMaster\\software\\ReachSplitter\\ReachLoader.py\u001b[0m in \u001b[0;36mvid_splitter_and_grapher\u001b[1;34m(self, trial_num, plot, timeseries_plot, plot_reach, save_data)\u001b[0m\n\u001b[0;32m   1314\u001b[0m                 \u001b[0mself\u001b[0m\u001b[1;33m.\u001b[0m\u001b[0msplit_trial_video\u001b[0m\u001b[1;33m(\u001b[0m\u001b[0msts\u001b[0m\u001b[1;33m,\u001b[0m \u001b[0mstp\u001b[0m\u001b[1;33m)\u001b[0m\u001b[1;33m\u001b[0m\u001b[1;33m\u001b[0m\u001b[0m\n\u001b[0;32m   1315\u001b[0m                 \u001b[0mprint\u001b[0m\u001b[1;33m(\u001b[0m\u001b[1;34m'Split Trial'\u001b[0m \u001b[1;33m+\u001b[0m \u001b[0mstr\u001b[0m\u001b[1;33m(\u001b[0m\u001b[0mix\u001b[0m\u001b[1;33m)\u001b[0m \u001b[1;33m+\u001b[0m \u001b[1;34m' Video'\u001b[0m\u001b[1;33m)\u001b[0m\u001b[1;33m\u001b[0m\u001b[1;33m\u001b[0m\u001b[0m\n\u001b[1;32m-> 1316\u001b[1;33m                 \u001b[0mself\u001b[0m\u001b[1;33m.\u001b[0m\u001b[0msegment_and_filter_kinematic_block\u001b[0m\u001b[1;33m(\u001b[0m\u001b[0msts\u001b[0m\u001b[1;33m,\u001b[0m \u001b[0mstp\u001b[0m\u001b[1;33m)\u001b[0m\u001b[1;33m\u001b[0m\u001b[1;33m\u001b[0m\u001b[0m\n\u001b[0m\u001b[0;32m   1317\u001b[0m                 \u001b[1;31m# self.plot_verification_variables()\u001b[0m\u001b[1;33m\u001b[0m\u001b[1;33m\u001b[0m\u001b[1;33m\u001b[0m\u001b[0m\n\u001b[0;32m   1318\u001b[0m                 \u001b[1;31m# self.plot_velocities_against_probabilities()\u001b[0m\u001b[1;33m\u001b[0m\u001b[1;33m\u001b[0m\u001b[1;33m\u001b[0m\u001b[0m\n",
      "\u001b[1;32m~\\PycharmProjects\\ReachMaster\\software\\ReachSplitter\\ReachLoader.py\u001b[0m in \u001b[0;36msegment_reaches_with_speed_peaks\u001b[1;34m(self, block)\u001b[0m\n\u001b[0;32m    825\u001b[0m                     \u001b[0mbelow_reach_speed\u001b[0m \u001b[1;33m=\u001b[0m \u001b[0mself\u001b[0m\u001b[1;33m.\u001b[0m\u001b[0mright_palm_s\u001b[0m\u001b[1;33m[\u001b[0m\u001b[1;36m0\u001b[0m\u001b[1;33m:\u001b[0m\u001b[0mmax\u001b[0m\u001b[1;33m]\u001b[0m\u001b[1;33m\u001b[0m\u001b[1;33m\u001b[0m\u001b[0m\n\u001b[0;32m    826\u001b[0m                     \u001b[0mindex_below\u001b[0m \u001b[1;33m=\u001b[0m \u001b[0mnp\u001b[0m\u001b[1;33m.\u001b[0m\u001b[0mwhere\u001b[0m\u001b[1;33m(\u001b[0m\u001b[0mnp\u001b[0m\u001b[1;33m.\u001b[0m\u001b[0masarray\u001b[0m\u001b[1;33m(\u001b[0m\u001b[0mbelow_reach_speed\u001b[0m\u001b[1;33m)\u001b[0m \u001b[1;33m<\u001b[0m \u001b[1;36m0.1\u001b[0m\u001b[1;33m)\u001b[0m\u001b[1;33m[\u001b[0m\u001b[1;36m0\u001b[0m\u001b[1;33m]\u001b[0m\u001b[1;33m\u001b[0m\u001b[1;33m\u001b[0m\u001b[0m\n\u001b[1;32m--> 827\u001b[1;33m                     \u001b[0mright_palm_below_thresh\u001b[0m \u001b[1;33m=\u001b[0m \u001b[0mself\u001b[0m\u001b[1;33m.\u001b[0m\u001b[0mright_palm_maxima\u001b[0m\u001b[1;33m[\u001b[0m\u001b[0mir\u001b[0m\u001b[1;33m]\u001b[0m \u001b[1;33m-\u001b[0m \u001b[0mindex_below\u001b[0m \u001b[1;33m-\u001b[0m \u001b[0mstart_pad\u001b[0m\u001b[1;33m\u001b[0m\u001b[1;33m\u001b[0m\u001b[0m\n\u001b[0m\u001b[0;32m    828\u001b[0m                 \u001b[1;32mtry\u001b[0m\u001b[1;33m:\u001b[0m\u001b[1;33m\u001b[0m\u001b[1;33m\u001b[0m\u001b[0m\n\u001b[0;32m    829\u001b[0m                     \u001b[0mright_palm_below_thresh_after\u001b[0m \u001b[1;33m=\u001b[0m \u001b[0mself\u001b[0m\u001b[1;33m.\u001b[0m\u001b[0mright_palm_maxima\u001b[0m\u001b[1;33m[\u001b[0m\u001b[0mir\u001b[0m\u001b[1;33m]\u001b[0m \u001b[1;33m+\u001b[0m\u001b[0;31m \u001b[0m\u001b[0;31m\\\u001b[0m\u001b[1;33m\u001b[0m\u001b[1;33m\u001b[0m\u001b[0m\n",
      "\u001b[1;31mValueError\u001b[0m: The truth value of an array with more than one element is ambiguous. Use a.any() or a.all()"
     ]
    }
   ],
   "source": [
    "from ReachLoader import ReachViz\n",
    "import matplotlib.pyplot as plt\n",
    "    \n",
    "block_video_file = '/Users/bassp/OneDrive/Desktop/Classification Project/2019-09-20-S1-RM14_cam2DLC_FinalColors.mp4'\n",
    "kin_file = '/Users/bassp/OneDrive/Desktop/DataFrames/3D_positions_RM14.pkl'\n",
    "exp_datafile = '/Users/bassp/OneDrive/Desktop/DataFrames/RM14_expdf.pickle'\n",
    "date = '20'\n",
    "session = 'S1'\n",
    "rat = 'RM14'\n",
    "R = ReachViz(date,session,exp_datafile, block_video_file,kin_file, rat)\n",
    "reach_array = R.vid_splitter_and_grapher(plot=False,timeseries_plot = False, plot_reach=True)\n",
    "#df = R.get_reach_dataframe_from_block()\n",
    "def loop_over_rats_and_extract_reaches(prediction_dataframe, e_dataframe, dummy_video_path, rat):\n",
    "    save_path = '/Users/bassp/OneDrive/Desktop/Classification Project/reach_thresholds_RM15/'\n",
    "    # Get rat, date, session for each block we need to process.\n",
    "    k_dataframe = pd.read_pickle(prediction_dataframe)\n",
    "    for kk in k_dataframe:\n",
    "        session = kk.columns[2][1] \n",
    "        date = kk.columns[2][0][2:4]\n",
    "        print(session,date)\n",
    "        R = ReachViz(datez,session,e_dataframe, dummy_video_path,prediction_dataframe, rat)   \n",
    "    return\n",
    "\n",
    "# Check for reaches pre-trial (30 before trial start.)"
   ]
  },
  {
   "cell_type": "code",
   "execution_count": null,
   "metadata": {},
   "outputs": [],
   "source": [
    "print(total_rawspeed)\n"
   ]
  },
  {
   "cell_type": "code",
   "execution_count": null,
   "metadata": {},
   "outputs": [],
   "source": [
    "# \n",
    "import pickle\n",
    "from ReachLoader import ReachViz\n",
    "import pdb\n",
    "import pandas as pd\n",
    "\n",
    "dates = ['17','18','17','20','19','25','17','20','18','19','18','17','19']\n",
    "rats = [16,16,16,16,16,15,15,14,14,12,11,10,9]\n",
    "sessions = ['S1','S1','S2','S3','S3','S3','S4','S1','S2','S1','S4','S2','S3']\n",
    "block_video_file = '/Users/bassp/OneDrive/Desktop/Classification Project/2019-09-20-S1-RM14_cam2DLC_FinalColors.mp4'\n",
    "save_df_address = '/Users/bassp/OneDrive/Desktop/Sample_Reaches.pkl'\n",
    "kinematics_addresses = []\n",
    "exp_addresses = []\n",
    "DL(kinematics_addresses, exp_addresses)"
   ]
  },
  {
   "cell_type": "code",
   "execution_count": null,
   "metadata": {},
   "outputs": [],
   "source": [
    "\n",
    "\n"
   ]
  },
  {
   "cell_type": "code",
   "execution_count": null,
   "metadata": {},
   "outputs": [],
   "source": []
  },
  {
   "cell_type": "code",
   "execution_count": null,
   "metadata": {},
   "outputs": [],
   "source": []
  },
  {
   "cell_type": "code",
   "execution_count": null,
   "metadata": {},
   "outputs": [],
   "source": [
    "### Look at total histogram of p points for palm across entire block for RM14,15,16,13 \n",
    "### Histogram of total, histogram of reaching thresholded, histogram of non-reaching \n",
    "\n",
    "### Inside of each coarse catagory, Look @ velocities, histogram per trial the total # of filter points  reaching/non-reaching\n",
    "### Gaps: Extract binary mask (0, 1), distinguish between < 30 frame (under 10ms) and > 30 frame (over 10ms) segments \n",
    "### Measure velocity before/after interpolation\n",
    "### For each trial, show unsmoothed/smoothed x-y palm/forearm/wrist plot for reaching\n",
    "### For each reaching trial, take PC's of: Filtered 3-D coordinates/velocites, filtered 3-D coordinates/velocities for arm, PC weighting plot\n",
    "\n",
    "\n",
    "### Cut out the BW Video, predict w/ BW network, do 3-D reconstruction (look @ diff's)"
   ]
  },
  {
   "cell_type": "code",
   "execution_count": null,
   "metadata": {},
   "outputs": [],
   "source": [
    "import imageio\n",
    "import pdb\n",
    "images = []\n",
    "writer = imageio.get_writer('bw.mp4', fps=30)\n",
    "reader = imageio.get_reader(block_video_file)\n",
    "for img in reader.iter_data():\n",
    "    \n",
    "    writer.append_data(img[:,:,1]) # \"L\" channel\n",
    "writer.close()\n"
   ]
  },
  {
   "cell_type": "code",
   "execution_count": null,
   "metadata": {},
   "outputs": [],
   "source": [
    "def rz_length(rz_array,time_array):\n",
    "    ### Takes in matched length Reward Zone and Normalized Time arrays (m_times)\n",
    "        \n",
    "    ###\n",
    "    mask=np.zeros(len(time_array))\n",
    "    for ix,ct in enumerate(rz_array):\n",
    "        if ct == 1:\n",
    "            mask[ix]=1\n",
    "    # get rough amt of time spent in reward zone w/ # of exposures\n",
    "    # exposures are variable, but only to 4th float place so we are ok (ms)\n",
    "    rz_len = np. count_nonzero(mask == 1)\n",
    "    flip=0\n",
    "    for ji,jn in enumerate(mask):\n",
    "        try:\n",
    "            if jn == 1:\n",
    "                if mask[ji-1]==0:\n",
    "                    if mask[ji+1]==1:\n",
    "                        if mask[ji-20]==0:\n",
    "                            flip+=1\n",
    "        except:\n",
    "            flip=flip\n",
    "    return rz_len,flip\n",
    "        \n",
    "\n",
    "def trial_length(start,stop,sf):\n",
    "    t_length = []\n",
    "    reward_region = []\n",
    "    for i,x  in enumerate(start):\n",
    "        if i in sf:\n",
    "            t_length.append(stop[i]-x)\n",
    "            reward_region.append(stop[i]+200-x+50)\n",
    "    return t_length,reward_region\n",
    "\n"
   ]
  },
  {
   "cell_type": "code",
   "execution_count": null,
   "metadata": {},
   "outputs": [],
   "source": []
  },
  {
   "cell_type": "code",
   "execution_count": null,
   "metadata": {},
   "outputs": [],
   "source": []
  },
  {
   "cell_type": "code",
   "execution_count": null,
   "metadata": {},
   "outputs": [],
   "source": []
  },
  {
   "cell_type": "code",
   "execution_count": null,
   "metadata": {},
   "outputs": [],
   "source": []
  },
  {
   "cell_type": "code",
   "execution_count": null,
   "metadata": {},
   "outputs": [],
   "source": [
    "\n",
    "\n",
    "            \n"
   ]
  },
  {
   "cell_type": "code",
   "execution_count": null,
   "metadata": {},
   "outputs": [],
   "source": []
  },
  {
   "cell_type": "code",
   "execution_count": null,
   "metadata": {},
   "outputs": [],
   "source": []
  },
  {
   "cell_type": "code",
   "execution_count": null,
   "metadata": {},
   "outputs": [],
   "source": []
  },
  {
   "cell_type": "code",
   "execution_count": null,
   "metadata": {},
   "outputs": [],
   "source": []
  },
  {
   "cell_type": "code",
   "execution_count": null,
   "metadata": {},
   "outputs": [],
   "source": []
  },
  {
   "cell_type": "code",
   "execution_count": null,
   "metadata": {},
   "outputs": [],
   "source": []
  }
 ],
 "metadata": {
  "kernelspec": {
   "display_name": "Python 3",
   "language": "python",
   "name": "python3"
  },
  "language_info": {
   "codemirror_mode": {
    "name": "ipython",
    "version": 3
   },
   "file_extension": ".py",
   "mimetype": "text/x-python",
   "name": "python",
   "nbconvert_exporter": "python",
   "pygments_lexer": "ipython3",
   "version": "3.7.9"
  }
 },
 "nbformat": 4,
 "nbformat_minor": 4
}
