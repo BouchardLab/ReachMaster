{
 "cells": [
  {
   "cell_type": "markdown",
   "metadata": {},
   "source": [
    "# ReachMaster Block Analysis\n",
    "## Intended to use repeatedly on single trial blocks of video, kinematic, and experiment data.\n",
    "\n",
    "## Items required to run: Experimental dataframe, Kinematic dataframe, block video of known date/session/rat\n",
    "\n",
    "## The following code : imports and utilize experimental data to coarsely segment trial video blocks into fine trials. Additional blocks save the images and video for each trial into a folder the user generated name information for. The final blocks import the kinematic data for a given rat (the rat you are examining in the video ex RM16) and visualize data across blocks and for a given trial. "
   ]
  },
  {
   "cell_type": "code",
   "execution_count": 1,
   "metadata": {
    "scrolled": true
   },
   "outputs": [
    {
     "name": "stderr",
     "output_type": "stream",
     "text": [
      "No handles with labels found to put in legend.\n"
     ]
    },
    {
     "name": "stdout",
     "output_type": "stream",
     "text": [
      "Hooked block positions for date  0190920     and session  S1\n",
      "Number of Trials: 50\n",
      "Split Trial1 Video\n",
      "No left-handed reaches detected.\n",
      "[38] [79]\n",
      "> \u001b[1;32mc:\\users\\bassp\\pycharmprojects\\reachmaster\\software\\reachsplitter\\reachloader.py\u001b[0m(1087)\u001b[0;36mfind_start_and_peak_of_reach\u001b[1;34m()\u001b[0m\n",
      "\u001b[1;32m   1085 \u001b[1;33m        \u001b[0mpdb\u001b[0m\u001b[1;33m.\u001b[0m\u001b[0mset_trace\u001b[0m\u001b[1;33m(\u001b[0m\u001b[1;33m)\u001b[0m\u001b[1;33m\u001b[0m\u001b[1;33m\u001b[0m\u001b[0m\n",
      "\u001b[0m\u001b[1;32m   1086 \u001b[1;33m\u001b[1;33m\u001b[0m\u001b[0m\n",
      "\u001b[0m\u001b[1;32m-> 1087 \u001b[1;33m        \u001b[1;32mreturn\u001b[0m\u001b[1;33m\u001b[0m\u001b[1;33m\u001b[0m\u001b[0m\n",
      "\u001b[0m\u001b[1;32m   1088 \u001b[1;33m\u001b[1;33m\u001b[0m\u001b[0m\n",
      "\u001b[0m\u001b[1;32m   1089 \u001b[1;33m    \u001b[1;32mdef\u001b[0m \u001b[0msegment_reaches_with_position\u001b[0m\u001b[1;33m(\u001b[0m\u001b[0mself\u001b[0m\u001b[1;33m,\u001b[0m \u001b[0mposthresh\u001b[0m\u001b[1;33m=\u001b[0m\u001b[1;36m0.21\u001b[0m\u001b[1;33m,\u001b[0m \u001b[0mv_thresh\u001b[0m\u001b[1;33m=\u001b[0m\u001b[1;36m0.4\u001b[0m\u001b[1;33m,\u001b[0m \u001b[0mpthresh\u001b[0m\u001b[1;33m=\u001b[0m\u001b[1;36m0.35\u001b[0m\u001b[1;33m)\u001b[0m\u001b[1;33m:\u001b[0m\u001b[1;33m\u001b[0m\u001b[1;33m\u001b[0m\u001b[0m\n",
      "\u001b[0m\n",
      "ipdb> c\n",
      "Number of total reaches found through position thresholding is 2\n",
      "rewarded\n",
      "Bout\n",
      "rewarded\n",
      "Bout\n",
      "Finished Plotting!   1\n",
      "Split Trial2 Video\n",
      "No left-handed reaches detected.\n",
      "[69, 191, 191, 529] [41]\n",
      "> \u001b[1;32mc:\\users\\bassp\\pycharmprojects\\reachmaster\\software\\reachsplitter\\reachloader.py\u001b[0m(1087)\u001b[0;36mfind_start_and_peak_of_reach\u001b[1;34m()\u001b[0m\n",
      "\u001b[1;32m   1085 \u001b[1;33m\u001b[1;33m\u001b[0m\u001b[0m\n",
      "\u001b[0m\u001b[1;32m   1086 \u001b[1;33m        \u001b[1;32mreturn\u001b[0m\u001b[1;33m\u001b[0m\u001b[1;33m\u001b[0m\u001b[0m\n",
      "\u001b[0m\u001b[1;32m-> 1087 \u001b[1;33m\u001b[1;33m\u001b[0m\u001b[0m\n",
      "\u001b[0m\u001b[1;32m   1088 \u001b[1;33m    \u001b[1;32mdef\u001b[0m \u001b[0msegment_reaches_with_position\u001b[0m\u001b[1;33m(\u001b[0m\u001b[0mself\u001b[0m\u001b[1;33m,\u001b[0m \u001b[0mposthresh\u001b[0m\u001b[1;33m=\u001b[0m\u001b[1;36m0.21\u001b[0m\u001b[1;33m,\u001b[0m \u001b[0mv_thresh\u001b[0m\u001b[1;33m=\u001b[0m\u001b[1;36m0.4\u001b[0m\u001b[1;33m,\u001b[0m \u001b[0mpthresh\u001b[0m\u001b[1;33m=\u001b[0m\u001b[1;36m0.35\u001b[0m\u001b[1;33m)\u001b[0m\u001b[1;33m:\u001b[0m\u001b[1;33m\u001b[0m\u001b[1;33m\u001b[0m\u001b[0m\n",
      "\u001b[0m\u001b[1;32m   1089 \u001b[1;33m        \u001b[1;34m\"\"\" Function to segment out reaches using a positional and velocity threshold. \"\"\"\u001b[0m\u001b[1;33m\u001b[0m\u001b[1;33m\u001b[0m\u001b[0m\n",
      "\u001b[0m\n",
      "ipdb> exit\n"
     ]
    },
    {
     "ename": "BdbQuit",
     "evalue": "",
     "output_type": "error",
     "traceback": [
      "\u001b[1;31m---------------------------------------------------------------------------\u001b[0m",
      "\u001b[1;31mBdbQuit\u001b[0m                                   Traceback (most recent call last)",
      "\u001b[1;32m<ipython-input-1-1b2f6cff4358>\u001b[0m in \u001b[0;36m<module>\u001b[1;34m\u001b[0m\n\u001b[0;32m     11\u001b[0m \u001b[0mrat\u001b[0m \u001b[1;33m=\u001b[0m \u001b[1;34m'RM14'\u001b[0m\u001b[1;33m\u001b[0m\u001b[1;33m\u001b[0m\u001b[0m\n\u001b[0;32m     12\u001b[0m \u001b[0mR\u001b[0m \u001b[1;33m=\u001b[0m \u001b[0mReachViz\u001b[0m\u001b[1;33m(\u001b[0m\u001b[0mdate\u001b[0m\u001b[1;33m,\u001b[0m\u001b[0msession\u001b[0m\u001b[1;33m,\u001b[0m\u001b[0mexp_datafile\u001b[0m\u001b[1;33m,\u001b[0m \u001b[0mblock_video_file\u001b[0m\u001b[1;33m,\u001b[0m\u001b[0mkin_file\u001b[0m\u001b[1;33m,\u001b[0m \u001b[0mrat\u001b[0m\u001b[1;33m)\u001b[0m\u001b[1;33m\u001b[0m\u001b[1;33m\u001b[0m\u001b[0m\n\u001b[1;32m---> 13\u001b[1;33m \u001b[0mreach_array\u001b[0m \u001b[1;33m=\u001b[0m \u001b[0mR\u001b[0m\u001b[1;33m.\u001b[0m\u001b[0mvid_splitter_and_grapher\u001b[0m\u001b[1;33m(\u001b[0m\u001b[0mplot\u001b[0m\u001b[1;33m=\u001b[0m\u001b[1;32mFalse\u001b[0m\u001b[1;33m,\u001b[0m \u001b[0mplot_reach\u001b[0m\u001b[1;33m=\u001b[0m\u001b[1;32mFalse\u001b[0m\u001b[1;33m)\u001b[0m\u001b[1;33m\u001b[0m\u001b[1;33m\u001b[0m\u001b[0m\n\u001b[0m\u001b[0;32m     14\u001b[0m \u001b[1;31m#dd = R.get_reach_dataframe_from_block()\u001b[0m\u001b[1;33m\u001b[0m\u001b[1;33m\u001b[0m\u001b[1;33m\u001b[0m\u001b[0m\n\u001b[0;32m     15\u001b[0m \u001b[1;32mdef\u001b[0m \u001b[0mloop_over_rats_and_extract_reaches\u001b[0m\u001b[1;33m(\u001b[0m\u001b[0mprediction_dataframe\u001b[0m\u001b[1;33m,\u001b[0m \u001b[0me_dataframe\u001b[0m\u001b[1;33m,\u001b[0m \u001b[0mdummy_video_path\u001b[0m\u001b[1;33m,\u001b[0m \u001b[0mrat\u001b[0m\u001b[1;33m)\u001b[0m\u001b[1;33m:\u001b[0m\u001b[1;33m\u001b[0m\u001b[1;33m\u001b[0m\u001b[0m\n",
      "\u001b[1;32m~\\PycharmProjects\\ReachMaster\\software\\ReachSplitter\\ReachLoader.py\u001b[0m in \u001b[0;36mvid_splitter_and_grapher\u001b[1;34m(self, plot, timeseries_plot, plot_reach, trial_num)\u001b[0m\n\u001b[0;32m    934\u001b[0m                 \u001b[0mself\u001b[0m\u001b[1;33m.\u001b[0m\u001b[0mextract_sensor_data\u001b[0m\u001b[1;33m(\u001b[0m\u001b[0msts\u001b[0m\u001b[1;33m,\u001b[0m \u001b[0mstp\u001b[0m\u001b[1;33m)\u001b[0m\u001b[1;33m\u001b[0m\u001b[1;33m\u001b[0m\u001b[0m\n\u001b[0;32m    935\u001b[0m                 \u001b[0mself\u001b[0m\u001b[1;33m.\u001b[0m\u001b[0msegment_reaches_with_position\u001b[0m\u001b[1;33m(\u001b[0m\u001b[1;33m)\u001b[0m\u001b[1;33m\u001b[0m\u001b[1;33m\u001b[0m\u001b[0m\n\u001b[1;32m--> 936\u001b[1;33m                 \u001b[0mself\u001b[0m\u001b[1;33m.\u001b[0m\u001b[0mfind_start_and_peak_of_reach\u001b[0m\u001b[1;33m(\u001b[0m\u001b[1;33m)\u001b[0m\u001b[1;33m\u001b[0m\u001b[1;33m\u001b[0m\u001b[0m\n\u001b[0m\u001b[0;32m    937\u001b[0m                 \u001b[0mrr\u001b[0m \u001b[1;33m=\u001b[0m \u001b[0mself\u001b[0m\u001b[1;33m.\u001b[0m\u001b[0manalyze_and_classify_reach_vector\u001b[0m\u001b[1;33m(\u001b[0m\u001b[0msts\u001b[0m\u001b[1;33m)\u001b[0m\u001b[1;33m\u001b[0m\u001b[1;33m\u001b[0m\u001b[0m\n\u001b[0;32m    938\u001b[0m                 \u001b[0mprint\u001b[0m\u001b[1;33m(\u001b[0m\u001b[1;34m'Finished Plotting!   '\u001b[0m \u001b[1;33m+\u001b[0m \u001b[0mstr\u001b[0m\u001b[1;33m(\u001b[0m\u001b[0mix\u001b[0m\u001b[1;33m)\u001b[0m\u001b[1;33m)\u001b[0m\u001b[1;33m\u001b[0m\u001b[1;33m\u001b[0m\u001b[0m\n",
      "\u001b[1;32m~\\PycharmProjects\\ReachMaster\\software\\ReachSplitter\\ReachLoader.py\u001b[0m in \u001b[0;36mfind_start_and_peak_of_reach\u001b[1;34m(self)\u001b[0m\n\u001b[0;32m   1085\u001b[0m \u001b[1;33m\u001b[0m\u001b[0m\n\u001b[0;32m   1086\u001b[0m         \u001b[1;32mreturn\u001b[0m\u001b[1;33m\u001b[0m\u001b[1;33m\u001b[0m\u001b[0m\n\u001b[1;32m-> 1087\u001b[1;33m \u001b[1;33m\u001b[0m\u001b[0m\n\u001b[0m\u001b[0;32m   1088\u001b[0m     \u001b[1;32mdef\u001b[0m \u001b[0msegment_reaches_with_position\u001b[0m\u001b[1;33m(\u001b[0m\u001b[0mself\u001b[0m\u001b[1;33m,\u001b[0m \u001b[0mposthresh\u001b[0m\u001b[1;33m=\u001b[0m\u001b[1;36m0.21\u001b[0m\u001b[1;33m,\u001b[0m \u001b[0mv_thresh\u001b[0m\u001b[1;33m=\u001b[0m\u001b[1;36m0.4\u001b[0m\u001b[1;33m,\u001b[0m \u001b[0mpthresh\u001b[0m\u001b[1;33m=\u001b[0m\u001b[1;36m0.35\u001b[0m\u001b[1;33m)\u001b[0m\u001b[1;33m:\u001b[0m\u001b[1;33m\u001b[0m\u001b[1;33m\u001b[0m\u001b[0m\n\u001b[0;32m   1089\u001b[0m         \u001b[1;34m\"\"\" Function to segment out reaches using a positional and velocity threshold. \"\"\"\u001b[0m\u001b[1;33m\u001b[0m\u001b[1;33m\u001b[0m\u001b[0m\n",
      "\u001b[1;32m~\\PycharmProjects\\ReachMaster\\software\\ReachSplitter\\ReachLoader.py\u001b[0m in \u001b[0;36mfind_start_and_peak_of_reach\u001b[1;34m(self)\u001b[0m\n\u001b[0;32m   1085\u001b[0m \u001b[1;33m\u001b[0m\u001b[0m\n\u001b[0;32m   1086\u001b[0m         \u001b[1;32mreturn\u001b[0m\u001b[1;33m\u001b[0m\u001b[1;33m\u001b[0m\u001b[0m\n\u001b[1;32m-> 1087\u001b[1;33m \u001b[1;33m\u001b[0m\u001b[0m\n\u001b[0m\u001b[0;32m   1088\u001b[0m     \u001b[1;32mdef\u001b[0m \u001b[0msegment_reaches_with_position\u001b[0m\u001b[1;33m(\u001b[0m\u001b[0mself\u001b[0m\u001b[1;33m,\u001b[0m \u001b[0mposthresh\u001b[0m\u001b[1;33m=\u001b[0m\u001b[1;36m0.21\u001b[0m\u001b[1;33m,\u001b[0m \u001b[0mv_thresh\u001b[0m\u001b[1;33m=\u001b[0m\u001b[1;36m0.4\u001b[0m\u001b[1;33m,\u001b[0m \u001b[0mpthresh\u001b[0m\u001b[1;33m=\u001b[0m\u001b[1;36m0.35\u001b[0m\u001b[1;33m)\u001b[0m\u001b[1;33m:\u001b[0m\u001b[1;33m\u001b[0m\u001b[1;33m\u001b[0m\u001b[0m\n\u001b[0;32m   1089\u001b[0m         \u001b[1;34m\"\"\" Function to segment out reaches using a positional and velocity threshold. \"\"\"\u001b[0m\u001b[1;33m\u001b[0m\u001b[1;33m\u001b[0m\u001b[0m\n",
      "\u001b[1;32m~\\anaconda3\\envs\\DLC-GPU\\lib\\bdb.py\u001b[0m in \u001b[0;36mtrace_dispatch\u001b[1;34m(self, frame, event, arg)\u001b[0m\n\u001b[0;32m     86\u001b[0m             \u001b[1;32mreturn\u001b[0m \u001b[1;31m# None\u001b[0m\u001b[1;33m\u001b[0m\u001b[1;33m\u001b[0m\u001b[0m\n\u001b[0;32m     87\u001b[0m         \u001b[1;32mif\u001b[0m \u001b[0mevent\u001b[0m \u001b[1;33m==\u001b[0m \u001b[1;34m'line'\u001b[0m\u001b[1;33m:\u001b[0m\u001b[1;33m\u001b[0m\u001b[1;33m\u001b[0m\u001b[0m\n\u001b[1;32m---> 88\u001b[1;33m             \u001b[1;32mreturn\u001b[0m \u001b[0mself\u001b[0m\u001b[1;33m.\u001b[0m\u001b[0mdispatch_line\u001b[0m\u001b[1;33m(\u001b[0m\u001b[0mframe\u001b[0m\u001b[1;33m)\u001b[0m\u001b[1;33m\u001b[0m\u001b[1;33m\u001b[0m\u001b[0m\n\u001b[0m\u001b[0;32m     89\u001b[0m         \u001b[1;32mif\u001b[0m \u001b[0mevent\u001b[0m \u001b[1;33m==\u001b[0m \u001b[1;34m'call'\u001b[0m\u001b[1;33m:\u001b[0m\u001b[1;33m\u001b[0m\u001b[1;33m\u001b[0m\u001b[0m\n\u001b[0;32m     90\u001b[0m             \u001b[1;32mreturn\u001b[0m \u001b[0mself\u001b[0m\u001b[1;33m.\u001b[0m\u001b[0mdispatch_call\u001b[0m\u001b[1;33m(\u001b[0m\u001b[0mframe\u001b[0m\u001b[1;33m,\u001b[0m \u001b[0marg\u001b[0m\u001b[1;33m)\u001b[0m\u001b[1;33m\u001b[0m\u001b[1;33m\u001b[0m\u001b[0m\n",
      "\u001b[1;32m~\\anaconda3\\envs\\DLC-GPU\\lib\\bdb.py\u001b[0m in \u001b[0;36mdispatch_line\u001b[1;34m(self, frame)\u001b[0m\n\u001b[0;32m    111\u001b[0m         \u001b[1;32mif\u001b[0m \u001b[0mself\u001b[0m\u001b[1;33m.\u001b[0m\u001b[0mstop_here\u001b[0m\u001b[1;33m(\u001b[0m\u001b[0mframe\u001b[0m\u001b[1;33m)\u001b[0m \u001b[1;32mor\u001b[0m \u001b[0mself\u001b[0m\u001b[1;33m.\u001b[0m\u001b[0mbreak_here\u001b[0m\u001b[1;33m(\u001b[0m\u001b[0mframe\u001b[0m\u001b[1;33m)\u001b[0m\u001b[1;33m:\u001b[0m\u001b[1;33m\u001b[0m\u001b[1;33m\u001b[0m\u001b[0m\n\u001b[0;32m    112\u001b[0m             \u001b[0mself\u001b[0m\u001b[1;33m.\u001b[0m\u001b[0muser_line\u001b[0m\u001b[1;33m(\u001b[0m\u001b[0mframe\u001b[0m\u001b[1;33m)\u001b[0m\u001b[1;33m\u001b[0m\u001b[1;33m\u001b[0m\u001b[0m\n\u001b[1;32m--> 113\u001b[1;33m             \u001b[1;32mif\u001b[0m \u001b[0mself\u001b[0m\u001b[1;33m.\u001b[0m\u001b[0mquitting\u001b[0m\u001b[1;33m:\u001b[0m \u001b[1;32mraise\u001b[0m \u001b[0mBdbQuit\u001b[0m\u001b[1;33m\u001b[0m\u001b[1;33m\u001b[0m\u001b[0m\n\u001b[0m\u001b[0;32m    114\u001b[0m         \u001b[1;32mreturn\u001b[0m \u001b[0mself\u001b[0m\u001b[1;33m.\u001b[0m\u001b[0mtrace_dispatch\u001b[0m\u001b[1;33m\u001b[0m\u001b[1;33m\u001b[0m\u001b[0m\n\u001b[0;32m    115\u001b[0m \u001b[1;33m\u001b[0m\u001b[0m\n",
      "\u001b[1;31mBdbQuit\u001b[0m: "
     ]
    }
   ],
   "source": [
    "## import seaborn as sns\n",
    "from ReachLoader import ReachViz\n",
    "import matplotlib.pyplot as plt\n",
    "%matplotlib tk\n",
    "    \n",
    "block_video_file = '/Users/bassp/OneDrive/Desktop/Classification Project/2019-09-20-S1-RM14_cam2DLC_FinalColors.mp4'\n",
    "kin_file = '/Users/bassp/OneDrive/Desktop/DataFrames/3D_positions_RM14.pkl'\n",
    "exp_datafile = '/Users/bassp/OneDrive/Desktop/DataFrames/RM14_expdf.pickle'\n",
    "date = '20'\n",
    "session = 'S1'\n",
    "rat = 'RM14'\n",
    "R = ReachViz(date,session,exp_datafile, block_video_file,kin_file, rat)\n",
    "reach_array = R.vid_splitter_and_grapher(plot=False, plot_reach=False)\n",
    "#dd = R.get_reach_dataframe_from_block()\n",
    "def loop_over_rats_and_extract_reaches(prediction_dataframe, e_dataframe, dummy_video_path, rat):\n",
    "    save_path = '/Users/bassp/OneDrive/Desktop/Classification Project/reach_thresholds_RM15/'\n",
    "    # Get rat, date, session for each block we need to process.\n",
    "    k_dataframe = pd.read_pickle(prediction_dataframe)\n",
    "    for kk in k_dataframe:\n",
    "        session = kk.columns[2][1] \n",
    "        date = kk.columns[2][0][2:4]\n",
    "        print(session,date)\n",
    "        R = ReachViz(datez,session,e_dataframe, dummy_video_path,prediction_dataframe, rat)   \n",
    "    return\n",
    "\n",
    "#loop_over_rats_and_extract_reaches(kin_file,exp_datafile,block_video_file, rat)"
   ]
  },
  {
   "cell_type": "code",
   "execution_count": null,
   "metadata": {},
   "outputs": [],
   "source": []
  },
  {
   "cell_type": "code",
   "execution_count": null,
   "metadata": {},
   "outputs": [],
   "source": [
    "dd.to_csv('dd.csv')"
   ]
  },
  {
   "cell_type": "code",
   "execution_count": null,
   "metadata": {},
   "outputs": [],
   "source": [
    "### Trial (2,4) left trial (1, ) right, trial (x,x) bi "
   ]
  },
  {
   "cell_type": "code",
   "execution_count": null,
   "metadata": {},
   "outputs": [],
   "source": [
    "### Look at total histogram of p points for palm across entire block for RM14,15,16,13 \n",
    "### Histogram of total, histogram of reaching thresholded, histogram of non-reaching \n",
    "\n",
    "### Inside of each coarse catagory, Look @ velocities, histogram per trial the total # of filter points  reaching/non-reaching\n",
    "### Gaps: Extract binary mask (0, 1), distinguish between < 30 frame (under 10ms) and > 30 frame (over 10ms) segments \n",
    "### Measure velocity before/after interpolation\n",
    "### For each trial, show unsmoothed/smoothed x-y palm/forearm/wrist plot for reaching\n",
    "### For each reaching trial, take PC's of: Filtered 3-D coordinates/velocites, filtered 3-D coordinates/velocities for arm, PC weighting plot\n",
    "\n",
    "\n",
    "### Cut out the BW Video, predict w/ BW network, do 3-D reconstruction (look @ diff's)"
   ]
  },
  {
   "cell_type": "code",
   "execution_count": null,
   "metadata": {},
   "outputs": [],
   "source": [
    "import imageio\n",
    "import pdb\n",
    "images = []\n",
    "writer = imageio.get_writer('bw.mp4', fps=30)\n",
    "reader = imageio.get_reader(block_video_file)\n",
    "for img in reader.iter_data():\n",
    "    \n",
    "    writer.append_data(img[:,:,1]) # \"L\" channel\n",
    "writer.close()\n"
   ]
  },
  {
   "cell_type": "code",
   "execution_count": null,
   "metadata": {},
   "outputs": [],
   "source": [
    "def rz_length(rz_array,time_array):\n",
    "    ### Takes in matched length Reward Zone and Normalized Time arrays (m_times)\n",
    "        \n",
    "    ###\n",
    "    mask=np.zeros(len(time_array))\n",
    "    for ix,ct in enumerate(rz_array):\n",
    "        if ct == 1:\n",
    "            mask[ix]=1\n",
    "    # get rough amt of time spent in reward zone w/ # of exposures\n",
    "    # exposures are variable, but only to 4th float place so we are ok (ms)\n",
    "    rz_len = np. count_nonzero(mask == 1)\n",
    "    flip=0\n",
    "    for ji,jn in enumerate(mask):\n",
    "        try:\n",
    "            if jn == 1:\n",
    "                if mask[ji-1]==0:\n",
    "                    if mask[ji+1]==1:\n",
    "                        if mask[ji-20]==0:\n",
    "                            flip+=1\n",
    "        except:\n",
    "            flip=flip\n",
    "    return rz_len,flip\n",
    "        \n",
    "\n",
    "def trial_length(start,stop,sf):\n",
    "    t_length = []\n",
    "    reward_region = []\n",
    "    for i,x  in enumerate(start):\n",
    "        if i in sf:\n",
    "            t_length.append(stop[i]-x)\n",
    "            reward_region.append(stop[i]+200-x+50)\n",
    "    return t_length,reward_region\n",
    "\n"
   ]
  },
  {
   "cell_type": "code",
   "execution_count": null,
   "metadata": {},
   "outputs": [],
   "source": []
  },
  {
   "cell_type": "code",
   "execution_count": null,
   "metadata": {},
   "outputs": [],
   "source": []
  },
  {
   "cell_type": "code",
   "execution_count": null,
   "metadata": {},
   "outputs": [],
   "source": []
  },
  {
   "cell_type": "code",
   "execution_count": null,
   "metadata": {},
   "outputs": [],
   "source": []
  },
  {
   "cell_type": "code",
   "execution_count": null,
   "metadata": {},
   "outputs": [],
   "source": [
    "\n",
    "\n",
    "            \n"
   ]
  },
  {
   "cell_type": "code",
   "execution_count": null,
   "metadata": {},
   "outputs": [],
   "source": []
  },
  {
   "cell_type": "code",
   "execution_count": null,
   "metadata": {},
   "outputs": [],
   "source": []
  },
  {
   "cell_type": "code",
   "execution_count": null,
   "metadata": {},
   "outputs": [],
   "source": []
  },
  {
   "cell_type": "code",
   "execution_count": null,
   "metadata": {},
   "outputs": [],
   "source": []
  },
  {
   "cell_type": "code",
   "execution_count": null,
   "metadata": {},
   "outputs": [],
   "source": []
  },
  {
   "cell_type": "code",
   "execution_count": null,
   "metadata": {},
   "outputs": [],
   "source": []
  }
 ],
 "metadata": {
  "kernelspec": {
   "display_name": "Python 3",
   "language": "python",
   "name": "python3"
  },
  "language_info": {
   "codemirror_mode": {
    "name": "ipython",
    "version": 3
   },
   "file_extension": ".py",
   "mimetype": "text/x-python",
   "name": "python",
   "nbconvert_exporter": "python",
   "pygments_lexer": "ipython3",
   "version": "3.7.9"
  }
 },
 "nbformat": 4,
 "nbformat_minor": 4
}
