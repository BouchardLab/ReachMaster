{
 "cells": [
  {
   "cell_type": "markdown",
   "metadata": {},
   "source": [
    "# ReachMaster Block Analysis\n",
    "## Intended to use repeatedly on single trial blocks of video, kinematic, and experiment data.\n",
    "\n",
    "## Items required to run: Experimental dataframe, Kinematic dataframe, block video of known date/session/rat\n",
    "\n",
    "## The following code : imports and utilize experimental data to coarsely segment trial video blocks into fine trials. Additional blocks save the images and video for each trial into a folder the user generated name information for. The final blocks import the kinematic data for a given rat (the rat you are examining in the video ex RM16) and visualize data across blocks and for a given trial. "
   ]
  },
  {
   "cell_type": "code",
   "execution_count": 1,
   "metadata": {
    "scrolled": true
   },
   "outputs": [
    {
     "name": "stderr",
     "output_type": "stream",
     "text": [
      "C:\\Users\\bassp\\anaconda3\\lib\\site-packages\\numpy\\_distributor_init.py:30: UserWarning: loaded more than 1 DLL from .libs:\n",
      "C:\\Users\\bassp\\anaconda3\\lib\\site-packages\\numpy\\.libs\\libopenblas.GK7GX5KEQ4F6UYO3P26ULGBQYHGQO7J4.gfortran-win_amd64.dll\n",
      "C:\\Users\\bassp\\anaconda3\\lib\\site-packages\\numpy\\.libs\\libopenblas.PYQHXLVVQ7VESDPUVUADXEVJOBGHJPAY.gfortran-win_amd64.dll\n",
      "  warnings.warn(\"loaded more than 1 DLL from .libs:\"\n"
     ]
    },
    {
     "ename": "ModuleNotFoundError",
     "evalue": "No module named 'software'",
     "output_type": "error",
     "traceback": [
      "\u001b[1;31m---------------------------------------------------------------------------\u001b[0m",
      "\u001b[1;31mModuleNotFoundError\u001b[0m                       Traceback (most recent call last)",
      "\u001b[1;32m<ipython-input-1-f1ed14cde0ec>\u001b[0m in \u001b[0;36m<module>\u001b[1;34m\u001b[0m\n\u001b[0;32m      1\u001b[0m \u001b[1;31m## import seaborn as sns\u001b[0m\u001b[1;33m\u001b[0m\u001b[1;33m\u001b[0m\u001b[1;33m\u001b[0m\u001b[0m\n\u001b[1;32m----> 2\u001b[1;33m \u001b[1;32mfrom\u001b[0m \u001b[0mReachLoader\u001b[0m \u001b[1;32mimport\u001b[0m \u001b[0mReachViz\u001b[0m\u001b[1;33m\u001b[0m\u001b[1;33m\u001b[0m\u001b[0m\n\u001b[0m\u001b[0;32m      3\u001b[0m \u001b[1;32mimport\u001b[0m \u001b[0mmatplotlib\u001b[0m\u001b[1;33m.\u001b[0m\u001b[0mpyplot\u001b[0m \u001b[1;32mas\u001b[0m \u001b[0mplt\u001b[0m\u001b[1;33m\u001b[0m\u001b[1;33m\u001b[0m\u001b[0m\n\u001b[0;32m      4\u001b[0m \u001b[0mget_ipython\u001b[0m\u001b[1;33m(\u001b[0m\u001b[1;33m)\u001b[0m\u001b[1;33m.\u001b[0m\u001b[0mrun_line_magic\u001b[0m\u001b[1;33m(\u001b[0m\u001b[1;34m'matplotlib'\u001b[0m\u001b[1;33m,\u001b[0m \u001b[1;34m'tk'\u001b[0m\u001b[1;33m)\u001b[0m\u001b[1;33m\u001b[0m\u001b[1;33m\u001b[0m\u001b[0m\n\u001b[0;32m      5\u001b[0m \u001b[1;33m\u001b[0m\u001b[0m\n",
      "\u001b[1;32m~\\PycharmProjects\\ReachMaster\\software\\ReachSplitter\\ReachLoader.py\u001b[0m in \u001b[0;36m<module>\u001b[1;34m\u001b[0m\n\u001b[0;32m      3\u001b[0m \u001b[1;32mimport\u001b[0m \u001b[0mpickle\u001b[0m\u001b[1;33m\u001b[0m\u001b[1;33m\u001b[0m\u001b[0m\n\u001b[0;32m      4\u001b[0m \u001b[1;32mimport\u001b[0m \u001b[0mmatplotlib\u001b[0m\u001b[1;33m.\u001b[0m\u001b[0mpyplot\u001b[0m \u001b[1;32mas\u001b[0m \u001b[0mplt\u001b[0m\u001b[1;33m\u001b[0m\u001b[1;33m\u001b[0m\u001b[0m\n\u001b[1;32m----> 5\u001b[1;33m \u001b[1;32mimport\u001b[0m \u001b[0msoftware\u001b[0m\u001b[1;33m.\u001b[0m\u001b[0mReachSplitter\u001b[0m\u001b[1;33m.\u001b[0m\u001b[0mDataStream_Vis_Utils\u001b[0m \u001b[1;32mas\u001b[0m \u001b[0mutils\u001b[0m\u001b[1;33m\u001b[0m\u001b[1;33m\u001b[0m\u001b[0m\n\u001b[0m\u001b[0;32m      6\u001b[0m \u001b[1;32mfrom\u001b[0m \u001b[0mmoviepy\u001b[0m\u001b[1;33m.\u001b[0m\u001b[0meditor\u001b[0m \u001b[1;32mimport\u001b[0m \u001b[1;33m*\u001b[0m\u001b[1;33m\u001b[0m\u001b[1;33m\u001b[0m\u001b[0m\n\u001b[0;32m      7\u001b[0m \u001b[1;32mimport\u001b[0m \u001b[0mskvideo\u001b[0m\u001b[1;33m\u001b[0m\u001b[1;33m\u001b[0m\u001b[0m\n",
      "\u001b[1;31mModuleNotFoundError\u001b[0m: No module named 'software'"
     ]
    }
   ],
   "source": [
    "## import seaborn as sns\n",
    "from ReachLoader import ReachViz\n",
    "import matplotlib.pyplot as plt\n",
    "%matplotlib tk\n",
    "    \n",
    "block_video_file = '/Users/bassp/OneDrive/Desktop/Classification Project/2019-09-20-S1-RM14_cam2DLC_FinalColors.mp4'\n",
    "kin_file = '/Users/bassp/OneDrive/Desktop/DataFrames/3D_positions_RM14.pkl'\n",
    "exp_datafile = '/Users/bassp/OneDrive/Desktop/DataFrames/RM14_expdf.pickle'\n",
    "date = '20'\n",
    "session = 'S1'\n",
    "rat = 'RM14'\n",
    "R = ReachViz(date,session,exp_datafile, block_video_file,kin_file, rat)\n",
    "reach_array = R.vid_splitter_and_grapher(plot=True, plot_reach=True)\n",
    "#df = R.get_reach_dataframe_from_block()\n",
    "def loop_over_rats_and_extract_reaches(prediction_dataframe, e_dataframe, dummy_video_path, rat):\n",
    "    save_path = '/Users/bassp/OneDrive/Desktop/Classification Project/reach_thresholds_RM15/'\n",
    "    # Get rat, date, session for each block we need to process.\n",
    "    k_dataframe = pd.read_pickle(prediction_dataframe)\n",
    "    for kk in k_dataframe:\n",
    "        session = kk.columns[2][1] \n",
    "        date = kk.columns[2][0][2:4]\n",
    "        print(session,date)\n",
    "        R = ReachViz(datez,session,e_dataframe, dummy_video_path,prediction_dataframe, rat)   \n",
    "    return\n",
    "\n",
    "#loop_over_rats_and_extract_reaches(kin_file,exp_datafile,block_video_file, rat)"
   ]
  },
  {
   "cell_type": "code",
   "execution_count": null,
   "metadata": {},
   "outputs": [],
   "source": [
    "import matplotlib.pyplot as plt\n",
    "num_outliers[0].shape"
   ]
  },
  {
   "cell_type": "code",
   "execution_count": null,
   "metadata": {},
   "outputs": [],
   "source": [
    "print(total_rawspeed)\n"
   ]
  },
  {
   "cell_type": "code",
   "execution_count": null,
   "metadata": {},
   "outputs": [],
   "source": [
    "# \n",
    "import pickle\n",
    "from ReachLoader import ReachViz\n",
    "import pdb\n",
    "import pandas as pd\n",
    "\n",
    "dates = ['17','18','17','20','19','25','17','20','18','19','18','17','19']\n",
    "rats = [16,16,16,16,16,15,15,14,14,12,11,10,9]\n",
    "sessions = ['S1','S1','S2','S3','S3','S3','S4','S1','S2','S1','S4','S2','S3']\n",
    "block_video_file = '/Users/bassp/OneDrive/Desktop/Classification Project/2019-09-20-S1-RM14_cam2DLC_FinalColors.mp4'\n",
    "save_df_address = '/Users/bassp/OneDrive/Desktop/Sample_Reaches.pkl'\n",
    "kinematics_addresses = []\n",
    "exp_addresses = []\n",
    "DL(kinematics_addresses, exp_addresses)"
   ]
  },
  {
   "cell_type": "code",
   "execution_count": null,
   "metadata": {},
   "outputs": [],
   "source": [
    "\n",
    "\n"
   ]
  },
  {
   "cell_type": "code",
   "execution_count": null,
   "metadata": {},
   "outputs": [],
   "source": []
  },
  {
   "cell_type": "code",
   "execution_count": null,
   "metadata": {},
   "outputs": [],
   "source": []
  },
  {
   "cell_type": "code",
   "execution_count": null,
   "metadata": {},
   "outputs": [],
   "source": [
    "### Look at total histogram of p points for palm across entire block for RM14,15,16,13 \n",
    "### Histogram of total, histogram of reaching thresholded, histogram of non-reaching \n",
    "\n",
    "### Inside of each coarse catagory, Look @ velocities, histogram per trial the total # of filter points  reaching/non-reaching\n",
    "### Gaps: Extract binary mask (0, 1), distinguish between < 30 frame (under 10ms) and > 30 frame (over 10ms) segments \n",
    "### Measure velocity before/after interpolation\n",
    "### For each trial, show unsmoothed/smoothed x-y palm/forearm/wrist plot for reaching\n",
    "### For each reaching trial, take PC's of: Filtered 3-D coordinates/velocites, filtered 3-D coordinates/velocities for arm, PC weighting plot\n",
    "\n",
    "\n",
    "### Cut out the BW Video, predict w/ BW network, do 3-D reconstruction (look @ diff's)"
   ]
  },
  {
   "cell_type": "code",
   "execution_count": null,
   "metadata": {},
   "outputs": [],
   "source": [
    "import imageio\n",
    "import pdb\n",
    "images = []\n",
    "writer = imageio.get_writer('bw.mp4', fps=30)\n",
    "reader = imageio.get_reader(block_video_file)\n",
    "for img in reader.iter_data():\n",
    "    \n",
    "    writer.append_data(img[:,:,1]) # \"L\" channel\n",
    "writer.close()\n"
   ]
  },
  {
   "cell_type": "code",
   "execution_count": null,
   "metadata": {},
   "outputs": [],
   "source": [
    "def rz_length(rz_array,time_array):\n",
    "    ### Takes in matched length Reward Zone and Normalized Time arrays (m_times)\n",
    "        \n",
    "    ###\n",
    "    mask=np.zeros(len(time_array))\n",
    "    for ix,ct in enumerate(rz_array):\n",
    "        if ct == 1:\n",
    "            mask[ix]=1\n",
    "    # get rough amt of time spent in reward zone w/ # of exposures\n",
    "    # exposures are variable, but only to 4th float place so we are ok (ms)\n",
    "    rz_len = np. count_nonzero(mask == 1)\n",
    "    flip=0\n",
    "    for ji,jn in enumerate(mask):\n",
    "        try:\n",
    "            if jn == 1:\n",
    "                if mask[ji-1]==0:\n",
    "                    if mask[ji+1]==1:\n",
    "                        if mask[ji-20]==0:\n",
    "                            flip+=1\n",
    "        except:\n",
    "            flip=flip\n",
    "    return rz_len,flip\n",
    "        \n",
    "\n",
    "def trial_length(start,stop,sf):\n",
    "    t_length = []\n",
    "    reward_region = []\n",
    "    for i,x  in enumerate(start):\n",
    "        if i in sf:\n",
    "            t_length.append(stop[i]-x)\n",
    "            reward_region.append(stop[i]+200-x+50)\n",
    "    return t_length,reward_region\n",
    "\n"
   ]
  },
  {
   "cell_type": "code",
   "execution_count": null,
   "metadata": {},
   "outputs": [],
   "source": []
  },
  {
   "cell_type": "code",
   "execution_count": null,
   "metadata": {},
   "outputs": [],
   "source": []
  },
  {
   "cell_type": "code",
   "execution_count": null,
   "metadata": {},
   "outputs": [],
   "source": []
  },
  {
   "cell_type": "code",
   "execution_count": null,
   "metadata": {},
   "outputs": [],
   "source": []
  },
  {
   "cell_type": "code",
   "execution_count": null,
   "metadata": {},
   "outputs": [],
   "source": [
    "\n",
    "\n",
    "            \n"
   ]
  },
  {
   "cell_type": "code",
   "execution_count": null,
   "metadata": {},
   "outputs": [],
   "source": []
  },
  {
   "cell_type": "code",
   "execution_count": null,
   "metadata": {},
   "outputs": [],
   "source": []
  },
  {
   "cell_type": "code",
   "execution_count": null,
   "metadata": {},
   "outputs": [],
   "source": []
  },
  {
   "cell_type": "code",
   "execution_count": null,
   "metadata": {},
   "outputs": [],
   "source": []
  },
  {
   "cell_type": "code",
   "execution_count": null,
   "metadata": {},
   "outputs": [],
   "source": []
  },
  {
   "cell_type": "code",
   "execution_count": null,
   "metadata": {},
   "outputs": [],
   "source": []
  }
 ],
 "metadata": {
  "kernelspec": {
   "display_name": "Python 3",
   "language": "python",
   "name": "python3"
  },
  "language_info": {
   "codemirror_mode": {
    "name": "ipython",
    "version": 3
   },
   "file_extension": ".py",
   "mimetype": "text/x-python",
   "name": "python",
   "nbconvert_exporter": "python",
   "pygments_lexer": "ipython3",
   "version": "3.8.5"
  }
 },
 "nbformat": 4,
 "nbformat_minor": 4
}
