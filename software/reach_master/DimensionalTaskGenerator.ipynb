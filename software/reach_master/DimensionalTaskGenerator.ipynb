{
 "cells": [
  {
   "cell_type": "markdown",
   "metadata": {},
   "source": [
    "# Daily Task Sequencing\n",
    "## It is important to daily sample each task space (8 in total) for each rat we run in the cohort. An example is shown below for a daily experimental block. Rats are run 1-6 on the set task, given by the task generator. Rats are allowed to reach until either a success threshold is reached (num_successes) or a trial threshold is reached. The trial is then terminated, the rat removed, a new rat set inside to take its place, and a new trial (with the correct task type loaded) is initiated using the ReachMaster system."
   ]
  },
  {
   "cell_type": "code",
   "execution_count": 2,
   "metadata": {
    "scrolled": true
   },
   "outputs": [
    {
     "data": {
      "text/plain": [
       "<matplotlib.legend.Legend at 0x1be59521130>"
      ]
     },
     "execution_count": 2,
     "metadata": {},
     "output_type": "execute_result"
    }
   ],
   "source": [
    "import numpy as np\n",
    "import random\n",
    "import matplotlib.pyplot as plt\n",
    "%matplotlib qt \n",
    "\n",
    "\n",
    "n_days = 5 # 5 days a week, can adjust\n",
    "\n",
    "\n",
    "n_weeks = 2\n",
    "\n",
    "\n",
    "### 480 seconds of recording per block (8 Hours) ####\n",
    "\n",
    "\n",
    "\n",
    "n_rats = 6 # 10 minute blocks per rat, 3-4 per day\n",
    "\n",
    "n_trial_types_range = 8 # 0 (0D), 1,2,3 (1-D x, y, and z), 4, 5 6 (2-D X-Y, X-Z, Y-Z), 7 (3-D)\n",
    "\n",
    "\n",
    "\n",
    "n_trial_block = n_trial_types_range * n_rats\n",
    "\n",
    "# I want 5 arrays of [4,6] randomized non-repeating\n",
    "\n",
    "\n",
    "\n",
    "def get_rnd_int_sample(iv,nrats):\n",
    "    trial_list=[]\n",
    "    for i in range(0,nrats):\n",
    "        #trial_list.append(np.random.shuffle(np.arange(8)))\n",
    "        trial_list.append(np.random.choice(iv,iv,replace=False))# get randint over 1-8 non-repeating\n",
    "    #trial_list.reshape(nrats,iv)\n",
    "    return trial_list\n",
    "\n",
    "tl=np.asarray(get_rnd_int_sample(8,6))\n",
    "\n",
    "tl\n",
    "\n",
    "#### Visualize an experimental day ####\n",
    "\n",
    "### X is Rat (1-6)\n",
    "\n",
    "### Y is Type of Experiment (0-8)\n",
    "\n",
    "rat_range=np.arange(n_rats)\n",
    "fig1=plt.figure(figsize=(18,18))\n",
    "f1=fig1.add_subplot(211)\n",
    "f1.scatter(rat_range,tl[:,0],s=200,color='r',label='Session 1 Trials') \n",
    "f1.scatter(rat_range,tl[:,1],s=200,color='g',label='Session 2 Trials')\n",
    "f1.scatter(rat_range,tl[:,2],s=200,color='b',label='Session 3 Trials')\n",
    "f1.scatter(rat_range,tl[:,3],s=200,color='m',label='Session 4 Trials')\n",
    "f1.scatter(rat_range,tl[:,4],s=200,color='k',label='Session 5 Trials')\n",
    "f1.scatter(rat_range,tl[:,5],s=200, color='y',label='Session 6 Trials')\n",
    "f1.scatter(rat_range,tl[:,6],s=200,label='Session 7 Trials')\n",
    "f1.scatter(rat_range,tl[:,7],s=200,label='Session 8 Trials')\n",
    "f1.set_xticks(rat_range)\n",
    "f1.set_xticklabels(['Rat 1','Rat 2','Rat 3','Rat 4','Rat 5','Rat 6'])\n",
    "f1.set_yticks(np.arange(8))\n",
    "f1.set_yticklabels(['0-D','1-D X', '1-D Y', '1-D Z', '2-D X-Y','2-D X-Z','2-D Y-Z','3-D'])\n",
    "plt.title('Trial Structure Example Across A Day')\n",
    "plt.legend()\n",
    "#plt.savefig('Daily_Experiment_Structure.png')\n"
   ]
  },
  {
   "cell_type": "markdown",
   "metadata": {},
   "source": [
    "## Each day can be thought of as an seperate experiment. Each day of experiments, we have the rat behave in every possible task space. This means 8 sessions per rat. \n",
    "## We can also ask that trials not be repeated between each session, however I will single house the animals during data collection to limit the need for this paradigm due to animal communication. \n",
    "## Heats should be run 5 days a week at minimum. "
   ]
  },
  {
   "cell_type": "code",
   "execution_count": 2,
   "metadata": {},
   "outputs": [
    {
     "name": "stdout",
     "output_type": "stream",
     "text": [
      "[[4 3 7 2 5 0 6 1]\n",
      " [2 5 6 0 4 3 1 7]\n",
      " [5 6 0 4 1 7 2 3]\n",
      " [2 4 3 0 6 7 1 5]\n",
      " [7 2 4 0 5 6 1 3]\n",
      " [4 6 1 2 5 7 0 3]]\n"
     ]
    }
   ],
   "source": [
    "print(tl)\n",
    "\n",
    "# 0 (0D), 1,2,3 (1-D x, y, and z), 4, 5 6 (2-D X-Y, X-Z, Y-Z), 7 (3-D)\n",
    "\n",
    "# Rat X Trial Type\n",
    "\n",
    "# Array is an example of a single day per trial\n",
    "\n"
   ]
  },
  {
   "cell_type": "markdown",
   "metadata": {},
   "source": [
    "## Isotropic hole, cue dimensions (show handle, audio cue), vary daily session time from 5-15 mins (5,10,15), run same amt of trials, check saturation etc."
   ]
  }
 ],
 "metadata": {
  "kernelspec": {
   "display_name": "Python 3",
   "language": "python",
   "name": "python3"
  },
  "language_info": {
   "codemirror_mode": {
    "name": "ipython",
    "version": 3
   },
   "file_extension": ".py",
   "mimetype": "text/x-python",
   "name": "python",
   "nbconvert_exporter": "python",
   "pygments_lexer": "ipython3",
   "version": "3.8.3"
  }
 },
 "nbformat": 4,
 "nbformat_minor": 4
}
