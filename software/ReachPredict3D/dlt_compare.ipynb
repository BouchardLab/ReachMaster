{
 "metadata": {
  "language_info": {
   "codemirror_mode": {
    "name": "ipython",
    "version": 3
   },
   "file_extension": ".py",
   "mimetype": "text/x-python",
   "name": "python",
   "nbconvert_exporter": "python",
   "pygments_lexer": "ipython3",
   "version": "3.8.5-final"
  },
  "orig_nbformat": 2,
  "kernelspec": {
   "name": "python3",
   "display_name": "Python 3",
   "language": "python"
  }
 },
 "nbformat": 4,
 "nbformat_minor": 2,
 "cells": [
  {
   "cell_type": "code",
   "execution_count": 1,
   "metadata": {},
   "outputs": [],
   "source": [
    "import numpy as np\n",
    "import matplotlib.pyplot as plt\n",
    "from mpl_toolkits.mplot3d import Axes3D  # noqa: F401 unused import\n",
    "from software.preprocessing.video_data.DLC.Reconstruction import dlt_reconstruct\n",
    "from mpl_toolkits.axes_grid1 import make_axes_locatable\n",
    "from sklearn.metrics import mean_squared_error"
   ]
  },
  {
   "cell_type": "code",
   "execution_count": 2,
   "metadata": {},
   "outputs": [],
   "source": [
    "camera_csvs = ['/Users/home/Documents/Bouchard/Brett Stuff/Arshad Labels/2019-09-17 15_3A56_3A41_cam1/CollectedData_Lab.csv', '/Users/home/Documents/Bouchard/Brett Stuff/Arshad Labels/Arshad_2019-09-17S4_cam2/CollectedData_Lab.csv', '/Users/home/Documents/Bouchard/Brett Stuff/Arshad Labels/2019-09-17 15_3A56_3A41_cam3/CollectedData_Lab.csv']\n",
    "prediction_csvs = ['/Users/home/Documents/Bouchard/Brett Stuff/Arshad Labels/DLC Predictions/DLC_predictions_video_cam1_finalDLC_resnet_101_CatScanJul27shuffle5_600012.csv', '/Users/home/Documents/Bouchard/Brett Stuff/Arshad Labels/DLC Predictions/DLC_predictions_video_cam2DLC_resnet_101_CatScanJul27shuffle5_600012.csv', '/Users/home/Documents/Bouchard/Brett Stuff/Arshad Labels/DLC Predictions/DLC_predictions_video_cam3_finalDLC_resnet_101_CatScanJul27shuffle5_600012.csv']\n",
    "new_prediction_csvs = ['/Users/home/Documents/Bouchard/Brett Stuff/Arshad Labels/New Predictions/video1DLC_resnet_101_LabLabelOct27shuffle1_500000.csv', '/Users/home/Documents/Bouchard/Brett Stuff/Arshad Labels/New Predictions/Cam2_resnet_101_LabLabelOct27shuffle1_500000.csv', '/Users/home/Documents/Bouchard/Brett Stuff/Arshad Labels/New Predictions/Cam3_LabLabelOct27shuffle1_500000.csv']"
   ]
  },
  {
   "cell_type": "code",
   "execution_count": 3,
   "metadata": {},
   "outputs": [],
   "source": [
    "cam1_csv = np.loadtxt(camera_csvs[0], dtype=str, delimiter=\",\")"
   ]
  },
  {
   "cell_type": "code",
   "execution_count": 4,
   "metadata": {},
   "outputs": [],
   "source": [
    "names = cam1_csv[1,1::2].copy()"
   ]
  },
  {
   "cell_type": "code",
   "execution_count": 5,
   "metadata": {},
   "outputs": [],
   "source": [
    "cam1_csv_data = np.genfromtxt(camera_csvs[0], delimiter=\",\", skip_header=3, usecols=range(1, len(names)*2 + 1))\n",
    "cam2_csv_data = np.genfromtxt(camera_csvs[1], delimiter=\",\", skip_header=3, usecols=range(1, len(names)*2 + 1))\n",
    "cam3_csv_data = np.genfromtxt(camera_csvs[2], delimiter=\",\", skip_header=3, usecols=range(1, len(names)*2 + 1))"
   ]
  },
  {
   "cell_type": "code",
   "execution_count": 6,
   "metadata": {},
   "outputs": [],
   "source": [
    "cam1_dlc_data = np.loadtxt(prediction_csvs[0], skiprows=3, delimiter=\",\")[:, 1:]\n",
    "cam2_dlc_data = np.loadtxt(prediction_csvs[1], skiprows=3, delimiter=\",\")[:, 1:]\n",
    "cam3_dlc_data = np.loadtxt(prediction_csvs[2], skiprows=3, delimiter=\",\")[:, 1:]"
   ]
  },
  {
   "cell_type": "code",
   "execution_count": 7,
   "metadata": {},
   "outputs": [],
   "source": [
    "def process_csv(prediction_csvs):\n",
    "    data_dict = {}\n",
    "\n",
    "    cam1_dlc_data = np.loadtxt(prediction_csvs[0], skiprows=3, delimiter=\",\")[:, 1:]\n",
    "    cam2_dlc_data = np.loadtxt(prediction_csvs[1], skiprows=3, delimiter=\",\")[:, 1:]\n",
    "    cam3_dlc_data = np.loadtxt(prediction_csvs[2], skiprows=3, delimiter=\",\")[:, 1:]\n",
    "\n",
    "    discarded = set()\n",
    "    shortest_len = min(cam1_dlc_data.shape[0], cam2_dlc_data.shape[0], cam3_dlc_data.shape[0])\n",
    "    for i in range(len(names)):\n",
    "        labelled_idx = i * 2\n",
    "        predicted_idx = i * 3\n",
    "        entry_dict = {}\n",
    "\n",
    "        cam1_labelled_x = cam1_csv_data[:shortest_len, labelled_idx].copy()\n",
    "        cam1_predicted_x = cam1_dlc_data[:shortest_len, predicted_idx].copy()\n",
    "        cam1_labelled_y = cam1_csv_data[:shortest_len, labelled_idx + 1].copy()\n",
    "        cam1_predicted_y = cam1_dlc_data[:shortest_len, predicted_idx + 1].copy()\n",
    "        cam1_predicted_prob = cam1_dlc_data[:shortest_len, predicted_idx + 2].copy()\n",
    "        \n",
    "        cam2_labelled_x = cam2_csv_data[:shortest_len, labelled_idx].copy()\n",
    "        cam2_predicted_x = cam2_dlc_data[:shortest_len, predicted_idx].copy()\n",
    "        cam2_labelled_y = cam2_csv_data[:shortest_len, labelled_idx + 1].copy()\n",
    "        cam2_predicted_y = cam2_dlc_data[:shortest_len, predicted_idx + 1].copy()\n",
    "        cam2_predicted_prob = cam2_dlc_data[:shortest_len, predicted_idx + 2].copy()\n",
    "\n",
    "        cam3_labelled_x = cam3_csv_data[:shortest_len, labelled_idx].copy()\n",
    "        cam3_predicted_x = cam3_dlc_data[:shortest_len, predicted_idx].copy()\n",
    "        cam3_labelled_y = cam3_csv_data[:shortest_len, labelled_idx + 1].copy()\n",
    "        cam3_predicted_y = cam3_dlc_data[:shortest_len, predicted_idx + 1].copy()\n",
    "        cam3_predicted_prob = cam3_dlc_data[:shortest_len, predicted_idx + 2].copy()\n",
    "\n",
    "\n",
    "        mask = np.isnan(cam1_labelled_x) | np.isnan(cam1_labelled_y) | np.isnan(cam2_labelled_x) | np.isnan(cam2_labelled_y) | np.isnan(cam3_labelled_x) | np.isnan(cam3_labelled_y)\n",
    "        if np.sum(~mask) < 10:\n",
    "            print(\"Not enough entries for {}, discarding\".format(names[i]))\n",
    "            discarded.add(names[i])\n",
    "            continue\n",
    "        cam1_labelled_x[mask] = np.interp(np.flatnonzero(mask), np.flatnonzero(~mask), cam1_labelled_x[~mask])\n",
    "        cam1_labelled_y[mask] = np.interp(np.flatnonzero(mask), np.flatnonzero(~mask), cam1_labelled_y[~mask])\n",
    "        cam2_labelled_x[mask] = np.interp(np.flatnonzero(mask), np.flatnonzero(~mask), cam2_labelled_x[~mask])\n",
    "        cam2_labelled_y[mask] = np.interp(np.flatnonzero(mask), np.flatnonzero(~mask), cam2_labelled_y[~mask])\n",
    "        cam3_labelled_x[mask] = np.interp(np.flatnonzero(mask), np.flatnonzero(~mask), cam3_labelled_x[~mask])\n",
    "        cam3_labelled_y[mask] = np.interp(np.flatnonzero(mask), np.flatnonzero(~mask), cam3_labelled_y[~mask])\n",
    "        \n",
    "        entry_dict[\"Camera 1\"] = {}\n",
    "        entry_dict[\"Camera 1\"][\"labelled_x\"] = cam1_labelled_x\n",
    "        entry_dict[\"Camera 1\"][\"predicted_x\"] = cam1_predicted_x\n",
    "        entry_dict[\"Camera 1\"][\"labelled_y\"] = cam1_labelled_y\n",
    "        entry_dict[\"Camera 1\"][\"predicted_y\"] = cam1_predicted_y\n",
    "        entry_dict[\"Camera 1\"][\"predicted_prob\"] = cam1_predicted_prob\n",
    "        entry_dict[\"Camera 1\"][\"max_x\"] = max(np.max(entry_dict[\"Camera 1\"][\"labelled_x\"]), np.max(entry_dict[\"Camera 1\"][\"predicted_x\"]))\n",
    "        entry_dict[\"Camera 1\"][\"max_y\"] = max(np.max(entry_dict[\"Camera 1\"][\"labelled_y\"]), np.max(entry_dict[\"Camera 1\"][\"predicted_y\"]))\n",
    "        entry_dict[\"Camera 1\"][\"min_x\"] = min(np.min(entry_dict[\"Camera 1\"][\"labelled_x\"]), np.min(entry_dict[\"Camera 1\"][\"predicted_x\"]))\n",
    "        entry_dict[\"Camera 1\"][\"min_y\"] = min(np.min(entry_dict[\"Camera 1\"][\"labelled_y\"]), np.min(entry_dict[\"Camera 1\"][\"predicted_y\"]))\n",
    "\n",
    "        entry_dict[\"Camera 2\"] = {}\n",
    "        entry_dict[\"Camera 2\"][\"labelled_x\"] = cam2_labelled_x\n",
    "        entry_dict[\"Camera 2\"][\"predicted_x\"] = cam2_predicted_x\n",
    "        entry_dict[\"Camera 2\"][\"labelled_y\"] = cam2_labelled_y\n",
    "        entry_dict[\"Camera 2\"][\"predicted_y\"] = cam2_predicted_y\n",
    "        entry_dict[\"Camera 2\"][\"predicted_prob\"] = cam2_predicted_prob\n",
    "        entry_dict[\"Camera 2\"][\"max_x\"] = max(np.max(entry_dict[\"Camera 2\"][\"labelled_x\"]), np.max(entry_dict[\"Camera 2\"][\"predicted_x\"]))\n",
    "        entry_dict[\"Camera 2\"][\"max_y\"] = max(np.max(entry_dict[\"Camera 2\"][\"labelled_y\"]), np.max(entry_dict[\"Camera 2\"][\"predicted_y\"]))\n",
    "        entry_dict[\"Camera 2\"][\"min_x\"] = min(np.min(entry_dict[\"Camera 2\"][\"labelled_x\"]), np.min(entry_dict[\"Camera 2\"][\"predicted_x\"]))\n",
    "        entry_dict[\"Camera 2\"][\"min_y\"] = min(np.min(entry_dict[\"Camera 2\"][\"labelled_y\"]), np.min(entry_dict[\"Camera 2\"][\"predicted_y\"]))\n",
    "\n",
    "        entry_dict[\"Camera 3\"] = {}\n",
    "        entry_dict[\"Camera 3\"][\"labelled_x\"] = cam3_labelled_x\n",
    "        entry_dict[\"Camera 3\"][\"predicted_x\"] = cam3_predicted_x\n",
    "        entry_dict[\"Camera 3\"][\"labelled_y\"] = cam3_labelled_y\n",
    "        entry_dict[\"Camera 3\"][\"predicted_y\"] = cam3_predicted_y\n",
    "        entry_dict[\"Camera 3\"][\"predicted_prob\"] = cam3_predicted_prob\n",
    "        entry_dict[\"Camera 3\"][\"max_x\"] = max(np.max(entry_dict[\"Camera 3\"][\"labelled_x\"]), np.max(entry_dict[\"Camera 3\"][\"predicted_x\"]))\n",
    "        entry_dict[\"Camera 3\"][\"max_y\"] = max(np.max(entry_dict[\"Camera 3\"][\"labelled_y\"]), np.max(entry_dict[\"Camera 3\"][\"predicted_y\"]))\n",
    "        entry_dict[\"Camera 3\"][\"min_x\"] = min(np.min(entry_dict[\"Camera 3\"][\"labelled_x\"]), np.min(entry_dict[\"Camera 3\"][\"predicted_x\"]))\n",
    "        entry_dict[\"Camera 3\"][\"min_y\"] = min(np.min(entry_dict[\"Camera 3\"][\"labelled_y\"]), np.min(entry_dict[\"Camera 3\"][\"predicted_y\"]))\n",
    "        data_dict[names[i]] = entry_dict\n",
    "    filtered_names = [name for name in names if name not in discarded]\n",
    "    data_dict[\"filtered_names\"] = filtered_names\n",
    "    thres = 0.05\n",
    "    for name in filtered_names:\n",
    "        for cam in [\"Camera 1\", \"Camera 2\", \"Camera 3\"]:\n",
    "            mask = data_dict[name][cam][\"predicted_prob\"] < thres\n",
    "            data_dict[name][cam][\"interp_predicted_prob\"] = data_dict[name][cam][\"predicted_prob\"].copy()\n",
    "            data_dict[name][cam][\"interp_predicted_prob\"][mask] = np.interp(np.flatnonzero(mask), np.flatnonzero(~mask), data_dict[name][cam][\"predicted_prob\"][~mask])\n",
    "            data_dict[name][cam][\"interp_predicted_x\"] = data_dict[name][cam][\"predicted_x\"].copy()\n",
    "            data_dict[name][cam][\"interp_predicted_x\"][mask] = np.interp(np.flatnonzero(mask), np.flatnonzero(~mask), data_dict[name][cam][\"predicted_x\"][~mask])\n",
    "            data_dict[name][cam][\"interp_predicted_y\"] = data_dict[name][cam][\"predicted_y\"].copy()\n",
    "            data_dict[name][cam][\"interp_predicted_y\"][mask] = np.interp(np.flatnonzero(mask), np.flatnonzero(~mask), data_dict[name][cam][\"predicted_y\"][~mask])\n",
    "    return data_dict"
   ]
  },
  {
   "cell_type": "code",
   "execution_count": 8,
   "metadata": {},
   "outputs": [],
   "source": [
    "def get_reconstructions(data_dict, dlt_coefs_file):\n",
    "    dlt_coefs = np.loadtxt(dlt_coefs_file, delimiter=\",\")\n",
    "    reconstructions = {}\n",
    "    for name in data_dict[\"filtered_names\"]:\n",
    "        # read in data from DLC\n",
    "        frames = data_dict[name][\"Camera 1\"][\"labelled_x\"].shape[0]\n",
    "        cam_data = np.empty([frames, 6], dtype=float)\n",
    "        weights = np.empty([frames, 6], dtype=float)\n",
    "\n",
    "        cam_data[:, 0] = data_dict[name][\"Camera 1\"][\"labelled_x\"]\n",
    "        cam_data[:, 1] = data_dict[name][\"Camera 1\"][\"labelled_y\"]\n",
    "        cam_data[:, 2] = data_dict[name][\"Camera 2\"][\"labelled_x\"]\n",
    "        cam_data[:, 3] = data_dict[name][\"Camera 2\"][\"labelled_y\"]\n",
    "        cam_data[:, 4] = data_dict[name][\"Camera 3\"][\"labelled_x\"]\n",
    "        cam_data[:, 5] = data_dict[name][\"Camera 3\"][\"labelled_y\"]\n",
    "\n",
    "        xyz_labelled = dlt_reconstruct(dlt_coefs, cam_data)\n",
    "\n",
    "        cam_data[:, 0] = data_dict[name][\"Camera 1\"][\"predicted_x\"]\n",
    "        cam_data[:, 1] = data_dict[name][\"Camera 1\"][\"predicted_y\"]\n",
    "        cam_data[:, 2] = data_dict[name][\"Camera 2\"][\"predicted_x\"]\n",
    "        cam_data[:, 3] = data_dict[name][\"Camera 2\"][\"predicted_y\"]\n",
    "        cam_data[:, 4] = data_dict[name][\"Camera 3\"][\"predicted_x\"]\n",
    "        cam_data[:, 5] = data_dict[name][\"Camera 3\"][\"predicted_y\"]\n",
    "        \n",
    "        weights[:, 0] = data_dict[name][\"Camera 1\"][\"predicted_prob\"]\n",
    "        weights[:, 1] = data_dict[name][\"Camera 1\"][\"predicted_prob\"]\n",
    "        weights[:, 2] = data_dict[name][\"Camera 2\"][\"predicted_prob\"]\n",
    "        weights[:, 3] = data_dict[name][\"Camera 2\"][\"predicted_prob\"]\n",
    "        weights[:, 4] = data_dict[name][\"Camera 3\"][\"predicted_prob\"]\n",
    "        weights[:, 5] = data_dict[name][\"Camera 3\"][\"predicted_prob\"]\n",
    "\n",
    "        xyz_predicted_weighted = dlt_reconstruct(dlt_coefs, cam_data, weights)\n",
    "        xyz_predicted_unweighted = dlt_reconstruct(dlt_coefs, cam_data)\n",
    "\n",
    "        cam_data[:, 0] = data_dict[name][\"Camera 1\"][\"interp_predicted_x\"]\n",
    "        cam_data[:, 1] = data_dict[name][\"Camera 1\"][\"interp_predicted_y\"]\n",
    "        cam_data[:, 2] = data_dict[name][\"Camera 2\"][\"interp_predicted_x\"]\n",
    "        cam_data[:, 3] = data_dict[name][\"Camera 2\"][\"interp_predicted_y\"]\n",
    "        cam_data[:, 4] = data_dict[name][\"Camera 3\"][\"interp_predicted_x\"]\n",
    "        cam_data[:, 5] = data_dict[name][\"Camera 3\"][\"interp_predicted_y\"]\n",
    "        \n",
    "        weights[:, 0] = data_dict[name][\"Camera 1\"][\"interp_predicted_prob\"]\n",
    "        weights[:, 1] = data_dict[name][\"Camera 1\"][\"interp_predicted_prob\"]\n",
    "        weights[:, 2] = data_dict[name][\"Camera 2\"][\"interp_predicted_prob\"]\n",
    "        weights[:, 3] = data_dict[name][\"Camera 2\"][\"interp_predicted_prob\"]\n",
    "        weights[:, 4] = data_dict[name][\"Camera 3\"][\"interp_predicted_prob\"]\n",
    "        weights[:, 5] = data_dict[name][\"Camera 3\"][\"interp_predicted_prob\"]\n",
    "\n",
    "        xyz_interp_predicted_weighted = dlt_reconstruct(dlt_coefs, cam_data, weights)\n",
    "        xyz_interp_predicted_unweighted = dlt_reconstruct(dlt_coefs, cam_data)\n",
    "\n",
    "        reconstructions[name] = {}\n",
    "        reconstructions[name][\"xyz_labelled\"] = xyz_labelled\n",
    "        reconstructions[name][\"xyz_predicted_weighted\"] = xyz_predicted_weighted\n",
    "        reconstructions[name][\"xyz_predicted_unweighted\"] = xyz_predicted_unweighted\n",
    "        reconstructions[name][\"xyz_interp_predicted_weighted\"] = xyz_interp_predicted_weighted\n",
    "        reconstructions[name][\"xyz_interp_predicted_unweighted\"] = xyz_interp_predicted_unweighted\n",
    "        reconstructions[name][\"xyz_predicted_prob\"] = np.mean(np.array([data_dict[name][\"Camera 1\"][\"predicted_prob\"], data_dict[name][\"Camera 2\"][\"predicted_prob\"], data_dict[name][\"Camera 3\"][\"predicted_prob\"]]), axis=0)\n",
    "        reconstructions[name][\"xyz_interp_predicted_prob\"] = np.mean(np.array([data_dict[name][\"Camera 1\"][\"interp_predicted_prob\"], data_dict[name][\"Camera 2\"][\"interp_predicted_prob\"], data_dict[name][\"Camera 3\"][\"interp_predicted_prob\"]]), axis=0)\n",
    "    return reconstructions"
   ]
  },
  {
   "cell_type": "code",
   "execution_count": 9,
   "metadata": {},
   "outputs": [
    {
     "output_type": "stream",
     "name": "stdout",
     "text": [
      "Not enough entries for Shoulder 1, discarding\nNot enough entries for Fourth Base 1, discarding\nNot enough entries for Shoulder 2, discarding\nNot enough entries for Index Base 2, discarding\nNot enough entries for Index Tip 2, discarding\nNot enough entries for Middle Base 2, discarding\n"
     ]
    }
   ],
   "source": [
    "old_dlt_coefs_file = '/Users/home/Documents/Bouchard/Brett Stuff/DeepLabCutCSVs/test_dlt.csv'\n",
    "dlt_coefs_file_1 = '/Users/home/Documents/Bouchard/Brett Stuff/DeepLabCutCSVs/many_pts_520_dltCoefs.csv'\n",
    "dlt_coefs_file_2 = '/Users/home/Documents/Bouchard/Brett Stuff/DeepLabCutCSVs/Under2px1_dltCoefs.csv'\n",
    "dlt_coefs_file_3 = '/Users/home/Documents/Bouchard/Brett Stuff/DeepLabCutCSVs/Try_1_DLCCalib_dltCoefs.csv'\n",
    "old_data_dict = process_csv(prediction_csvs)\n",
    "old_reconstructions = get_reconstructions(old_data_dict, old_dlt_coefs_file)\n",
    "reconstructions_1 = get_reconstructions(old_data_dict, dlt_coefs_file_1)\n",
    "reconstructions_2 = get_reconstructions(old_data_dict, dlt_coefs_file_2)\n",
    "reconstructions_3 = get_reconstructions(old_data_dict, dlt_coefs_file_3)\n",
    "# new_data_dict = process_csv(new_prediction_csvs)\n",
    "# new_reconstructions = get_reconstructions(new_data_dict)"
   ]
  },
  {
   "cell_type": "code",
   "execution_count": 10,
   "metadata": {},
   "outputs": [],
   "source": [
    "reconstructions = [old_reconstructions, reconstructions_1, reconstructions_2, reconstructions_3]\n",
    "errors = []\n",
    "for reconstruction in reconstructions:\n",
    "    errors.append(np.array([mean_squared_error(reconstruction[name][\"xyz_labelled\"], reconstruction[name][\"xyz_predicted_weighted\"], squared=False) for name in reconstruction.keys()]))"
   ]
  },
  {
   "cell_type": "code",
   "execution_count": 12,
   "metadata": {},
   "outputs": [
    {
     "output_type": "execute_result",
     "data": {
      "text/plain": [
       "[array([0.00139785, 0.00307314, 0.00794301, 0.01379153, 0.01071831,\n",
       "        0.01569158, 0.01568777, 0.01547204, 0.01602327, 0.01152801,\n",
       "        0.01856297, 0.01590736, 0.01735754, 0.01993328, 0.02281078,\n",
       "        0.02434813, 0.03456072, 0.03104685, 0.03395188, 0.03144773,\n",
       "        0.0340607 ]),\n",
       " array([0.00066861, 0.00150649, 0.00382846, 0.00673987, 0.00535432,\n",
       "        0.00739946, 0.00792314, 0.00696721, 0.00776206, 0.00555928,\n",
       "        0.00843252, 0.00721909, 0.00870651, 0.01579958, 0.01318319,\n",
       "        0.01397922, 0.01815998, 0.01655769, 0.01804713, 0.0174622 ,\n",
       "        0.01909802]),\n",
       " array([0.00139785, 0.00307314, 0.00794301, 0.01379153, 0.01071831,\n",
       "        0.01569158, 0.01568777, 0.01547204, 0.01602327, 0.01152801,\n",
       "        0.01856297, 0.01590736, 0.01735754, 0.01993328, 0.02281078,\n",
       "        0.02434813, 0.03456072, 0.03104685, 0.03395188, 0.03144773,\n",
       "        0.0340607 ]),\n",
       " array([0.0007339 , 0.00171476, 0.00416794, 0.00719579, 0.00583568,\n",
       "        0.00811366, 0.00873187, 0.0076825 , 0.00855412, 0.00608115,\n",
       "        0.00926739, 0.00792705, 0.00952676, 0.01697303, 0.01438313,\n",
       "        0.01509819, 0.01960993, 0.01773535, 0.01951171, 0.01877524,\n",
       "        0.02062494])]"
      ]
     },
     "metadata": {},
     "execution_count": 12
    }
   ],
   "source": [
    "errors"
   ]
  },
  {
   "cell_type": "code",
   "execution_count": 15,
   "metadata": {},
   "outputs": [
    {
     "output_type": "execute_result",
     "data": {
      "text/plain": [
       "Text(0.5, 1.0, 'RMSE Distibution across Body Parts')"
      ]
     },
     "metadata": {},
     "execution_count": 15
    },
    {
     "output_type": "display_data",
     "data": {
      "text/plain": "<Figure size 432x288 with 1 Axes>",
      "image/svg+xml": "<?xml version=\"1.0\" encoding=\"utf-8\" standalone=\"no\"?>\n<!DOCTYPE svg PUBLIC \"-//W3C//DTD SVG 1.1//EN\"\n  \"http://www.w3.org/Graphics/SVG/1.1/DTD/svg11.dtd\">\n<!-- Created with matplotlib (https://matplotlib.org/) -->\n<svg height=\"263.63625pt\" version=\"1.1\" viewBox=\"0 0 384.828125 263.63625\" width=\"384.828125pt\" xmlns=\"http://www.w3.org/2000/svg\" xmlns:xlink=\"http://www.w3.org/1999/xlink\">\n <defs>\n  <style type=\"text/css\">\n*{stroke-linecap:butt;stroke-linejoin:round;}\n  </style>\n </defs>\n <g id=\"figure_1\">\n  <g id=\"patch_1\">\n   <path d=\"M 0 263.63625 \nL 384.828125 263.63625 \nL 384.828125 0 \nL 0 0 \nz\n\" style=\"fill:none;\"/>\n  </g>\n  <g id=\"axes_1\">\n   <g id=\"patch_2\">\n    <path d=\"M 42.828125 239.758125 \nL 377.628125 239.758125 \nL 377.628125 22.318125 \nL 42.828125 22.318125 \nz\n\" style=\"fill:#ffffff;\"/>\n   </g>\n   <g id=\"matplotlib.axis_1\">\n    <g id=\"xtick_1\">\n     <g id=\"line2d_1\">\n      <defs>\n       <path d=\"M 0 0 \nL 0 3.5 \n\" id=\"m44d883d944\" style=\"stroke:#000000;stroke-width:0.8;\"/>\n      </defs>\n      <g>\n       <use style=\"stroke:#000000;stroke-width:0.8;\" x=\"84.678125\" xlink:href=\"#m44d883d944\" y=\"239.758125\"/>\n      </g>\n     </g>\n     <g id=\"text_1\">\n      <!-- Original DLT File -->\n      <defs>\n       <path d=\"M 39.40625 66.21875 \nQ 28.65625 66.21875 22.328125 58.203125 \nQ 16.015625 50.203125 16.015625 36.375 \nQ 16.015625 22.609375 22.328125 14.59375 \nQ 28.65625 6.59375 39.40625 6.59375 \nQ 50.140625 6.59375 56.421875 14.59375 \nQ 62.703125 22.609375 62.703125 36.375 \nQ 62.703125 50.203125 56.421875 58.203125 \nQ 50.140625 66.21875 39.40625 66.21875 \nz\nM 39.40625 74.21875 \nQ 54.734375 74.21875 63.90625 63.9375 \nQ 73.09375 53.65625 73.09375 36.375 \nQ 73.09375 19.140625 63.90625 8.859375 \nQ 54.734375 -1.421875 39.40625 -1.421875 \nQ 24.03125 -1.421875 14.8125 8.828125 \nQ 5.609375 19.09375 5.609375 36.375 \nQ 5.609375 53.65625 14.8125 63.9375 \nQ 24.03125 74.21875 39.40625 74.21875 \nz\n\" id=\"DejaVuSans-79\"/>\n       <path d=\"M 41.109375 46.296875 \nQ 39.59375 47.171875 37.8125 47.578125 \nQ 36.03125 48 33.890625 48 \nQ 26.265625 48 22.1875 43.046875 \nQ 18.109375 38.09375 18.109375 28.8125 \nL 18.109375 0 \nL 9.078125 0 \nL 9.078125 54.6875 \nL 18.109375 54.6875 \nL 18.109375 46.1875 \nQ 20.953125 51.171875 25.484375 53.578125 \nQ 30.03125 56 36.53125 56 \nQ 37.453125 56 38.578125 55.875 \nQ 39.703125 55.765625 41.0625 55.515625 \nz\n\" id=\"DejaVuSans-114\"/>\n       <path d=\"M 9.421875 54.6875 \nL 18.40625 54.6875 \nL 18.40625 0 \nL 9.421875 0 \nz\nM 9.421875 75.984375 \nL 18.40625 75.984375 \nL 18.40625 64.59375 \nL 9.421875 64.59375 \nz\n\" id=\"DejaVuSans-105\"/>\n       <path d=\"M 45.40625 27.984375 \nQ 45.40625 37.75 41.375 43.109375 \nQ 37.359375 48.484375 30.078125 48.484375 \nQ 22.859375 48.484375 18.828125 43.109375 \nQ 14.796875 37.75 14.796875 27.984375 \nQ 14.796875 18.265625 18.828125 12.890625 \nQ 22.859375 7.515625 30.078125 7.515625 \nQ 37.359375 7.515625 41.375 12.890625 \nQ 45.40625 18.265625 45.40625 27.984375 \nz\nM 54.390625 6.78125 \nQ 54.390625 -7.171875 48.1875 -13.984375 \nQ 42 -20.796875 29.203125 -20.796875 \nQ 24.46875 -20.796875 20.265625 -20.09375 \nQ 16.0625 -19.390625 12.109375 -17.921875 \nL 12.109375 -9.1875 \nQ 16.0625 -11.328125 19.921875 -12.34375 \nQ 23.78125 -13.375 27.78125 -13.375 \nQ 36.625 -13.375 41.015625 -8.765625 \nQ 45.40625 -4.15625 45.40625 5.171875 \nL 45.40625 9.625 \nQ 42.625 4.78125 38.28125 2.390625 \nQ 33.9375 0 27.875 0 \nQ 17.828125 0 11.671875 7.65625 \nQ 5.515625 15.328125 5.515625 27.984375 \nQ 5.515625 40.671875 11.671875 48.328125 \nQ 17.828125 56 27.875 56 \nQ 33.9375 56 38.28125 53.609375 \nQ 42.625 51.21875 45.40625 46.390625 \nL 45.40625 54.6875 \nL 54.390625 54.6875 \nz\n\" id=\"DejaVuSans-103\"/>\n       <path d=\"M 54.890625 33.015625 \nL 54.890625 0 \nL 45.90625 0 \nL 45.90625 32.71875 \nQ 45.90625 40.484375 42.875 44.328125 \nQ 39.84375 48.1875 33.796875 48.1875 \nQ 26.515625 48.1875 22.3125 43.546875 \nQ 18.109375 38.921875 18.109375 30.90625 \nL 18.109375 0 \nL 9.078125 0 \nL 9.078125 54.6875 \nL 18.109375 54.6875 \nL 18.109375 46.1875 \nQ 21.34375 51.125 25.703125 53.5625 \nQ 30.078125 56 35.796875 56 \nQ 45.21875 56 50.046875 50.171875 \nQ 54.890625 44.34375 54.890625 33.015625 \nz\n\" id=\"DejaVuSans-110\"/>\n       <path d=\"M 34.28125 27.484375 \nQ 23.390625 27.484375 19.1875 25 \nQ 14.984375 22.515625 14.984375 16.5 \nQ 14.984375 11.71875 18.140625 8.90625 \nQ 21.296875 6.109375 26.703125 6.109375 \nQ 34.1875 6.109375 38.703125 11.40625 \nQ 43.21875 16.703125 43.21875 25.484375 \nL 43.21875 27.484375 \nz\nM 52.203125 31.203125 \nL 52.203125 0 \nL 43.21875 0 \nL 43.21875 8.296875 \nQ 40.140625 3.328125 35.546875 0.953125 \nQ 30.953125 -1.421875 24.3125 -1.421875 \nQ 15.921875 -1.421875 10.953125 3.296875 \nQ 6 8.015625 6 15.921875 \nQ 6 25.140625 12.171875 29.828125 \nQ 18.359375 34.515625 30.609375 34.515625 \nL 43.21875 34.515625 \nL 43.21875 35.40625 \nQ 43.21875 41.609375 39.140625 45 \nQ 35.0625 48.390625 27.6875 48.390625 \nQ 23 48.390625 18.546875 47.265625 \nQ 14.109375 46.140625 10.015625 43.890625 \nL 10.015625 52.203125 \nQ 14.9375 54.109375 19.578125 55.046875 \nQ 24.21875 56 28.609375 56 \nQ 40.484375 56 46.34375 49.84375 \nQ 52.203125 43.703125 52.203125 31.203125 \nz\n\" id=\"DejaVuSans-97\"/>\n       <path d=\"M 9.421875 75.984375 \nL 18.40625 75.984375 \nL 18.40625 0 \nL 9.421875 0 \nz\n\" id=\"DejaVuSans-108\"/>\n       <path id=\"DejaVuSans-32\"/>\n       <path d=\"M 19.671875 64.796875 \nL 19.671875 8.109375 \nL 31.59375 8.109375 \nQ 46.6875 8.109375 53.6875 14.9375 \nQ 60.6875 21.78125 60.6875 36.53125 \nQ 60.6875 51.171875 53.6875 57.984375 \nQ 46.6875 64.796875 31.59375 64.796875 \nz\nM 9.8125 72.90625 \nL 30.078125 72.90625 \nQ 51.265625 72.90625 61.171875 64.09375 \nQ 71.09375 55.28125 71.09375 36.53125 \nQ 71.09375 17.671875 61.125 8.828125 \nQ 51.171875 0 30.078125 0 \nL 9.8125 0 \nz\n\" id=\"DejaVuSans-68\"/>\n       <path d=\"M 9.8125 72.90625 \nL 19.671875 72.90625 \nL 19.671875 8.296875 \nL 55.171875 8.296875 \nL 55.171875 0 \nL 9.8125 0 \nz\n\" id=\"DejaVuSans-76\"/>\n       <path d=\"M -0.296875 72.90625 \nL 61.375 72.90625 \nL 61.375 64.59375 \nL 35.5 64.59375 \nL 35.5 0 \nL 25.59375 0 \nL 25.59375 64.59375 \nL -0.296875 64.59375 \nz\n\" id=\"DejaVuSans-84\"/>\n       <path d=\"M 9.8125 72.90625 \nL 51.703125 72.90625 \nL 51.703125 64.59375 \nL 19.671875 64.59375 \nL 19.671875 43.109375 \nL 48.578125 43.109375 \nL 48.578125 34.8125 \nL 19.671875 34.8125 \nL 19.671875 0 \nL 9.8125 0 \nz\n\" id=\"DejaVuSans-70\"/>\n       <path d=\"M 56.203125 29.59375 \nL 56.203125 25.203125 \nL 14.890625 25.203125 \nQ 15.484375 15.921875 20.484375 11.0625 \nQ 25.484375 6.203125 34.421875 6.203125 \nQ 39.59375 6.203125 44.453125 7.46875 \nQ 49.3125 8.734375 54.109375 11.28125 \nL 54.109375 2.78125 \nQ 49.265625 0.734375 44.1875 -0.34375 \nQ 39.109375 -1.421875 33.890625 -1.421875 \nQ 20.796875 -1.421875 13.15625 6.1875 \nQ 5.515625 13.8125 5.515625 26.8125 \nQ 5.515625 40.234375 12.765625 48.109375 \nQ 20.015625 56 32.328125 56 \nQ 43.359375 56 49.78125 48.890625 \nQ 56.203125 41.796875 56.203125 29.59375 \nz\nM 47.21875 32.234375 \nQ 47.125 39.59375 43.09375 43.984375 \nQ 39.0625 48.390625 32.421875 48.390625 \nQ 24.90625 48.390625 20.390625 44.140625 \nQ 15.875 39.890625 15.1875 32.171875 \nz\n\" id=\"DejaVuSans-101\"/>\n      </defs>\n      <g transform=\"translate(43.529687 254.356563)scale(0.1 -0.1)\">\n       <use xlink:href=\"#DejaVuSans-79\"/>\n       <use x=\"78.710938\" xlink:href=\"#DejaVuSans-114\"/>\n       <use x=\"119.824219\" xlink:href=\"#DejaVuSans-105\"/>\n       <use x=\"147.607422\" xlink:href=\"#DejaVuSans-103\"/>\n       <use x=\"211.083984\" xlink:href=\"#DejaVuSans-105\"/>\n       <use x=\"238.867188\" xlink:href=\"#DejaVuSans-110\"/>\n       <use x=\"302.246094\" xlink:href=\"#DejaVuSans-97\"/>\n       <use x=\"363.525391\" xlink:href=\"#DejaVuSans-108\"/>\n       <use x=\"391.308594\" xlink:href=\"#DejaVuSans-32\"/>\n       <use x=\"423.095703\" xlink:href=\"#DejaVuSans-68\"/>\n       <use x=\"500.097656\" xlink:href=\"#DejaVuSans-76\"/>\n       <use x=\"555.607422\" xlink:href=\"#DejaVuSans-84\"/>\n       <use x=\"616.691406\" xlink:href=\"#DejaVuSans-32\"/>\n       <use x=\"648.478516\" xlink:href=\"#DejaVuSans-70\"/>\n       <use x=\"705.888672\" xlink:href=\"#DejaVuSans-105\"/>\n       <use x=\"733.671875\" xlink:href=\"#DejaVuSans-108\"/>\n       <use x=\"761.455078\" xlink:href=\"#DejaVuSans-101\"/>\n      </g>\n     </g>\n    </g>\n    <g id=\"xtick_2\">\n     <g id=\"line2d_2\">\n      <g>\n       <use style=\"stroke:#000000;stroke-width:0.8;\" x=\"168.378125\" xlink:href=\"#m44d883d944\" y=\"239.758125\"/>\n      </g>\n     </g>\n     <g id=\"text_2\">\n      <!-- 520 Points -->\n      <defs>\n       <path d=\"M 10.796875 72.90625 \nL 49.515625 72.90625 \nL 49.515625 64.59375 \nL 19.828125 64.59375 \nL 19.828125 46.734375 \nQ 21.96875 47.46875 24.109375 47.828125 \nQ 26.265625 48.1875 28.421875 48.1875 \nQ 40.625 48.1875 47.75 41.5 \nQ 54.890625 34.8125 54.890625 23.390625 \nQ 54.890625 11.625 47.5625 5.09375 \nQ 40.234375 -1.421875 26.90625 -1.421875 \nQ 22.3125 -1.421875 17.546875 -0.640625 \nQ 12.796875 0.140625 7.71875 1.703125 \nL 7.71875 11.625 \nQ 12.109375 9.234375 16.796875 8.0625 \nQ 21.484375 6.890625 26.703125 6.890625 \nQ 35.15625 6.890625 40.078125 11.328125 \nQ 45.015625 15.765625 45.015625 23.390625 \nQ 45.015625 31 40.078125 35.4375 \nQ 35.15625 39.890625 26.703125 39.890625 \nQ 22.75 39.890625 18.8125 39.015625 \nQ 14.890625 38.140625 10.796875 36.28125 \nz\n\" id=\"DejaVuSans-53\"/>\n       <path d=\"M 19.1875 8.296875 \nL 53.609375 8.296875 \nL 53.609375 0 \nL 7.328125 0 \nL 7.328125 8.296875 \nQ 12.9375 14.109375 22.625 23.890625 \nQ 32.328125 33.6875 34.8125 36.53125 \nQ 39.546875 41.84375 41.421875 45.53125 \nQ 43.3125 49.21875 43.3125 52.78125 \nQ 43.3125 58.59375 39.234375 62.25 \nQ 35.15625 65.921875 28.609375 65.921875 \nQ 23.96875 65.921875 18.8125 64.3125 \nQ 13.671875 62.703125 7.8125 59.421875 \nL 7.8125 69.390625 \nQ 13.765625 71.78125 18.9375 73 \nQ 24.125 74.21875 28.421875 74.21875 \nQ 39.75 74.21875 46.484375 68.546875 \nQ 53.21875 62.890625 53.21875 53.421875 \nQ 53.21875 48.921875 51.53125 44.890625 \nQ 49.859375 40.875 45.40625 35.40625 \nQ 44.1875 33.984375 37.640625 27.21875 \nQ 31.109375 20.453125 19.1875 8.296875 \nz\n\" id=\"DejaVuSans-50\"/>\n       <path d=\"M 31.78125 66.40625 \nQ 24.171875 66.40625 20.328125 58.90625 \nQ 16.5 51.421875 16.5 36.375 \nQ 16.5 21.390625 20.328125 13.890625 \nQ 24.171875 6.390625 31.78125 6.390625 \nQ 39.453125 6.390625 43.28125 13.890625 \nQ 47.125 21.390625 47.125 36.375 \nQ 47.125 51.421875 43.28125 58.90625 \nQ 39.453125 66.40625 31.78125 66.40625 \nz\nM 31.78125 74.21875 \nQ 44.046875 74.21875 50.515625 64.515625 \nQ 56.984375 54.828125 56.984375 36.375 \nQ 56.984375 17.96875 50.515625 8.265625 \nQ 44.046875 -1.421875 31.78125 -1.421875 \nQ 19.53125 -1.421875 13.0625 8.265625 \nQ 6.59375 17.96875 6.59375 36.375 \nQ 6.59375 54.828125 13.0625 64.515625 \nQ 19.53125 74.21875 31.78125 74.21875 \nz\n\" id=\"DejaVuSans-48\"/>\n       <path d=\"M 19.671875 64.796875 \nL 19.671875 37.40625 \nL 32.078125 37.40625 \nQ 38.96875 37.40625 42.71875 40.96875 \nQ 46.484375 44.53125 46.484375 51.125 \nQ 46.484375 57.671875 42.71875 61.234375 \nQ 38.96875 64.796875 32.078125 64.796875 \nz\nM 9.8125 72.90625 \nL 32.078125 72.90625 \nQ 44.34375 72.90625 50.609375 67.359375 \nQ 56.890625 61.8125 56.890625 51.125 \nQ 56.890625 40.328125 50.609375 34.8125 \nQ 44.34375 29.296875 32.078125 29.296875 \nL 19.671875 29.296875 \nL 19.671875 0 \nL 9.8125 0 \nz\n\" id=\"DejaVuSans-80\"/>\n       <path d=\"M 30.609375 48.390625 \nQ 23.390625 48.390625 19.1875 42.75 \nQ 14.984375 37.109375 14.984375 27.296875 \nQ 14.984375 17.484375 19.15625 11.84375 \nQ 23.34375 6.203125 30.609375 6.203125 \nQ 37.796875 6.203125 41.984375 11.859375 \nQ 46.1875 17.53125 46.1875 27.296875 \nQ 46.1875 37.015625 41.984375 42.703125 \nQ 37.796875 48.390625 30.609375 48.390625 \nz\nM 30.609375 56 \nQ 42.328125 56 49.015625 48.375 \nQ 55.71875 40.765625 55.71875 27.296875 \nQ 55.71875 13.875 49.015625 6.21875 \nQ 42.328125 -1.421875 30.609375 -1.421875 \nQ 18.84375 -1.421875 12.171875 6.21875 \nQ 5.515625 13.875 5.515625 27.296875 \nQ 5.515625 40.765625 12.171875 48.375 \nQ 18.84375 56 30.609375 56 \nz\n\" id=\"DejaVuSans-111\"/>\n       <path d=\"M 18.3125 70.21875 \nL 18.3125 54.6875 \nL 36.8125 54.6875 \nL 36.8125 47.703125 \nL 18.3125 47.703125 \nL 18.3125 18.015625 \nQ 18.3125 11.328125 20.140625 9.421875 \nQ 21.96875 7.515625 27.59375 7.515625 \nL 36.8125 7.515625 \nL 36.8125 0 \nL 27.59375 0 \nQ 17.1875 0 13.234375 3.875 \nQ 9.28125 7.765625 9.28125 18.015625 \nL 9.28125 47.703125 \nL 2.6875 47.703125 \nL 2.6875 54.6875 \nL 9.28125 54.6875 \nL 9.28125 70.21875 \nz\n\" id=\"DejaVuSans-116\"/>\n       <path d=\"M 44.28125 53.078125 \nL 44.28125 44.578125 \nQ 40.484375 46.53125 36.375 47.5 \nQ 32.28125 48.484375 27.875 48.484375 \nQ 21.1875 48.484375 17.84375 46.4375 \nQ 14.5 44.390625 14.5 40.28125 \nQ 14.5 37.15625 16.890625 35.375 \nQ 19.28125 33.59375 26.515625 31.984375 \nL 29.59375 31.296875 \nQ 39.15625 29.25 43.1875 25.515625 \nQ 47.21875 21.78125 47.21875 15.09375 \nQ 47.21875 7.46875 41.1875 3.015625 \nQ 35.15625 -1.421875 24.609375 -1.421875 \nQ 20.21875 -1.421875 15.453125 -0.5625 \nQ 10.6875 0.296875 5.421875 2 \nL 5.421875 11.28125 \nQ 10.40625 8.6875 15.234375 7.390625 \nQ 20.0625 6.109375 24.8125 6.109375 \nQ 31.15625 6.109375 34.5625 8.28125 \nQ 37.984375 10.453125 37.984375 14.40625 \nQ 37.984375 18.0625 35.515625 20.015625 \nQ 33.0625 21.96875 24.703125 23.78125 \nL 21.578125 24.515625 \nQ 13.234375 26.265625 9.515625 29.90625 \nQ 5.8125 33.546875 5.8125 39.890625 \nQ 5.8125 47.609375 11.28125 51.796875 \nQ 16.75 56 26.8125 56 \nQ 31.78125 56 36.171875 55.265625 \nQ 40.578125 54.546875 44.28125 53.078125 \nz\n\" id=\"DejaVuSans-115\"/>\n      </defs>\n      <g transform=\"translate(142.050781 254.356563)scale(0.1 -0.1)\">\n       <use xlink:href=\"#DejaVuSans-53\"/>\n       <use x=\"63.623047\" xlink:href=\"#DejaVuSans-50\"/>\n       <use x=\"127.246094\" xlink:href=\"#DejaVuSans-48\"/>\n       <use x=\"190.869141\" xlink:href=\"#DejaVuSans-32\"/>\n       <use x=\"222.65625\" xlink:href=\"#DejaVuSans-80\"/>\n       <use x=\"282.912109\" xlink:href=\"#DejaVuSans-111\"/>\n       <use x=\"344.09375\" xlink:href=\"#DejaVuSans-105\"/>\n       <use x=\"371.876953\" xlink:href=\"#DejaVuSans-110\"/>\n       <use x=\"435.255859\" xlink:href=\"#DejaVuSans-116\"/>\n       <use x=\"474.464844\" xlink:href=\"#DejaVuSans-115\"/>\n      </g>\n     </g>\n    </g>\n    <g id=\"xtick_3\">\n     <g id=\"line2d_3\">\n      <g>\n       <use style=\"stroke:#000000;stroke-width:0.8;\" x=\"252.078125\" xlink:href=\"#m44d883d944\" y=\"239.758125\"/>\n      </g>\n     </g>\n     <g id=\"text_3\">\n      <!-- Under 2px -->\n      <defs>\n       <path d=\"M 8.6875 72.90625 \nL 18.609375 72.90625 \nL 18.609375 28.609375 \nQ 18.609375 16.890625 22.84375 11.734375 \nQ 27.09375 6.59375 36.625 6.59375 \nQ 46.09375 6.59375 50.34375 11.734375 \nQ 54.59375 16.890625 54.59375 28.609375 \nL 54.59375 72.90625 \nL 64.5 72.90625 \nL 64.5 27.390625 \nQ 64.5 13.140625 57.4375 5.859375 \nQ 50.390625 -1.421875 36.625 -1.421875 \nQ 22.796875 -1.421875 15.734375 5.859375 \nQ 8.6875 13.140625 8.6875 27.390625 \nz\n\" id=\"DejaVuSans-85\"/>\n       <path d=\"M 45.40625 46.390625 \nL 45.40625 75.984375 \nL 54.390625 75.984375 \nL 54.390625 0 \nL 45.40625 0 \nL 45.40625 8.203125 \nQ 42.578125 3.328125 38.25 0.953125 \nQ 33.9375 -1.421875 27.875 -1.421875 \nQ 17.96875 -1.421875 11.734375 6.484375 \nQ 5.515625 14.40625 5.515625 27.296875 \nQ 5.515625 40.1875 11.734375 48.09375 \nQ 17.96875 56 27.875 56 \nQ 33.9375 56 38.25 53.625 \nQ 42.578125 51.265625 45.40625 46.390625 \nz\nM 14.796875 27.296875 \nQ 14.796875 17.390625 18.875 11.75 \nQ 22.953125 6.109375 30.078125 6.109375 \nQ 37.203125 6.109375 41.296875 11.75 \nQ 45.40625 17.390625 45.40625 27.296875 \nQ 45.40625 37.203125 41.296875 42.84375 \nQ 37.203125 48.484375 30.078125 48.484375 \nQ 22.953125 48.484375 18.875 42.84375 \nQ 14.796875 37.203125 14.796875 27.296875 \nz\n\" id=\"DejaVuSans-100\"/>\n       <path d=\"M 18.109375 8.203125 \nL 18.109375 -20.796875 \nL 9.078125 -20.796875 \nL 9.078125 54.6875 \nL 18.109375 54.6875 \nL 18.109375 46.390625 \nQ 20.953125 51.265625 25.265625 53.625 \nQ 29.59375 56 35.59375 56 \nQ 45.5625 56 51.78125 48.09375 \nQ 58.015625 40.1875 58.015625 27.296875 \nQ 58.015625 14.40625 51.78125 6.484375 \nQ 45.5625 -1.421875 35.59375 -1.421875 \nQ 29.59375 -1.421875 25.265625 0.953125 \nQ 20.953125 3.328125 18.109375 8.203125 \nz\nM 48.6875 27.296875 \nQ 48.6875 37.203125 44.609375 42.84375 \nQ 40.53125 48.484375 33.40625 48.484375 \nQ 26.265625 48.484375 22.1875 42.84375 \nQ 18.109375 37.203125 18.109375 27.296875 \nQ 18.109375 17.390625 22.1875 11.75 \nQ 26.265625 6.109375 33.40625 6.109375 \nQ 40.53125 6.109375 44.609375 11.75 \nQ 48.6875 17.390625 48.6875 27.296875 \nz\n\" id=\"DejaVuSans-112\"/>\n       <path d=\"M 54.890625 54.6875 \nL 35.109375 28.078125 \nL 55.90625 0 \nL 45.3125 0 \nL 29.390625 21.484375 \nL 13.484375 0 \nL 2.875 0 \nL 24.125 28.609375 \nL 4.6875 54.6875 \nL 15.28125 54.6875 \nL 29.78125 35.203125 \nL 44.28125 54.6875 \nz\n\" id=\"DejaVuSans-120\"/>\n      </defs>\n      <g transform=\"translate(226.039844 254.356563)scale(0.1 -0.1)\">\n       <use xlink:href=\"#DejaVuSans-85\"/>\n       <use x=\"73.193359\" xlink:href=\"#DejaVuSans-110\"/>\n       <use x=\"136.572266\" xlink:href=\"#DejaVuSans-100\"/>\n       <use x=\"200.048828\" xlink:href=\"#DejaVuSans-101\"/>\n       <use x=\"261.572266\" xlink:href=\"#DejaVuSans-114\"/>\n       <use x=\"302.685547\" xlink:href=\"#DejaVuSans-32\"/>\n       <use x=\"334.472656\" xlink:href=\"#DejaVuSans-50\"/>\n       <use x=\"398.095703\" xlink:href=\"#DejaVuSans-112\"/>\n       <use x=\"461.572266\" xlink:href=\"#DejaVuSans-120\"/>\n      </g>\n     </g>\n    </g>\n    <g id=\"xtick_4\">\n     <g id=\"line2d_4\">\n      <g>\n       <use style=\"stroke:#000000;stroke-width:0.8;\" x=\"335.778125\" xlink:href=\"#m44d883d944\" y=\"239.758125\"/>\n      </g>\n     </g>\n     <g id=\"text_4\">\n      <!-- Label Try 1 -->\n      <defs>\n       <path d=\"M 48.6875 27.296875 \nQ 48.6875 37.203125 44.609375 42.84375 \nQ 40.53125 48.484375 33.40625 48.484375 \nQ 26.265625 48.484375 22.1875 42.84375 \nQ 18.109375 37.203125 18.109375 27.296875 \nQ 18.109375 17.390625 22.1875 11.75 \nQ 26.265625 6.109375 33.40625 6.109375 \nQ 40.53125 6.109375 44.609375 11.75 \nQ 48.6875 17.390625 48.6875 27.296875 \nz\nM 18.109375 46.390625 \nQ 20.953125 51.265625 25.265625 53.625 \nQ 29.59375 56 35.59375 56 \nQ 45.5625 56 51.78125 48.09375 \nQ 58.015625 40.1875 58.015625 27.296875 \nQ 58.015625 14.40625 51.78125 6.484375 \nQ 45.5625 -1.421875 35.59375 -1.421875 \nQ 29.59375 -1.421875 25.265625 0.953125 \nQ 20.953125 3.328125 18.109375 8.203125 \nL 18.109375 0 \nL 9.078125 0 \nL 9.078125 75.984375 \nL 18.109375 75.984375 \nz\n\" id=\"DejaVuSans-98\"/>\n       <path d=\"M 32.171875 -5.078125 \nQ 28.375 -14.84375 24.75 -17.8125 \nQ 21.140625 -20.796875 15.09375 -20.796875 \nL 7.90625 -20.796875 \nL 7.90625 -13.28125 \nL 13.1875 -13.28125 \nQ 16.890625 -13.28125 18.9375 -11.515625 \nQ 21 -9.765625 23.484375 -3.21875 \nL 25.09375 0.875 \nL 2.984375 54.6875 \nL 12.5 54.6875 \nL 29.59375 11.921875 \nL 46.6875 54.6875 \nL 56.203125 54.6875 \nz\n\" id=\"DejaVuSans-121\"/>\n       <path d=\"M 12.40625 8.296875 \nL 28.515625 8.296875 \nL 28.515625 63.921875 \nL 10.984375 60.40625 \nL 10.984375 69.390625 \nL 28.421875 72.90625 \nL 38.28125 72.90625 \nL 38.28125 8.296875 \nL 54.390625 8.296875 \nL 54.390625 0 \nL 12.40625 0 \nz\n\" id=\"DejaVuSans-49\"/>\n      </defs>\n      <g transform=\"translate(307.871094 254.356563)scale(0.1 -0.1)\">\n       <use xlink:href=\"#DejaVuSans-76\"/>\n       <use x=\"55.712891\" xlink:href=\"#DejaVuSans-97\"/>\n       <use x=\"116.992188\" xlink:href=\"#DejaVuSans-98\"/>\n       <use x=\"180.46875\" xlink:href=\"#DejaVuSans-101\"/>\n       <use x=\"241.992188\" xlink:href=\"#DejaVuSans-108\"/>\n       <use x=\"269.775391\" xlink:href=\"#DejaVuSans-32\"/>\n       <use x=\"301.5625\" xlink:href=\"#DejaVuSans-84\"/>\n       <use x=\"362.427734\" xlink:href=\"#DejaVuSans-114\"/>\n       <use x=\"403.541016\" xlink:href=\"#DejaVuSans-121\"/>\n       <use x=\"462.720703\" xlink:href=\"#DejaVuSans-32\"/>\n       <use x=\"494.507812\" xlink:href=\"#DejaVuSans-49\"/>\n      </g>\n     </g>\n    </g>\n   </g>\n   <g id=\"matplotlib.axis_2\">\n    <g id=\"ytick_1\">\n     <g id=\"line2d_5\">\n      <defs>\n       <path d=\"M 0 0 \nL -3.5 0 \n\" id=\"me504d39bf4\" style=\"stroke:#000000;stroke-width:0.8;\"/>\n      </defs>\n      <g>\n       <use style=\"stroke:#000000;stroke-width:0.8;\" x=\"42.828125\" xlink:href=\"#me504d39bf4\" y=\"233.774102\"/>\n      </g>\n     </g>\n     <g id=\"text_5\">\n      <!-- 0.000 -->\n      <defs>\n       <path d=\"M 10.6875 12.40625 \nL 21 12.40625 \nL 21 0 \nL 10.6875 0 \nz\n\" id=\"DejaVuSans-46\"/>\n      </defs>\n      <g transform=\"translate(7.2 237.573321)scale(0.1 -0.1)\">\n       <use xlink:href=\"#DejaVuSans-48\"/>\n       <use x=\"63.623047\" xlink:href=\"#DejaVuSans-46\"/>\n       <use x=\"95.410156\" xlink:href=\"#DejaVuSans-48\"/>\n       <use x=\"159.033203\" xlink:href=\"#DejaVuSans-48\"/>\n       <use x=\"222.65625\" xlink:href=\"#DejaVuSans-48\"/>\n      </g>\n     </g>\n    </g>\n    <g id=\"ytick_2\">\n     <g id=\"line2d_6\">\n      <g>\n       <use style=\"stroke:#000000;stroke-width:0.8;\" x=\"42.828125\" xlink:href=\"#me504d39bf4\" y=\"204.612047\"/>\n      </g>\n     </g>\n     <g id=\"text_6\">\n      <!-- 0.005 -->\n      <g transform=\"translate(7.2 208.411266)scale(0.1 -0.1)\">\n       <use xlink:href=\"#DejaVuSans-48\"/>\n       <use x=\"63.623047\" xlink:href=\"#DejaVuSans-46\"/>\n       <use x=\"95.410156\" xlink:href=\"#DejaVuSans-48\"/>\n       <use x=\"159.033203\" xlink:href=\"#DejaVuSans-48\"/>\n       <use x=\"222.65625\" xlink:href=\"#DejaVuSans-53\"/>\n      </g>\n     </g>\n    </g>\n    <g id=\"ytick_3\">\n     <g id=\"line2d_7\">\n      <g>\n       <use style=\"stroke:#000000;stroke-width:0.8;\" x=\"42.828125\" xlink:href=\"#me504d39bf4\" y=\"175.449992\"/>\n      </g>\n     </g>\n     <g id=\"text_7\">\n      <!-- 0.010 -->\n      <g transform=\"translate(7.2 179.24921)scale(0.1 -0.1)\">\n       <use xlink:href=\"#DejaVuSans-48\"/>\n       <use x=\"63.623047\" xlink:href=\"#DejaVuSans-46\"/>\n       <use x=\"95.410156\" xlink:href=\"#DejaVuSans-48\"/>\n       <use x=\"159.033203\" xlink:href=\"#DejaVuSans-49\"/>\n       <use x=\"222.65625\" xlink:href=\"#DejaVuSans-48\"/>\n      </g>\n     </g>\n    </g>\n    <g id=\"ytick_4\">\n     <g id=\"line2d_8\">\n      <g>\n       <use style=\"stroke:#000000;stroke-width:0.8;\" x=\"42.828125\" xlink:href=\"#me504d39bf4\" y=\"146.287936\"/>\n      </g>\n     </g>\n     <g id=\"text_8\">\n      <!-- 0.015 -->\n      <g transform=\"translate(7.2 150.087155)scale(0.1 -0.1)\">\n       <use xlink:href=\"#DejaVuSans-48\"/>\n       <use x=\"63.623047\" xlink:href=\"#DejaVuSans-46\"/>\n       <use x=\"95.410156\" xlink:href=\"#DejaVuSans-48\"/>\n       <use x=\"159.033203\" xlink:href=\"#DejaVuSans-49\"/>\n       <use x=\"222.65625\" xlink:href=\"#DejaVuSans-53\"/>\n      </g>\n     </g>\n    </g>\n    <g id=\"ytick_5\">\n     <g id=\"line2d_9\">\n      <g>\n       <use style=\"stroke:#000000;stroke-width:0.8;\" x=\"42.828125\" xlink:href=\"#me504d39bf4\" y=\"117.125881\"/>\n      </g>\n     </g>\n     <g id=\"text_9\">\n      <!-- 0.020 -->\n      <g transform=\"translate(7.2 120.9251)scale(0.1 -0.1)\">\n       <use xlink:href=\"#DejaVuSans-48\"/>\n       <use x=\"63.623047\" xlink:href=\"#DejaVuSans-46\"/>\n       <use x=\"95.410156\" xlink:href=\"#DejaVuSans-48\"/>\n       <use x=\"159.033203\" xlink:href=\"#DejaVuSans-50\"/>\n       <use x=\"222.65625\" xlink:href=\"#DejaVuSans-48\"/>\n      </g>\n     </g>\n    </g>\n    <g id=\"ytick_6\">\n     <g id=\"line2d_10\">\n      <g>\n       <use style=\"stroke:#000000;stroke-width:0.8;\" x=\"42.828125\" xlink:href=\"#me504d39bf4\" y=\"87.963826\"/>\n      </g>\n     </g>\n     <g id=\"text_10\">\n      <!-- 0.025 -->\n      <g transform=\"translate(7.2 91.763044)scale(0.1 -0.1)\">\n       <use xlink:href=\"#DejaVuSans-48\"/>\n       <use x=\"63.623047\" xlink:href=\"#DejaVuSans-46\"/>\n       <use x=\"95.410156\" xlink:href=\"#DejaVuSans-48\"/>\n       <use x=\"159.033203\" xlink:href=\"#DejaVuSans-50\"/>\n       <use x=\"222.65625\" xlink:href=\"#DejaVuSans-53\"/>\n      </g>\n     </g>\n    </g>\n    <g id=\"ytick_7\">\n     <g id=\"line2d_11\">\n      <g>\n       <use style=\"stroke:#000000;stroke-width:0.8;\" x=\"42.828125\" xlink:href=\"#me504d39bf4\" y=\"58.80177\"/>\n      </g>\n     </g>\n     <g id=\"text_11\">\n      <!-- 0.030 -->\n      <defs>\n       <path d=\"M 40.578125 39.3125 \nQ 47.65625 37.796875 51.625 33 \nQ 55.609375 28.21875 55.609375 21.1875 \nQ 55.609375 10.40625 48.1875 4.484375 \nQ 40.765625 -1.421875 27.09375 -1.421875 \nQ 22.515625 -1.421875 17.65625 -0.515625 \nQ 12.796875 0.390625 7.625 2.203125 \nL 7.625 11.71875 \nQ 11.71875 9.328125 16.59375 8.109375 \nQ 21.484375 6.890625 26.8125 6.890625 \nQ 36.078125 6.890625 40.9375 10.546875 \nQ 45.796875 14.203125 45.796875 21.1875 \nQ 45.796875 27.640625 41.28125 31.265625 \nQ 36.765625 34.90625 28.71875 34.90625 \nL 20.21875 34.90625 \nL 20.21875 43.015625 \nL 29.109375 43.015625 \nQ 36.375 43.015625 40.234375 45.921875 \nQ 44.09375 48.828125 44.09375 54.296875 \nQ 44.09375 59.90625 40.109375 62.90625 \nQ 36.140625 65.921875 28.71875 65.921875 \nQ 24.65625 65.921875 20.015625 65.03125 \nQ 15.375 64.15625 9.8125 62.3125 \nL 9.8125 71.09375 \nQ 15.4375 72.65625 20.34375 73.4375 \nQ 25.25 74.21875 29.59375 74.21875 \nQ 40.828125 74.21875 47.359375 69.109375 \nQ 53.90625 64.015625 53.90625 55.328125 \nQ 53.90625 49.265625 50.4375 45.09375 \nQ 46.96875 40.921875 40.578125 39.3125 \nz\n\" id=\"DejaVuSans-51\"/>\n      </defs>\n      <g transform=\"translate(7.2 62.600989)scale(0.1 -0.1)\">\n       <use xlink:href=\"#DejaVuSans-48\"/>\n       <use x=\"63.623047\" xlink:href=\"#DejaVuSans-46\"/>\n       <use x=\"95.410156\" xlink:href=\"#DejaVuSans-48\"/>\n       <use x=\"159.033203\" xlink:href=\"#DejaVuSans-51\"/>\n       <use x=\"222.65625\" xlink:href=\"#DejaVuSans-48\"/>\n      </g>\n     </g>\n    </g>\n    <g id=\"ytick_8\">\n     <g id=\"line2d_12\">\n      <g>\n       <use style=\"stroke:#000000;stroke-width:0.8;\" x=\"42.828125\" xlink:href=\"#me504d39bf4\" y=\"29.639715\"/>\n      </g>\n     </g>\n     <g id=\"text_12\">\n      <!-- 0.035 -->\n      <g transform=\"translate(7.2 33.438934)scale(0.1 -0.1)\">\n       <use xlink:href=\"#DejaVuSans-48\"/>\n       <use x=\"63.623047\" xlink:href=\"#DejaVuSans-46\"/>\n       <use x=\"95.410156\" xlink:href=\"#DejaVuSans-48\"/>\n       <use x=\"159.033203\" xlink:href=\"#DejaVuSans-51\"/>\n       <use x=\"222.65625\" xlink:href=\"#DejaVuSans-53\"/>\n      </g>\n     </g>\n    </g>\n   </g>\n   <g id=\"line2d_13\">\n    <path clip-path=\"url(#p201c0734ec)\" d=\"M 65.845625 153.336246 \nL 103.510625 153.336246 \nL 103.510625 91.765807 \nL 65.845625 91.765807 \nL 65.845625 153.336246 \n\" style=\"fill:none;stroke:#000000;stroke-linecap:square;\"/>\n   </g>\n   <g id=\"line2d_14\">\n    <path clip-path=\"url(#p201c0734ec)\" d=\"M 84.678125 153.336246 \nL 84.678125 225.621292 \n\" style=\"fill:none;stroke:#000000;stroke-linecap:square;\"/>\n   </g>\n   <g id=\"line2d_15\">\n    <path clip-path=\"url(#p201c0734ec)\" d=\"M 84.678125 91.765807 \nL 84.678125 32.201761 \n\" style=\"fill:none;stroke:#000000;stroke-linecap:square;\"/>\n   </g>\n   <g id=\"line2d_16\">\n    <path clip-path=\"url(#p201c0734ec)\" d=\"M 75.261875 225.621292 \nL 94.094375 225.621292 \n\" style=\"fill:none;stroke:#000000;stroke-linecap:square;\"/>\n   </g>\n   <g id=\"line2d_17\">\n    <path clip-path=\"url(#p201c0734ec)\" d=\"M 75.261875 32.201761 \nL 94.094375 32.201761 \n\" style=\"fill:none;stroke:#000000;stroke-linecap:square;\"/>\n   </g>\n   <g id=\"line2d_18\"/>\n   <g id=\"line2d_19\">\n    <path clip-path=\"url(#p201c0734ec)\" d=\"M 149.545625 194.464418 \nL 187.210625 194.464418 \nL 187.210625 141.62447 \nL 149.545625 141.62447 \nL 149.545625 194.464418 \n\" style=\"fill:none;stroke:#000000;stroke-linecap:square;\"/>\n   </g>\n   <g id=\"line2d_20\">\n    <path clip-path=\"url(#p201c0734ec)\" d=\"M 168.378125 194.464418 \nL 168.378125 229.874489 \n\" style=\"fill:none;stroke:#000000;stroke-linecap:square;\"/>\n   </g>\n   <g id=\"line2d_21\">\n    <path clip-path=\"url(#p201c0734ec)\" d=\"M 168.378125 141.62447 \nL 168.378125 122.386584 \n\" style=\"fill:none;stroke:#000000;stroke-linecap:square;\"/>\n   </g>\n   <g id=\"line2d_22\">\n    <path clip-path=\"url(#p201c0734ec)\" d=\"M 158.961875 229.874489 \nL 177.794375 229.874489 \n\" style=\"fill:none;stroke:#000000;stroke-linecap:square;\"/>\n   </g>\n   <g id=\"line2d_23\">\n    <path clip-path=\"url(#p201c0734ec)\" d=\"M 158.961875 122.386584 \nL 177.794375 122.386584 \n\" style=\"fill:none;stroke:#000000;stroke-linecap:square;\"/>\n   </g>\n   <g id=\"line2d_24\"/>\n   <g id=\"line2d_25\">\n    <path clip-path=\"url(#p201c0734ec)\" d=\"M 233.245625 153.336246 \nL 270.910625 153.336246 \nL 270.910625 91.765807 \nL 233.245625 91.765807 \nL 233.245625 153.336246 \n\" style=\"fill:none;stroke:#000000;stroke-linecap:square;\"/>\n   </g>\n   <g id=\"line2d_26\">\n    <path clip-path=\"url(#p201c0734ec)\" d=\"M 252.078125 153.336246 \nL 252.078125 225.621292 \n\" style=\"fill:none;stroke:#000000;stroke-linecap:square;\"/>\n   </g>\n   <g id=\"line2d_27\">\n    <path clip-path=\"url(#p201c0734ec)\" d=\"M 252.078125 91.765807 \nL 252.078125 32.201761 \n\" style=\"fill:none;stroke:#000000;stroke-linecap:square;\"/>\n   </g>\n   <g id=\"line2d_28\">\n    <path clip-path=\"url(#p201c0734ec)\" d=\"M 242.661875 225.621292 \nL 261.494375 225.621292 \n\" style=\"fill:none;stroke:#000000;stroke-linecap:square;\"/>\n   </g>\n   <g id=\"line2d_29\">\n    <path clip-path=\"url(#p201c0734ec)\" d=\"M 242.661875 32.201761 \nL 261.494375 32.201761 \n\" style=\"fill:none;stroke:#000000;stroke-linecap:square;\"/>\n   </g>\n   <g id=\"line2d_30\"/>\n   <g id=\"line2d_31\">\n    <path clip-path=\"url(#p201c0734ec)\" d=\"M 316.945625 191.805324 \nL 354.610625 191.805324 \nL 354.610625 134.780416 \nL 316.945625 134.780416 \nL 316.945625 191.805324 \n\" style=\"fill:none;stroke:#000000;stroke-linecap:square;\"/>\n   </g>\n   <g id=\"line2d_32\">\n    <path clip-path=\"url(#p201c0734ec)\" d=\"M 335.778125 191.805324 \nL 335.778125 229.493682 \n\" style=\"fill:none;stroke:#000000;stroke-linecap:square;\"/>\n   </g>\n   <g id=\"line2d_33\">\n    <path clip-path=\"url(#p201c0734ec)\" d=\"M 335.778125 134.780416 \nL 335.778125 113.480962 \n\" style=\"fill:none;stroke:#000000;stroke-linecap:square;\"/>\n   </g>\n   <g id=\"line2d_34\">\n    <path clip-path=\"url(#p201c0734ec)\" d=\"M 326.361875 229.493682 \nL 345.194375 229.493682 \n\" style=\"fill:none;stroke:#000000;stroke-linecap:square;\"/>\n   </g>\n   <g id=\"line2d_35\">\n    <path clip-path=\"url(#p201c0734ec)\" d=\"M 326.361875 113.480962 \nL 345.194375 113.480962 \n\" style=\"fill:none;stroke:#000000;stroke-linecap:square;\"/>\n   </g>\n   <g id=\"line2d_36\"/>\n   <g id=\"line2d_37\">\n    <path clip-path=\"url(#p201c0734ec)\" d=\"M 65.845625 140.319796 \nL 103.510625 140.319796 \n\" style=\"fill:none;stroke:#ff7f0e;stroke-linecap:square;\"/>\n   </g>\n   <g id=\"line2d_38\">\n    <path clip-path=\"url(#p201c0734ec)\" d=\"M 149.545625 187.563103 \nL 187.210625 187.563103 \n\" style=\"fill:none;stroke:#ff7f0e;stroke-linecap:square;\"/>\n   </g>\n   <g id=\"line2d_39\">\n    <path clip-path=\"url(#p201c0734ec)\" d=\"M 233.245625 140.319796 \nL 270.910625 140.319796 \n\" style=\"fill:none;stroke:#ff7f0e;stroke-linecap:square;\"/>\n   </g>\n   <g id=\"line2d_40\">\n    <path clip-path=\"url(#p201c0734ec)\" d=\"M 316.945625 182.84626 \nL 354.610625 182.84626 \n\" style=\"fill:none;stroke:#ff7f0e;stroke-linecap:square;\"/>\n   </g>\n   <g id=\"patch_3\">\n    <path d=\"M 42.828125 239.758125 \nL 42.828125 22.318125 \n\" style=\"fill:none;stroke:#000000;stroke-linecap:square;stroke-linejoin:miter;stroke-width:0.8;\"/>\n   </g>\n   <g id=\"patch_4\">\n    <path d=\"M 377.628125 239.758125 \nL 377.628125 22.318125 \n\" style=\"fill:none;stroke:#000000;stroke-linecap:square;stroke-linejoin:miter;stroke-width:0.8;\"/>\n   </g>\n   <g id=\"patch_5\">\n    <path d=\"M 42.828125 239.758125 \nL 377.628125 239.758125 \n\" style=\"fill:none;stroke:#000000;stroke-linecap:square;stroke-linejoin:miter;stroke-width:0.8;\"/>\n   </g>\n   <g id=\"patch_6\">\n    <path d=\"M 42.828125 22.318125 \nL 377.628125 22.318125 \n\" style=\"fill:none;stroke:#000000;stroke-linecap:square;stroke-linejoin:miter;stroke-width:0.8;\"/>\n   </g>\n   <g id=\"text_13\">\n    <!-- RMSE Distibution across Body Parts -->\n    <defs>\n     <path d=\"M 44.390625 34.1875 \nQ 47.5625 33.109375 50.5625 29.59375 \nQ 53.5625 26.078125 56.59375 19.921875 \nL 66.609375 0 \nL 56 0 \nL 46.6875 18.703125 \nQ 43.0625 26.03125 39.671875 28.421875 \nQ 36.28125 30.8125 30.421875 30.8125 \nL 19.671875 30.8125 \nL 19.671875 0 \nL 9.8125 0 \nL 9.8125 72.90625 \nL 32.078125 72.90625 \nQ 44.578125 72.90625 50.734375 67.671875 \nQ 56.890625 62.453125 56.890625 51.90625 \nQ 56.890625 45.015625 53.6875 40.46875 \nQ 50.484375 35.9375 44.390625 34.1875 \nz\nM 19.671875 64.796875 \nL 19.671875 38.921875 \nL 32.078125 38.921875 \nQ 39.203125 38.921875 42.84375 42.21875 \nQ 46.484375 45.515625 46.484375 51.90625 \nQ 46.484375 58.296875 42.84375 61.546875 \nQ 39.203125 64.796875 32.078125 64.796875 \nz\n\" id=\"DejaVuSans-82\"/>\n     <path d=\"M 9.8125 72.90625 \nL 24.515625 72.90625 \nL 43.109375 23.296875 \nL 61.8125 72.90625 \nL 76.515625 72.90625 \nL 76.515625 0 \nL 66.890625 0 \nL 66.890625 64.015625 \nL 48.09375 14.015625 \nL 38.1875 14.015625 \nL 19.390625 64.015625 \nL 19.390625 0 \nL 9.8125 0 \nz\n\" id=\"DejaVuSans-77\"/>\n     <path d=\"M 53.515625 70.515625 \nL 53.515625 60.890625 \nQ 47.90625 63.578125 42.921875 64.890625 \nQ 37.9375 66.21875 33.296875 66.21875 \nQ 25.25 66.21875 20.875 63.09375 \nQ 16.5 59.96875 16.5 54.203125 \nQ 16.5 49.359375 19.40625 46.890625 \nQ 22.3125 44.4375 30.421875 42.921875 \nL 36.375 41.703125 \nQ 47.40625 39.59375 52.65625 34.296875 \nQ 57.90625 29 57.90625 20.125 \nQ 57.90625 9.515625 50.796875 4.046875 \nQ 43.703125 -1.421875 29.984375 -1.421875 \nQ 24.8125 -1.421875 18.96875 -0.25 \nQ 13.140625 0.921875 6.890625 3.21875 \nL 6.890625 13.375 \nQ 12.890625 10.015625 18.65625 8.296875 \nQ 24.421875 6.59375 29.984375 6.59375 \nQ 38.421875 6.59375 43.015625 9.90625 \nQ 47.609375 13.234375 47.609375 19.390625 \nQ 47.609375 24.75 44.3125 27.78125 \nQ 41.015625 30.8125 33.5 32.328125 \nL 27.484375 33.5 \nQ 16.453125 35.6875 11.515625 40.375 \nQ 6.59375 45.0625 6.59375 53.421875 \nQ 6.59375 63.09375 13.40625 68.65625 \nQ 20.21875 74.21875 32.171875 74.21875 \nQ 37.3125 74.21875 42.625 73.28125 \nQ 47.953125 72.359375 53.515625 70.515625 \nz\n\" id=\"DejaVuSans-83\"/>\n     <path d=\"M 9.8125 72.90625 \nL 55.90625 72.90625 \nL 55.90625 64.59375 \nL 19.671875 64.59375 \nL 19.671875 43.015625 \nL 54.390625 43.015625 \nL 54.390625 34.71875 \nL 19.671875 34.71875 \nL 19.671875 8.296875 \nL 56.78125 8.296875 \nL 56.78125 0 \nL 9.8125 0 \nz\n\" id=\"DejaVuSans-69\"/>\n     <path d=\"M 8.5 21.578125 \nL 8.5 54.6875 \nL 17.484375 54.6875 \nL 17.484375 21.921875 \nQ 17.484375 14.15625 20.5 10.265625 \nQ 23.53125 6.390625 29.59375 6.390625 \nQ 36.859375 6.390625 41.078125 11.03125 \nQ 45.3125 15.671875 45.3125 23.6875 \nL 45.3125 54.6875 \nL 54.296875 54.6875 \nL 54.296875 0 \nL 45.3125 0 \nL 45.3125 8.40625 \nQ 42.046875 3.421875 37.71875 1 \nQ 33.40625 -1.421875 27.6875 -1.421875 \nQ 18.265625 -1.421875 13.375 4.4375 \nQ 8.5 10.296875 8.5 21.578125 \nz\nM 31.109375 56 \nz\n\" id=\"DejaVuSans-117\"/>\n     <path d=\"M 48.78125 52.59375 \nL 48.78125 44.1875 \nQ 44.96875 46.296875 41.140625 47.34375 \nQ 37.3125 48.390625 33.40625 48.390625 \nQ 24.65625 48.390625 19.8125 42.84375 \nQ 14.984375 37.3125 14.984375 27.296875 \nQ 14.984375 17.28125 19.8125 11.734375 \nQ 24.65625 6.203125 33.40625 6.203125 \nQ 37.3125 6.203125 41.140625 7.25 \nQ 44.96875 8.296875 48.78125 10.40625 \nL 48.78125 2.09375 \nQ 45.015625 0.34375 40.984375 -0.53125 \nQ 36.96875 -1.421875 32.421875 -1.421875 \nQ 20.0625 -1.421875 12.78125 6.34375 \nQ 5.515625 14.109375 5.515625 27.296875 \nQ 5.515625 40.671875 12.859375 48.328125 \nQ 20.21875 56 33.015625 56 \nQ 37.15625 56 41.109375 55.140625 \nQ 45.0625 54.296875 48.78125 52.59375 \nz\n\" id=\"DejaVuSans-99\"/>\n     <path d=\"M 19.671875 34.8125 \nL 19.671875 8.109375 \nL 35.5 8.109375 \nQ 43.453125 8.109375 47.28125 11.40625 \nQ 51.125 14.703125 51.125 21.484375 \nQ 51.125 28.328125 47.28125 31.5625 \nQ 43.453125 34.8125 35.5 34.8125 \nz\nM 19.671875 64.796875 \nL 19.671875 42.828125 \nL 34.28125 42.828125 \nQ 41.5 42.828125 45.03125 45.53125 \nQ 48.578125 48.25 48.578125 53.8125 \nQ 48.578125 59.328125 45.03125 62.0625 \nQ 41.5 64.796875 34.28125 64.796875 \nz\nM 9.8125 72.90625 \nL 35.015625 72.90625 \nQ 46.296875 72.90625 52.390625 68.21875 \nQ 58.5 63.53125 58.5 54.890625 \nQ 58.5 48.1875 55.375 44.234375 \nQ 52.25 40.28125 46.1875 39.3125 \nQ 53.46875 37.75 57.5 32.78125 \nQ 61.53125 27.828125 61.53125 20.40625 \nQ 61.53125 10.640625 54.890625 5.3125 \nQ 48.25 0 35.984375 0 \nL 9.8125 0 \nz\n\" id=\"DejaVuSans-66\"/>\n    </defs>\n    <g transform=\"translate(103.371875 16.318125)scale(0.12 -0.12)\">\n     <use xlink:href=\"#DejaVuSans-82\"/>\n     <use x=\"69.482422\" xlink:href=\"#DejaVuSans-77\"/>\n     <use x=\"155.761719\" xlink:href=\"#DejaVuSans-83\"/>\n     <use x=\"219.238281\" xlink:href=\"#DejaVuSans-69\"/>\n     <use x=\"282.421875\" xlink:href=\"#DejaVuSans-32\"/>\n     <use x=\"314.208984\" xlink:href=\"#DejaVuSans-68\"/>\n     <use x=\"391.210938\" xlink:href=\"#DejaVuSans-105\"/>\n     <use x=\"418.994141\" xlink:href=\"#DejaVuSans-115\"/>\n     <use x=\"471.09375\" xlink:href=\"#DejaVuSans-116\"/>\n     <use x=\"510.302734\" xlink:href=\"#DejaVuSans-105\"/>\n     <use x=\"538.085938\" xlink:href=\"#DejaVuSans-98\"/>\n     <use x=\"601.5625\" xlink:href=\"#DejaVuSans-117\"/>\n     <use x=\"664.941406\" xlink:href=\"#DejaVuSans-116\"/>\n     <use x=\"704.150391\" xlink:href=\"#DejaVuSans-105\"/>\n     <use x=\"731.933594\" xlink:href=\"#DejaVuSans-111\"/>\n     <use x=\"793.115234\" xlink:href=\"#DejaVuSans-110\"/>\n     <use x=\"856.494141\" xlink:href=\"#DejaVuSans-32\"/>\n     <use x=\"888.28125\" xlink:href=\"#DejaVuSans-97\"/>\n     <use x=\"949.560547\" xlink:href=\"#DejaVuSans-99\"/>\n     <use x=\"1004.541016\" xlink:href=\"#DejaVuSans-114\"/>\n     <use x=\"1045.623047\" xlink:href=\"#DejaVuSans-111\"/>\n     <use x=\"1106.804688\" xlink:href=\"#DejaVuSans-115\"/>\n     <use x=\"1158.904297\" xlink:href=\"#DejaVuSans-115\"/>\n     <use x=\"1211.003906\" xlink:href=\"#DejaVuSans-32\"/>\n     <use x=\"1242.791016\" xlink:href=\"#DejaVuSans-66\"/>\n     <use x=\"1311.394531\" xlink:href=\"#DejaVuSans-111\"/>\n     <use x=\"1372.576172\" xlink:href=\"#DejaVuSans-100\"/>\n     <use x=\"1436.052734\" xlink:href=\"#DejaVuSans-121\"/>\n     <use x=\"1495.232422\" xlink:href=\"#DejaVuSans-32\"/>\n     <use x=\"1527.019531\" xlink:href=\"#DejaVuSans-80\"/>\n     <use x=\"1587.259766\" xlink:href=\"#DejaVuSans-97\"/>\n     <use x=\"1648.539062\" xlink:href=\"#DejaVuSans-114\"/>\n     <use x=\"1689.652344\" xlink:href=\"#DejaVuSans-116\"/>\n     <use x=\"1728.861328\" xlink:href=\"#DejaVuSans-115\"/>\n    </g>\n   </g>\n  </g>\n </g>\n <defs>\n  <clipPath id=\"p201c0734ec\">\n   <rect height=\"217.44\" width=\"334.8\" x=\"42.828125\" y=\"22.318125\"/>\n  </clipPath>\n </defs>\n</svg>\n",
      "image/png": "[encoded data removed]"
     },
     "metadata": {
      "needs_background": "light"
     }
    }
   ],
   "source": [
    "plt.boxplot(errors, labels=[\"Original DLT File\", \"520 Points\", \"Under 2px\", \"Label Try 1\"])\n",
    "plt.title(\"RMSE Distibution across Body Parts\")"
   ]
  },
  {
   "cell_type": "code",
   "execution_count": null,
   "metadata": {},
   "outputs": [],
   "source": []
  }
 ]
}