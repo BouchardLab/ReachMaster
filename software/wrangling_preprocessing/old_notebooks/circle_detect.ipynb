{
 "cells": [
  {
   "cell_type": "code",
   "execution_count": 1,
   "metadata": {},
   "outputs": [
    {
     "name": "stderr",
     "output_type": "stream",
     "text": [
      "/home/pns/anaconda3/lib/python3.6/site-packages/skimage/viewer/utils/core.py:10: UserWarning: Recommended matplotlib backend is `Agg` for full skimage.viewer functionality.\n",
      "  warn(\"Recommended matplotlib backend is `Agg` for full \"\n"
     ]
    }
   ],
   "source": [
    "import os \n",
    "import sys\n",
    "import numpy as np\n",
    "from skimage.viewer import ImageViewer\n",
    "import re\n",
    "import glob\n",
    "import collections \n",
    "from sklearn.cluster import KMeans\n",
    "\n",
    "ros_path = '/opt/ros/kinetic/lib/python2.7/dist-packages'\n",
    "if ros_path in sys.path:\n",
    "    sys.path.remove('/opt/ros/kinetic/lib/python2.7/dist-packages')\n",
    "import cv2\n"
   ]
  },
  {
   "cell_type": "markdown",
   "metadata": {},
   "source": [
    "# Make Video Footage with circles\n",
    "## Manually draw circles\n"
   ]
  },
  {
   "cell_type": "code",
   "execution_count": 2,
   "metadata": {},
   "outputs": [],
   "source": [
    "path = '.'\n",
    "files= [file for file in os.listdir(path) if file.endswith('.png')]\n",
    "def byFrame(img):\n",
    "    return  int(re.search(r'\\d+', img[18:22]).group())\n",
    "files.sort(key = byFrame)\n"
   ]
  },
  {
   "cell_type": "code",
   "execution_count": 3,
   "metadata": {},
   "outputs": [],
   "source": [
    "#All circle Locations\n",
    "circ_locs = [(672,358),(383,390),(412,555),(460,718),(660,696),(865,710),(890,545),(935,375)]\n",
    "#(675,532) for frame 192\n",
    "#(673,528) for frame 328\n",
    "#(658,520) for frame 444\n",
    "#(652,523) for frame 555\n",
    "#(650,525) for frame 753\n",
    "#(656,528) for frame 866\n",
    "#(678, 539) for frame 985\n",
    "avg_center = (663,528)"
   ]
  },
  {
   "cell_type": "code",
   "execution_count": 4,
   "metadata": {},
   "outputs": [],
   "source": [
    "def label_circles(locs, img_name):\n",
    "    img = cv2.imread(img_name,1)\n",
    "    #same color circles\n",
    "    for loc in locs:\n",
    "        cv2.circle(img, loc, 63,(0,0,255),5)\n",
    "    #center circle different color \n",
    "    cv2.circle(img, avg_center, 63, (255,0,0),5)\n",
    "#    #Outer Circle \n",
    "#     cv2.circle(img, avg_center, 106, (255,0,0),2)\n",
    "    return img \n",
    "def label_images(locs, img_files):\n",
    "    labeled_imgs = collections.deque()\n",
    "    for img_name in img_files:\n",
    "        new_img = label_circles(locs, img_name)\n",
    "        labeled_imgs.append(new_img)\n",
    "    return labeled_imgs "
   ]
  },
  {
   "cell_type": "code",
   "execution_count": 5,
   "metadata": {},
   "outputs": [],
   "source": [
    "# labeled = label_images(circ_locs, files)"
   ]
  },
  {
   "cell_type": "code",
   "execution_count": 6,
   "metadata": {},
   "outputs": [],
   "source": [
    "# height, width, layers = labeled[0].shape\n",
    "\n",
    "# fps = 60\n",
    "# video = cv2.VideoWriter('labeled_movement.avi', cv2.VideoWriter_fourcc(*'XVID'), fps, (width,height))\n",
    "# for i in range(len(labeled)):    \n",
    "#     video.write(labeled[i])\n",
    "# cv2.destroyAllWindows()\n",
    "# video.release()"
   ]
  },
  {
   "cell_type": "markdown",
   "metadata": {},
   "source": [
    "# Hough Transform "
   ]
  },
  {
   "cell_type": "code",
   "execution_count": 5,
   "metadata": {},
   "outputs": [],
   "source": [
    "def find_circles(img_name):\n",
    "    start_param = 30\n",
    "    max_param = 50\n",
    "    img = cv2.imread(img_name, 1)\n",
    "    cimg = cv2.medianBlur(img,5)\n",
    "    gray = cv2.cvtColor(cimg, cv2.COLOR_BGR2GRAY)\n",
    "    circles = cv2.HoughCircles(gray,cv2.HOUGH_GRADIENT,1,10,param1=50,param2=start_param,minRadius=65,maxRadius=80)\n",
    "    while ((circles is not None) and (circles.shape[1] > 1)):\n",
    "        start_param = (start_param +max_param)/2\n",
    "        circles = cv2.HoughCircles(gray,cv2.HOUGH_GRADIENT,1,10,param1=50,param2=start_param,minRadius=65,maxRadius=80)\n",
    "    circ_tup = (-100, -100, -10)\n",
    "    if circles is not None:\n",
    "        circles = np.uint16(np.around(circles))\n",
    "        for i in circles[0,:]:\n",
    "            # draw the outer circle\n",
    "            cv2.circle(img,(i[0],i[1]),i[2],(0,255,0),2)\n",
    "            # draw the center of the circle\n",
    "            cv2.circle(img,(i[0],i[1]),2,(0,0,255),3)\n",
    "            circ_tup = (i[0],i[1],i[2])\n",
    "    return img, circ_tup\n",
    "def circles_all(img_array):\n",
    "    labeled = collections.deque()\n",
    "    for img in img_array:\n",
    "        new_img,circ_tup = find_circles(img)\n",
    "        labeled.append(new_img)\n",
    "    return labeled"
   ]
  },
  {
   "cell_type": "code",
   "execution_count": 6,
   "metadata": {},
   "outputs": [],
   "source": [
    "def find_center_radius(img_array,num_clusters):\n",
    "    circ_list = []\n",
    "    for img in img_array:\n",
    "        new_img,circ_tup = find_circles(img)\n",
    "#         cv2.imwrite(\"circle\" + str(byFrame(img))+\".png\", new_img)\n",
    "        circ_list.append(circ_tup)\n",
    "    circ_mat = np.array(circ_list)\n",
    "    kmeans = KMeans(n_clusters=num_clusters, random_state=0).fit(circ_mat[:,:2])\n",
    "    return circ_mat, kmeans\n",
    "def calc_center_radius(circ_mat, kmeans, num_clusters):\n",
    "    avg_radius = []\n",
    "    for j in range(10):\n",
    "        indices = np.where(kmeans.labels_ == j)\n",
    "        radius = circ_m[indices,2]\n",
    "        avg_radius.append(np.average(radius))\n",
    "    return np.hstack((np.rint(kmeans.cluster_centers_),np.rint(avg_radius)[:,np.newaxis]))\n",
    "def label_hough_circles(circles, img_name):\n",
    "    img = cv2.imread(img_name,1)\n",
    "    for idx in range(len(circles)):\n",
    "        c = circles[idx]\n",
    "        if (c > 0).all():\n",
    "            if idx ==0:\n",
    "                cv2.circle(img, (int(c[0]),int(c[1])), int(c[2]),(255,0,0),5)\n",
    "            else:\n",
    "                cv2.circle(img, (int(c[0]),int(c[1])), int(c[2]),(0,0,255),5)\n",
    "    return img \n",
    "def label_hough_images(circles, img_files):\n",
    "    labeled_imgs = collections.deque()\n",
    "    for img_name in img_files:\n",
    "        new_img = label_hough_circles(circles, img_name)\n",
    "        labeled_imgs.append(new_img)\n",
    "    return labeled_imgs \n"
   ]
  },
  {
   "cell_type": "code",
   "execution_count": 7,
   "metadata": {},
   "outputs": [],
   "source": [
    "#10 clusters because we move to 9 positions and 1 extra cluster to account for frames where no circles found.\n",
    "circ_m, kmeans = find_center_radius(files,10)"
   ]
  },
  {
   "cell_type": "code",
   "execution_count": 8,
   "metadata": {},
   "outputs": [
    {
     "data": {
      "text/plain": [
       "array([[ 652.,  533.,   74.],\n",
       "       [-100., -100.,  -10.],\n",
       "       [ 407.,  567.,   69.],\n",
       "       [ 925.,  378.,   70.],\n",
       "       [ 872.,  724.,   71.],\n",
       "       [ 452.,  732.,   70.],\n",
       "       [ 652.,  365.,   71.],\n",
       "       [ 377.,  400.,   67.],\n",
       "       [ 659.,  709.,   73.],\n",
       "       [ 901.,  550.,   72.]])"
      ]
     },
     "execution_count": 8,
     "metadata": {},
     "output_type": "execute_result"
    }
   ],
   "source": [
    "circ_ = calc_center_radius(circ_m, kmeans, 10)\n",
    "circ_"
   ]
  },
  {
   "cell_type": "markdown",
   "metadata": {},
   "source": [
    "# Auto-Draw Circles"
   ]
  },
  {
   "cell_type": "code",
   "execution_count": 9,
   "metadata": {},
   "outputs": [],
   "source": [
    "#first image to half way point of images\n",
    "labeled_auto = label_hough_images(circ_, files[0:1186])"
   ]
  },
  {
   "cell_type": "code",
   "execution_count": 31,
   "metadata": {},
   "outputs": [
    {
     "data": {
      "text/plain": [
       "[]"
      ]
     },
     "execution_count": 31,
     "metadata": {},
     "output_type": "execute_result"
    }
   ],
   "source": [
    "# labeled_auto[0]\n",
    "# viewer = ImageViewer(labeled_auto[0])\n",
    "# viewer.show()"
   ]
  },
  {
   "cell_type": "code",
   "execution_count": 16,
   "metadata": {},
   "outputs": [],
   "source": [
    "height, width, layers = labeled_auto[0].shape\n",
    "\n",
    "fps = 60\n",
    "video = cv2.VideoWriter('auto_hough_movement.mov', cv2.VideoWriter_fourcc('m', 'p', '4', 'v'), fps, (width,height))\n",
    "# video = cv2.VideoWriter('auto_hough_movement.mov', cv2.VideoWriter_fourcc(*'XVID'), fps, (width,height))\n",
    "for i in range(len(labeled_auto)):    \n",
    "    video.write(labeled_auto[i])\n",
    "cv2.destroyAllWindows()\n",
    "video.release()"
   ]
  },
  {
   "cell_type": "code",
   "execution_count": 11,
   "metadata": {},
   "outputs": [],
   "source": [
    "for filename in glob.glob(\"circle*\"):\n",
    "    os.remove(filename) "
   ]
  },
  {
   "cell_type": "code",
   "execution_count": null,
   "metadata": {},
   "outputs": [],
   "source": []
  },
  {
   "cell_type": "code",
   "execution_count": null,
   "metadata": {},
   "outputs": [],
   "source": []
  },
  {
   "cell_type": "code",
   "execution_count": null,
   "metadata": {},
   "outputs": [],
   "source": []
  }
 ],
 "metadata": {
  "kernelspec": {
   "display_name": "Python 2",
   "language": "python",
   "name": "python2"
  },
  "language_info": {
   "codemirror_mode": {
    "name": "ipython",
    "version": 2
   },
   "file_extension": ".py",
   "mimetype": "text/x-python",
   "name": "python",
   "nbconvert_exporter": "python",
   "pygments_lexer": "ipython2",
   "version": "2.7.15"
  }
 },
 "nbformat": 4,
 "nbformat_minor": 2
}
