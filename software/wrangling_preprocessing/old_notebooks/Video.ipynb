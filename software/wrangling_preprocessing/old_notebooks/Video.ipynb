{
 "cells": [
  {
   "cell_type": "code",
   "execution_count": 10,
   "metadata": {},
   "outputs": [],
   "source": [
    "import numpy as np\n",
    "import sys\n",
    "ros_path = '/opt/ros/kinetic/lib/python2.7/dist-packages'\n",
    "\n",
    "if ros_path in sys.path:\n",
    "\n",
    "    sys.path.remove('/opt/ros/kinetic/lib/python2.7/dist-packages')\n",
    "\n",
    "import cv2\n",
    "sys.path.append('/opt/ros/kinetic/lib/python2.7/dist-packages')\n",
    "\n",
    "import os\n",
    "os.chdir('/home/pns/Desktop/project/camera/camera/data/2019-04-10 13:46:27.346940/debayered/')\n",
    "image_folder = 'trial: 10'\n",
    "video_name = 'trial10.mov'\n",
    "\n",
    "images0 = [img for img in os.listdir(image_folder) if img.endswith(\".png\") and img[8]=='0']\n",
    "def byTime(img):\n",
    "    return int(img[14:27])\n",
    "images0.sort(key=byTime)\n",
    "\n",
    "images1 = [img for img in os.listdir(image_folder) if img.endswith(\".png\") and img[8]=='1']\n",
    "def byTime(img):\n",
    "    return int(img[14:27])\n",
    "images1.sort(key=byTime)\n",
    "frame = cv2.imread(os.path.join(image_folder, images0[0]))\n",
    "height, width, layers = frame.shape\n",
    "\n",
    "fps = 30\n",
    "video = cv2.VideoWriter(video_name, cv2.VideoWriter_fourcc('m', 'p', '4', 'v'), fps, (2*width,height))\n",
    "\n",
    "for i in range(len(images0)):    \n",
    "    img0 = cv2.imread(os.path.join(image_folder, images0[i]))\n",
    "#     if i == 0:    \n",
    "#         max_R = np.amax (img0) # returns max value inside flattened array\n",
    "    #450-800, 550 dimensions\n",
    "#     img0[450:800,550,2] = max_R\n",
    "#     img0[450:800,550,1] = 0\n",
    "#     img0[450:800,550,0] = 0\n",
    "    img1 = cv2.imread(os.path.join(image_folder, images1[i]))\n",
    "    img = np.hstack((img0, img1))\n",
    "    video.write(img)\n",
    "   \n",
    "cv2.destroyAllWindows()\n",
    "video.release()\n"
   ]
  },
  {
   "cell_type": "code",
   "execution_count": 73,
   "metadata": {},
   "outputs": [
    {
     "data": {
      "text/plain": [
       "range(0, 10)"
      ]
     },
     "execution_count": 73,
     "metadata": {},
     "output_type": "execute_result"
    }
   ],
   "source": [
    "range(10)"
   ]
  },
  {
   "cell_type": "code",
   "execution_count": null,
   "metadata": {},
   "outputs": [],
   "source": []
  }
 ],
 "metadata": {
  "kernelspec": {
   "display_name": "Python 2",
   "language": "python",
   "name": "python2"
  },
  "language_info": {
   "codemirror_mode": {
    "name": "ipython",
    "version": 2
   },
   "file_extension": ".py",
   "mimetype": "text/x-python",
   "name": "python",
   "nbconvert_exporter": "python",
   "pygments_lexer": "ipython2",
   "version": "2.7.15"
  }
 },
 "nbformat": 4,
 "nbformat_minor": 2
}
