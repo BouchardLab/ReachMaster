{
 "cells": [
  {
   "cell_type": "code",
   "execution_count": 124,
   "metadata": {},
   "outputs": [],
   "source": [
    "import pandas as pd\n",
    "import seaborn as sns\n",
    "import matplotlib.pyplot as plt\n",
    "import numpy as np\n",
    "import seaborn as sns\n",
    "df = pd.read_csv('save_df.csv')\n",
    "\n",
    "S_F_16=df.loc[df['rat'] =='RM16']"
   ]
  },
  {
   "cell_type": "code",
   "execution_count": 4,
   "metadata": {},
   "outputs": [
    {
     "data": {
      "text/html": [
       "<div>\n",
       "<style scoped>\n",
       "    .dataframe tbody tr th:only-of-type {\n",
       "        vertical-align: middle;\n",
       "    }\n",
       "\n",
       "    .dataframe tbody tr th {\n",
       "        vertical-align: top;\n",
       "    }\n",
       "\n",
       "    .dataframe thead th {\n",
       "        text-align: right;\n",
       "    }\n",
       "</style>\n",
       "<table border=\"1\" class=\"dataframe\">\n",
       "  <thead>\n",
       "    <tr style=\"text-align: right;\">\n",
       "      <th></th>\n",
       "      <th>Unnamed: 0</th>\n",
       "      <th>rat</th>\n",
       "      <th>S</th>\n",
       "      <th>dim</th>\n",
       "      <th>time</th>\n",
       "      <th>m_start</th>\n",
       "      <th>m_stop</th>\n",
       "      <th>SF</th>\n",
       "      <th>t_m</th>\n",
       "      <th>lick</th>\n",
       "      <th>r_x</th>\n",
       "      <th>r_y</th>\n",
       "      <th>r_z</th>\n",
       "      <th>x_p</th>\n",
       "      <th>y_p</th>\n",
       "      <th>z_p</th>\n",
       "      <th>x0</th>\n",
       "      <th>y0</th>\n",
       "      <th>z0</th>\n",
       "    </tr>\n",
       "    <tr>\n",
       "      <th>Date</th>\n",
       "      <th></th>\n",
       "      <th></th>\n",
       "      <th></th>\n",
       "      <th></th>\n",
       "      <th></th>\n",
       "      <th></th>\n",
       "      <th></th>\n",
       "      <th></th>\n",
       "      <th></th>\n",
       "      <th></th>\n",
       "      <th></th>\n",
       "      <th></th>\n",
       "      <th></th>\n",
       "      <th></th>\n",
       "      <th></th>\n",
       "      <th></th>\n",
       "      <th></th>\n",
       "      <th></th>\n",
       "      <th></th>\n",
       "    </tr>\n",
       "  </thead>\n",
       "  <tbody>\n",
       "    <tr>\n",
       "      <th>0190926</th>\n",
       "      <td>0</td>\n",
       "      <td>RM16</td>\n",
       "      <td>S2</td>\n",
       "      <td>/home/pns/rat_reaching/scripts/9pt_pidiv3_cone...</td>\n",
       "      <td>[ 19.01139986  19.05139983  19.07639992 ... 68...</td>\n",
       "      <td>[ 78.22839987  92.3313998   98.89239991 109.91...</td>\n",
       "      <td>[ 82.15740001  95.87839997 102.88239992 113.91...</td>\n",
       "      <td>[ 0  1  2  4  5  7  9 11 12 13 14 15 16 17 18 ...</td>\n",
       "      <td>[0. 0. 0. ... 0. 0. 0.]</td>\n",
       "      <td>[  0.          79.26013333  79.26333333 ... 67...</td>\n",
       "      <td>[6897 6865 6881 ... 6313 6297 6305]</td>\n",
       "      <td>[7425 7409 7433 ... 5713 5697 5697]</td>\n",
       "      <td>[7145 7089 7089 ... 7025 7049 7025]</td>\n",
       "      <td>651.8 679.1 464.1 650.0 771.2 582.4 680.0 454....</td>\n",
       "      <td>449.2 424.1 805.2 771.9 807.2 459.4 862.2 730....</td>\n",
       "      <td>438.9 625.5 581.6 714.1 525.8 652.6 521.6 525....</td>\n",
       "      <td>1024</td>\n",
       "      <td>608</td>\n",
       "      <td>531</td>\n",
       "    </tr>\n",
       "    <tr>\n",
       "      <th>0190926</th>\n",
       "      <td>0</td>\n",
       "      <td>RM16</td>\n",
       "      <td>S1</td>\n",
       "      <td>/home/pns/rat_reaching/scripts/9pt_pidiv3_cone...</td>\n",
       "      <td>[ 20.06564992  20.11265009  20.13365    ... 68...</td>\n",
       "      <td>[ 71.68464988 112.41764992 183.50765007 211.47...</td>\n",
       "      <td>[ 75.69064992 116.19565004 187.50765007 215.48...</td>\n",
       "      <td>[ 1  2  3  5  7  8  9 10 11 13 15 16 20]</td>\n",
       "      <td>[0. 0. 0. ... 0. 0. 0.]</td>\n",
       "      <td>[  0.         113.19493333 113.19866667 113.48...</td>\n",
       "      <td>[4777 4793 4793 ... 7009 7017 7025]</td>\n",
       "      <td>[4961 4929 4969 ... 4937 4945 4937]</td>\n",
       "      <td>[5889 5857 5889 ... 4465 4465 4465]</td>\n",
       "      <td>651.8 679.1 464.1 650.0 771.2 582.4 680.0 454....</td>\n",
       "      <td>449.2 424.1 805.2 771.9 807.2 459.4 862.2 730....</td>\n",
       "      <td>438.9 625.5 581.6 714.1 525.8 652.6 521.6 525....</td>\n",
       "      <td>1024</td>\n",
       "      <td>608</td>\n",
       "      <td>531</td>\n",
       "    </tr>\n",
       "    <tr>\n",
       "      <th>0190926</th>\n",
       "      <td>0</td>\n",
       "      <td>RM16</td>\n",
       "      <td>S4</td>\n",
       "      <td>/home/pns/rat_reaching/scripts/9pt_pidiv3_cone...</td>\n",
       "      <td>[ 19.1802167   19.19621673  19.2492167  ... 77...</td>\n",
       "      <td>[116.13121667 125.17821684 134.28621664 142.18...</td>\n",
       "      <td>[120.13221684 128.41921678 138.28721681 146.19...</td>\n",
       "      <td>[ 0  1  2  4  5  7  8  9 10 11 12 13 14 15 16 ...</td>\n",
       "      <td>[0. 0. 0. ... 0. 0. 0.]</td>\n",
       "      <td>[  0.         117.31686667 117.36586667 ... 74...</td>\n",
       "      <td>[7145 7225 7233 ... 6729 6729 6737]</td>\n",
       "      <td>[6545 6537 6537 ... 9066 9074 9074]</td>\n",
       "      <td>[6489 6481 6497 ... 6329 6329 6329]</td>\n",
       "      <td>651.8 679.1 464.1 650.0 771.2 582.4 680.0 454....</td>\n",
       "      <td>449.2 424.1 805.2 771.9 807.2 459.4 862.2 730....</td>\n",
       "      <td>438.9 625.5 581.6 714.1 525.8 652.6 521.6 525....</td>\n",
       "      <td>1024</td>\n",
       "      <td>608</td>\n",
       "      <td>531</td>\n",
       "    </tr>\n",
       "    <tr>\n",
       "      <th>0190926</th>\n",
       "      <td>0</td>\n",
       "      <td>RM16</td>\n",
       "      <td>S3</td>\n",
       "      <td>/home/pns/rat_reaching/scripts/9pt_pidiv3_cone...</td>\n",
       "      <td>[ 19.21974996  19.23674992  19.24974993 ... 67...</td>\n",
       "      <td>[ 70.88374999  82.31874993  91.95474985  98.96...</td>\n",
       "      <td>[ 76.14474991  86.32075003  95.96175006 102.08...</td>\n",
       "      <td>[ 0  3  4  5  6  7  8  9 10 13 14 15 16 17 18 ...</td>\n",
       "      <td>[0. 0. 0. ... 0. 0. 0.]</td>\n",
       "      <td>[  0.          73.20133333  73.23786667 ... 66...</td>\n",
       "      <td>[5705 5689 5665 ... 8858 8842 8850]</td>\n",
       "      <td>[6961 6977 6993 ... 6905 6905 6897]</td>\n",
       "      <td>[7561 7577 7561 ... 4849 4841 4833]</td>\n",
       "      <td>651.8 679.1 464.1 650.0 771.2 582.4 680.0 454....</td>\n",
       "      <td>449.2 424.1 805.2 771.9 807.2 459.4 862.2 730....</td>\n",
       "      <td>438.9 625.5 581.6 714.1 525.8 652.6 521.6 525....</td>\n",
       "      <td>1024</td>\n",
       "      <td>608</td>\n",
       "      <td>531</td>\n",
       "    </tr>\n",
       "    <tr>\n",
       "      <th>0190928</th>\n",
       "      <td>0</td>\n",
       "      <td>RM16</td>\n",
       "      <td>S2</td>\n",
       "      <td>/home/pns/rat_reaching/scripts/9pt_pidiv3_cone...</td>\n",
       "      <td>[  19.16136669   19.17836665   19.19036674 ......</td>\n",
       "      <td>[  50.55036663   75.94636678   96.7223668   11...</td>\n",
       "      <td>[  54.5513668    79.94836663  100.69736671  11...</td>\n",
       "      <td>[ 2  3  5  6  7  8  9 10 11 12 13 14 15 16 17 ...</td>\n",
       "      <td>[0. 0. 0. ... 0. 0. 0.]</td>\n",
       "      <td>[   0.           80.33346667   80.3669     ......</td>\n",
       "      <td>[3192 3208 3208 ... 5633 5641 5633]</td>\n",
       "      <td>[6521 6529 6537 ... 6345 6361 6361]</td>\n",
       "      <td>[5281 5297 5297 ... 4032 4032 4016]</td>\n",
       "      <td>651.8 679.1 464.1 650.0 771.2 582.4 680.0 454....</td>\n",
       "      <td>449.2 424.1 805.2 771.9 807.2 459.4 862.2 730....</td>\n",
       "      <td>438.9 625.5 581.6 714.1 525.8 652.6 521.6 525....</td>\n",
       "      <td>1024</td>\n",
       "      <td>608</td>\n",
       "      <td>531</td>\n",
       "    </tr>\n",
       "  </tbody>\n",
       "</table>\n",
       "</div>"
      ],
      "text/plain": [
       "         Unnamed: 0   rat   S  \\\n",
       "Date                            \n",
       "0190926           0  RM16  S2   \n",
       "0190926           0  RM16  S1   \n",
       "0190926           0  RM16  S4   \n",
       "0190926           0  RM16  S3   \n",
       "0190928           0  RM16  S2   \n",
       "\n",
       "                                                       dim  \\\n",
       "Date                                                         \n",
       "0190926  /home/pns/rat_reaching/scripts/9pt_pidiv3_cone...   \n",
       "0190926  /home/pns/rat_reaching/scripts/9pt_pidiv3_cone...   \n",
       "0190926  /home/pns/rat_reaching/scripts/9pt_pidiv3_cone...   \n",
       "0190926  /home/pns/rat_reaching/scripts/9pt_pidiv3_cone...   \n",
       "0190928  /home/pns/rat_reaching/scripts/9pt_pidiv3_cone...   \n",
       "\n",
       "                                                      time  \\\n",
       "Date                                                         \n",
       "0190926  [ 19.01139986  19.05139983  19.07639992 ... 68...   \n",
       "0190926  [ 20.06564992  20.11265009  20.13365    ... 68...   \n",
       "0190926  [ 19.1802167   19.19621673  19.2492167  ... 77...   \n",
       "0190926  [ 19.21974996  19.23674992  19.24974993 ... 67...   \n",
       "0190928  [  19.16136669   19.17836665   19.19036674 ......   \n",
       "\n",
       "                                                   m_start  \\\n",
       "Date                                                         \n",
       "0190926  [ 78.22839987  92.3313998   98.89239991 109.91...   \n",
       "0190926  [ 71.68464988 112.41764992 183.50765007 211.47...   \n",
       "0190926  [116.13121667 125.17821684 134.28621664 142.18...   \n",
       "0190926  [ 70.88374999  82.31874993  91.95474985  98.96...   \n",
       "0190928  [  50.55036663   75.94636678   96.7223668   11...   \n",
       "\n",
       "                                                    m_stop  \\\n",
       "Date                                                         \n",
       "0190926  [ 82.15740001  95.87839997 102.88239992 113.91...   \n",
       "0190926  [ 75.69064992 116.19565004 187.50765007 215.48...   \n",
       "0190926  [120.13221684 128.41921678 138.28721681 146.19...   \n",
       "0190926  [ 76.14474991  86.32075003  95.96175006 102.08...   \n",
       "0190928  [  54.5513668    79.94836663  100.69736671  11...   \n",
       "\n",
       "                                                        SF  \\\n",
       "Date                                                         \n",
       "0190926  [ 0  1  2  4  5  7  9 11 12 13 14 15 16 17 18 ...   \n",
       "0190926           [ 1  2  3  5  7  8  9 10 11 13 15 16 20]   \n",
       "0190926  [ 0  1  2  4  5  7  8  9 10 11 12 13 14 15 16 ...   \n",
       "0190926  [ 0  3  4  5  6  7  8  9 10 13 14 15 16 17 18 ...   \n",
       "0190928  [ 2  3  5  6  7  8  9 10 11 12 13 14 15 16 17 ...   \n",
       "\n",
       "                             t_m  \\\n",
       "Date                               \n",
       "0190926  [0. 0. 0. ... 0. 0. 0.]   \n",
       "0190926  [0. 0. 0. ... 0. 0. 0.]   \n",
       "0190926  [0. 0. 0. ... 0. 0. 0.]   \n",
       "0190926  [0. 0. 0. ... 0. 0. 0.]   \n",
       "0190928  [0. 0. 0. ... 0. 0. 0.]   \n",
       "\n",
       "                                                      lick  \\\n",
       "Date                                                         \n",
       "0190926  [  0.          79.26013333  79.26333333 ... 67...   \n",
       "0190926  [  0.         113.19493333 113.19866667 113.48...   \n",
       "0190926  [  0.         117.31686667 117.36586667 ... 74...   \n",
       "0190926  [  0.          73.20133333  73.23786667 ... 66...   \n",
       "0190928  [   0.           80.33346667   80.3669     ......   \n",
       "\n",
       "                                         r_x  \\\n",
       "Date                                           \n",
       "0190926  [6897 6865 6881 ... 6313 6297 6305]   \n",
       "0190926  [4777 4793 4793 ... 7009 7017 7025]   \n",
       "0190926  [7145 7225 7233 ... 6729 6729 6737]   \n",
       "0190926  [5705 5689 5665 ... 8858 8842 8850]   \n",
       "0190928  [3192 3208 3208 ... 5633 5641 5633]   \n",
       "\n",
       "                                         r_y  \\\n",
       "Date                                           \n",
       "0190926  [7425 7409 7433 ... 5713 5697 5697]   \n",
       "0190926  [4961 4929 4969 ... 4937 4945 4937]   \n",
       "0190926  [6545 6537 6537 ... 9066 9074 9074]   \n",
       "0190926  [6961 6977 6993 ... 6905 6905 6897]   \n",
       "0190928  [6521 6529 6537 ... 6345 6361 6361]   \n",
       "\n",
       "                                         r_z  \\\n",
       "Date                                           \n",
       "0190926  [7145 7089 7089 ... 7025 7049 7025]   \n",
       "0190926  [5889 5857 5889 ... 4465 4465 4465]   \n",
       "0190926  [6489 6481 6497 ... 6329 6329 6329]   \n",
       "0190926  [7561 7577 7561 ... 4849 4841 4833]   \n",
       "0190928  [5281 5297 5297 ... 4032 4032 4016]   \n",
       "\n",
       "                                                       x_p  \\\n",
       "Date                                                         \n",
       "0190926  651.8 679.1 464.1 650.0 771.2 582.4 680.0 454....   \n",
       "0190926  651.8 679.1 464.1 650.0 771.2 582.4 680.0 454....   \n",
       "0190926  651.8 679.1 464.1 650.0 771.2 582.4 680.0 454....   \n",
       "0190926  651.8 679.1 464.1 650.0 771.2 582.4 680.0 454....   \n",
       "0190928  651.8 679.1 464.1 650.0 771.2 582.4 680.0 454....   \n",
       "\n",
       "                                                       y_p  \\\n",
       "Date                                                         \n",
       "0190926  449.2 424.1 805.2 771.9 807.2 459.4 862.2 730....   \n",
       "0190926  449.2 424.1 805.2 771.9 807.2 459.4 862.2 730....   \n",
       "0190926  449.2 424.1 805.2 771.9 807.2 459.4 862.2 730....   \n",
       "0190926  449.2 424.1 805.2 771.9 807.2 459.4 862.2 730....   \n",
       "0190928  449.2 424.1 805.2 771.9 807.2 459.4 862.2 730....   \n",
       "\n",
       "                                                       z_p    x0   y0   z0  \n",
       "Date                                                                        \n",
       "0190926  438.9 625.5 581.6 714.1 525.8 652.6 521.6 525....  1024  608  531  \n",
       "0190926  438.9 625.5 581.6 714.1 525.8 652.6 521.6 525....  1024  608  531  \n",
       "0190926  438.9 625.5 581.6 714.1 525.8 652.6 521.6 525....  1024  608  531  \n",
       "0190926  438.9 625.5 581.6 714.1 525.8 652.6 521.6 525....  1024  608  531  \n",
       "0190928  438.9 625.5 581.6 714.1 525.8 652.6 521.6 525....  1024  608  531  "
      ]
     },
     "execution_count": 4,
     "metadata": {},
     "output_type": "execute_result"
    }
   ],
   "source": [
    "# for item in session, sort by date, plot each S as a red unit and F as a blue unit\n",
    "S_F_16 = df.loc[df['rat'] == 'RM16'].set_index(['Date'])\n",
    "S_F_16.head()\n",
    "#df.columns"
   ]
  },
  {
   "cell_type": "code",
   "execution_count": 21,
   "metadata": {},
   "outputs": [
    {
     "data": {
      "image/png": "[encoded data removed]",
      "text/plain": [
       "<Figure size 432x288 with 1 Axes>"
      ]
     },
     "metadata": {
      "needs_background": "light"
     },
     "output_type": "display_data"
    }
   ],
   "source": [
    "index_total=[]\n",
    "trial_percent_total=[]\n",
    "for index, row in S_F_16.iterrows():\n",
    "    row.head()\n",
    "    calc_row = row['SF']\n",
    "    amt_trials = len(row['m_start'])\n",
    "    s_trials = len(calc_row)\n",
    "    trial_percent = s_trials / amt_trials\n",
    "    trial_percent_total.append(trial_percent)\n",
    "    index_total.append(str(index).split('9')[2])\n",
    "# clean up data\n",
    "#trial_percent_total=np.asarray(trial_percent_total)\n",
    "#index_total=np.asarray(index_total)\n",
    "array_16_sf=np.concatenate((np.asarray(trial_percent_total),np.asarray(index_total)),axis=0)    \n",
    "plt.plot(index_total,trial_percent_total, label=index)\n",
    "plt.show()"
   ]
  },
  {
   "cell_type": "code",
   "execution_count": 35,
   "metadata": {},
   "outputs": [
    {
     "data": {
      "text/plain": [
       "<matplotlib.collections.PathCollection at 0x2703afb0208>"
      ]
     },
     "execution_count": 35,
     "metadata": {},
     "output_type": "execute_result"
    },
    {
     "data": {
      "image/png": "[encoded data removed]",
      "text/plain": [
       "<Figure size 432x288 with 1 Axes>"
      ]
     },
     "metadata": {
      "needs_background": "light"
     },
     "output_type": "display_data"
    }
   ],
   "source": [
    "fig, ax = plt.subplots()\n",
    "\n",
    "colors = {'26':'red', '27':'blue', '28':'green', '25':'black', '17':'black', '18':'red','1':'blue','20':'green'}\n",
    "\n",
    "#ax.scatter(np.asarray(index_total),np.asarray(trial_percent_total) ,\n",
    "          # c=np.asarray(index_total).apply(lambda x: colors[x]))\n",
    "#ax.scatter(S_F_16.index.get_level_values(0), np.asarray(trial_percent_total),cmap='jet')"
   ]
  },
  {
   "cell_type": "code",
   "execution_count": 39,
   "metadata": {},
   "outputs": [
    {
     "data": {
      "image/png": "[encoded data removed]",
      "text/plain": [
       "<Figure size 432x288 with 1 Axes>"
      ]
     },
     "metadata": {
      "needs_background": "light"
     },
     "output_type": "display_data"
    }
   ],
   "source": [
    "import seaborn as sns\n",
    "#ax = sns.stripplot(x=\"day\", y=\"Success Rate\", data=[array_16_sf.astype(np.float)])\n",
    "plot_df = pd.DataFrame({'Total': trial_percent_total, 'Date': index_total})\n",
    "ax = sns.stripplot(x=\"Date\", y=\"Total\", data=plot_df)\n"
   ]
  },
  {
   "cell_type": "code",
   "execution_count": null,
   "metadata": {},
   "outputs": [],
   "source": [
    "ax = sns.stripplot(x=\"Date\", y=\"Total\", data=plot_df)"
   ]
  },
  {
   "cell_type": "code",
   "execution_count": 125,
   "metadata": {},
   "outputs": [
    {
     "name": "stdout",
     "output_type": "stream",
     "text": [
      "39\n",
      "81\n"
     ]
    },
    {
     "data": {
      "text/plain": [
       "Text(0.5, 1.0, 'Success and Fail Rates for Pilot Experiments 09/2019')"
      ]
     },
     "execution_count": 125,
     "metadata": {},
     "output_type": "execute_result"
    },
    {
     "data": {
      "image/png": "[encoded data removed]",
      "text/plain": [
       "<Figure size 1152x720 with 1 Axes>"
      ]
     },
     "metadata": {
      "needs_background": "light"
     },
     "output_type": "display_data"
    }
   ],
   "source": [
    "# Code for all rat S/F visualizations\n",
    "def return_plotting_arrays(df):\n",
    "    trial_percent_total=[]\n",
    "    index_total=[]\n",
    "    rat_total=[]\n",
    "    datelist = ['17','18','19','20','25','26','27','28']\n",
    "    for index, row in df.iterrows():\n",
    "        calc_row = row['SF']\n",
    "        rat = row['rat']\n",
    "        amt_trials = len(row['m_start'])\n",
    "        s_trials = len(calc_row)\n",
    "        trial_percent = s_trials / amt_trials\n",
    "        if trial_percent > 0.99:\n",
    "            print(index)\n",
    "            continue\n",
    "        else:\n",
    "            trial_percent_total.append(trial_percent)\n",
    "            if '_' in row['Date']:\n",
    "                index_total.append((row['Date'])[-3:-1])\n",
    "            else:\n",
    "                index_total.append((row['Date'])[-2:])\n",
    "            rat_total.append(rat)\n",
    "    df = pd.DataFrame({'Total':np.asarray(trial_percent_total), 'Date': index_total, 'Rat': rat_total})\n",
    "    return df\n",
    "v_df=return_plotting_arrays(df)\n",
    "plt.figure(figsize=(16,10))\n",
    "\n",
    "ax = sns.stripplot(x=\"Date\", y=\"Total\", hue='Rat', data=v_df, palette=\"muted\")\n",
    "ax.set_title('Success and Fail Rates for Pilot Experiments 09/2019')\n",
    "#plt.savefig('SF_initial_8_6.png')"
   ]
  },
  {
   "cell_type": "markdown",
   "metadata": {},
   "source": [
    "### I need to seperate attempted trials from failed trials, there are trials with no reaching attempts that need to be gotten rid of. Using kinematic data will help, also use robot moving data. Ask: within a trial, is there robot movement?"
   ]
  },
  {
   "cell_type": "code",
   "execution_count": 127,
   "metadata": {},
   "outputs": [],
   "source": [
    "xp=df['x_p']\n",
    "#m=np.asarray(xp[0], dtype=np.float)\n",
    "\n",
    "# syntax to split and add commas\n",
    "# asarray(str(df).split())"
   ]
  },
  {
   "cell_type": "code",
   "execution_count": 137,
   "metadata": {},
   "outputs": [
    {
     "data": {
      "text/plain": [
       "array(['0', '655.4', '916.8', '916.8', '655.4', '655.4', '655.4', '916.8',\n",
       "       '655....', '1', '614.4', '614.4', '614.4', '614.4', '614.4',\n",
       "       '614.4', '614.4', '614....', '2', '655.4', '916.8', '916.8',\n",
       "       '655.4', '655.4', '655.4', '916.8', '655....', '3', '655.4',\n",
       "       '916.8', '916.8', '655.4', '655.4', '655.4', '916.8', '655....',\n",
       "       '4', '655.4', '916.8', '916.8', '655.4', '655.4', '655.4', '916.8',\n",
       "       '655....', '...', '207', '655.4', '916.8', '916.8', '655.4',\n",
       "       '655.4', '655.4', '916.8', '655....', '208', '655.4', '916.8',\n",
       "       '916.8', '655.4', '655.4', '655.4', '916.8', '655....', '209',\n",
       "       '655.4', '916.8', '916.8', '655.4', '655.4', '655.4', '916.8',\n",
       "       '655....', '210', '655.4', '916.8', '916.8', '655.4', '655.4',\n",
       "       '655.4', '916.8', '655....', '211', '655.4', '916.8', '916.8',\n",
       "       '655.4', '655.4', '655.4', '916.8', '655....', 'Name:', 'x_p,',\n",
       "       'Length:', '212,', 'dtype:', 'object'], dtype='<U7')"
      ]
     },
     "execution_count": 137,
     "metadata": {},
     "output_type": "execute_result"
    }
   ],
   "source": []
  }
 ],
 "metadata": {
  "kernelspec": {
   "display_name": "Python 3",
   "language": "python",
   "name": "python3"
  },
  "language_info": {
   "codemirror_mode": {
    "name": "ipython",
    "version": 3
   },
   "file_extension": ".py",
   "mimetype": "text/x-python",
   "name": "python",
   "nbconvert_exporter": "python",
   "pygments_lexer": "ipython3",
   "version": "3.6.10"
  }
 },
 "nbformat": 4,
 "nbformat_minor": 4
}
